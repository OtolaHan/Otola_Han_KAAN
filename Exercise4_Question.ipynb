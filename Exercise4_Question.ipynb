{
  "nbformat": 4,
  "nbformat_minor": 0,
  "metadata": {
    "coursera": {
      "course_slug": "introduction-tensorflow",
      "graded_item_id": "1kAlw",
      "launcher_item_id": "PNLYD"
    },
    "kernelspec": {
      "display_name": "Python 3",
      "language": "python",
      "name": "python3"
    },
    "language_info": {
      "codemirror_mode": {
        "name": "ipython",
        "version": 3
      },
      "file_extension": ".py",
      "mimetype": "text/x-python",
      "name": "python",
      "nbconvert_exporter": "python",
      "pygments_lexer": "ipython3",
      "version": "3.6.8"
    },
    "colab": {
      "name": "Exercise4-Question.ipynb",
      "provenance": [],
      "include_colab_link": true
    }
  },
  "cells": [
    {
      "cell_type": "markdown",
      "metadata": {
        "id": "view-in-github",
        "colab_type": "text"
      },
      "source": [
        "<a href=\"https://colab.research.google.com/github/OtolaHan/Otola_Han_KAAN/blob/main/Exercise4_Question.ipynb\" target=\"_parent\"><img src=\"https://colab.research.google.com/assets/colab-badge.svg\" alt=\"Open In Colab\"/></a>"
      ]
    },
    {
      "cell_type": "markdown",
      "metadata": {
        "id": "UncprnB0ymAE"
      },
      "source": [
        "Ниже приведен код со ссылкой на набор данных «happy» или «sad», содержащий 80 изображений, 40 счастливых и 40 грустных.\n",
        "Создайте сверточную нейронную сеть, которая обучается со 100% точностью на этих изображениях, с отменой обучения при достижении точности обучения .999"
      ]
    },
    {
      "cell_type": "code",
      "metadata": {
        "id": "-ALIEF4A2tTr",
        "outputId": "2acb2899-fe70-4380-9ab3-bdec3dd0b0ce",
        "colab": {
          "base_uri": "https://localhost:8080/"
        }
      },
      "source": [
        "import tensorflow as tf\n",
        "import os\n",
        "import zipfile\n",
        "#\n",
        "!wget --no-check-certificate \"https://github.com/andrew-veriga/Tensorflow-labs/raw/master/happy-or-sad.zip\" \\\n",
        "   -O \"/tmp/happy-or-sad.zip\"\n"
      ],
      "execution_count": 1,
      "outputs": [
        {
          "output_type": "stream",
          "name": "stdout",
          "text": [
            "--2024-02-26 16:27:18--  https://github.com/andrew-veriga/Tensorflow-labs/raw/master/happy-or-sad.zip\n",
            "Resolving github.com (github.com)... 140.82.113.4\n",
            "Connecting to github.com (github.com)|140.82.113.4|:443... connected.\n",
            "HTTP request sent, awaiting response... 302 Found\n",
            "Location: https://raw.githubusercontent.com/andrew-veriga/Tensorflow-labs/master/happy-or-sad.zip [following]\n",
            "--2024-02-26 16:27:18--  https://raw.githubusercontent.com/andrew-veriga/Tensorflow-labs/master/happy-or-sad.zip\n",
            "Resolving raw.githubusercontent.com (raw.githubusercontent.com)... 185.199.109.133, 185.199.110.133, 185.199.108.133, ...\n",
            "Connecting to raw.githubusercontent.com (raw.githubusercontent.com)|185.199.109.133|:443... connected.\n",
            "HTTP request sent, awaiting response... 200 OK\n",
            "Length: 2670333 (2.5M) [application/zip]\n",
            "Saving to: ‘/tmp/happy-or-sad.zip’\n",
            "\n",
            "/tmp/happy-or-sad.z 100%[===================>]   2.55M  --.-KB/s    in 0.08s   \n",
            "\n",
            "2024-02-26 16:27:19 (31.4 MB/s) - ‘/tmp/happy-or-sad.zip’ saved [2670333/2670333]\n",
            "\n"
          ]
        }
      ]
    },
    {
      "cell_type": "code",
      "source": [
        "\n",
        "zip_ref = zipfile.ZipFile(\"/tmp/happy-or-sad.zip\", 'r')\n",
        "zip_ref.extractall(\"/tmp/h-or-s\")\n",
        "zip_ref.close()\n",
        "\n",
        "import os\n",
        "\n",
        "train_happy_dir = os.path.join('/tmp/h-or-s/happy')\n",
        "\n",
        "train_sad_dir = os.path.join('/tmp/h-or-s/sad')\n",
        "\n",
        "train_happy_names = os.listdir(train_happy_dir)\n",
        "print(train_happy_names[:10])\n",
        "\n",
        "train_sad_names = os.listdir(train_sad_dir)\n",
        "print(train_sad_names[:10])"
      ],
      "metadata": {
        "id": "sv4QjJ3MKOfn",
        "outputId": "ce3158cb-62eb-450a-a5ba-faa4d4f45677",
        "colab": {
          "base_uri": "https://localhost:8080/"
        }
      },
      "execution_count": 2,
      "outputs": [
        {
          "output_type": "stream",
          "name": "stdout",
          "text": [
            "['happy2-05.png', 'happy2-04.png', 'happy2-17.png', 'happy1-18.png', 'happy2-16.png', 'happy1-12.png', 'happy1-14.png', 'happy1-03.png', 'happy1-05.png', 'happy2-11.png']\n",
            "['sad1-16.png', 'sad2-02.png', 'sad2-15.png', 'sad1-08.png', 'sad1-18.png', 'sad1-15.png', 'sad1-06.png', 'sad1-00.png', 'sad2-10.png', 'sad2-07.png']\n"
          ]
        }
      ]
    },
    {
      "cell_type": "code",
      "metadata": {
        "id": "11_S4Hd66Lqd",
        "outputId": "244fd34a-88ba-4d13-ab97-cf3df16352c2",
        "colab": {
          "base_uri": "https://localhost:8080/"
        }
      },
      "source": [
        "import os\n",
        "\n",
        "train_happy_dir = os.path.join('/tmp/h-or-s/happy')\n",
        "\n",
        "train_sad_dir = os.path.join('/tmp/h-or-s/sad')\n",
        "\n",
        "train_happy_names = os.listdir(train_happy_dir)\n",
        "print(train_happy_names[:10])\n",
        "\n",
        "train_sad_names = os.listdir(train_sad_dir)\n",
        "print(train_sad_names[:10])"
      ],
      "execution_count": 5,
      "outputs": [
        {
          "output_type": "stream",
          "name": "stdout",
          "text": [
            "['happy2-05.png', 'happy2-04.png', 'happy2-17.png', 'happy1-18.png', 'happy2-16.png', 'happy1-12.png', 'happy1-14.png', 'happy1-03.png', 'happy1-05.png', 'happy2-11.png']\n",
            "['sad1-16.png', 'sad2-02.png', 'sad2-15.png', 'sad1-08.png', 'sad1-18.png', 'sad1-15.png', 'sad1-06.png', 'sad1-00.png', 'sad2-10.png', 'sad2-07.png']\n"
          ]
        }
      ]
    },
    {
      "cell_type": "code",
      "metadata": {
        "id": "5gZoRjft2tTw",
        "outputId": "d82b4364-ea3c-467a-dbae-a3100bf8b8f6",
        "colab": {
          "base_uri": "https://localhost:8080/"
        }
      },
      "source": [
        "\n",
        "DESIRED_ACCURACY = 0.999\n",
        "\n",
        "class myCallback(tf.keras.callbacks.Callback):\n",
        "       def on_epoch_end(self, epoch, logs={}):\n",
        "        if(logs.get('accuracy') > 0.999):\n",
        "            print(\"\\nДостигнута точность 99.9%, обучение прерывается!\")\n",
        "            self.model.stop_training = True\n",
        "\n",
        "\n",
        "callbacks = myCallback()\n",
        "\n",
        "# Этот блок кода должен задать и скомпилировать модель. Пожалуйста, имейте в виду, что размер изображений 150 X 150\n",
        "model = tf.keras.models.Sequential([\n",
        "    tf.keras.layers.Conv2D(16, (3,3), activation='relu', input_shape=(150, 150, 3)),\n",
        "    tf.keras.layers.MaxPooling2D(2, 2),\n",
        "    tf.keras.layers.Conv2D(32, (3,3), activation='relu'),\n",
        "    tf.keras.layers.MaxPooling2D(2,2),\n",
        "    tf.keras.layers.Conv2D(64, (3,3), activation='relu'),\n",
        "    tf.keras.layers.MaxPooling2D(2,2),\n",
        "    tf.keras.layers.Flatten(),\n",
        "    tf.keras.layers.Dense(512, activation='relu'),\n",
        "    tf.keras.layers.Dense(1, activation='sigmoid')\n",
        "])\n",
        "\n",
        "from tensorflow.keras.optimizers import RMSprop\n",
        "\n",
        "model.compile(loss='binary_crossentropy',\n",
        "              optimizer=RMSprop(lr=0.001),\n",
        "              metrics=['accuracy'])\n",
        "\n",
        "\n",
        "  # Этот блок кода должен создать экземпляр ImageDataGenerator с именем train_datagen\n",
        "  # и train_generator, вызовом train_datagen.flow_from_directory\n",
        "\n",
        "from tensorflow.keras.preprocessing.image import ImageDataGenerator\n",
        "\n",
        "train_datagen = ImageDataGenerator(rescale=1/255)\n",
        "\n",
        "# Используйте target_size  150 X 150.\n",
        "train_generator = train_datagen.flow_from_directory(\n",
        "   '/tmp/h-or-s/',\n",
        "        target_size=(150, 150),\n",
        "        batch_size=10,\n",
        "        class_mode='binary')\n",
        "# ожидаемая строка вывода: 'Found 80 images belonging to 2 classes'\n",
        "\n",
        "# model fitting\n",
        "history = model.fit(\n",
        "      train_generator,\n",
        "      steps_per_epoch=8,\n",
        "      epochs=20,\n",
        "      verbose=1,\n",
        "      callbacks=[callbacks])\n",
        "# ожидаемая строка вывода: \"Достигнута точность 99.9%, обучение прерывается!\"\n"
      ],
      "execution_count": 6,
      "outputs": [
        {
          "output_type": "stream",
          "name": "stderr",
          "text": [
            "WARNING:absl:`lr` is deprecated in Keras optimizer, please use `learning_rate` or use the legacy optimizer, e.g.,tf.keras.optimizers.legacy.RMSprop.\n"
          ]
        },
        {
          "output_type": "stream",
          "name": "stdout",
          "text": [
            "Found 80 images belonging to 2 classes.\n",
            "Epoch 1/20\n",
            "8/8 [==============================] - 3s 284ms/step - loss: 3.0207 - accuracy: 0.5750\n",
            "Epoch 2/20\n",
            "8/8 [==============================] - 2s 279ms/step - loss: 0.5239 - accuracy: 0.7250\n",
            "Epoch 3/20\n",
            "8/8 [==============================] - 3s 433ms/step - loss: 0.3739 - accuracy: 0.8250\n",
            "Epoch 4/20\n",
            "8/8 [==============================] - 2s 285ms/step - loss: 0.1876 - accuracy: 0.9250\n",
            "Epoch 5/20\n",
            "8/8 [==============================] - 2s 282ms/step - loss: 0.1818 - accuracy: 0.9125\n",
            "Epoch 6/20\n",
            "8/8 [==============================] - 2s 278ms/step - loss: 0.1253 - accuracy: 0.9750\n",
            "Epoch 7/20\n",
            "8/8 [==============================] - 2s 286ms/step - loss: 0.0656 - accuracy: 0.9750\n",
            "Epoch 8/20\n",
            "8/8 [==============================] - 3s 433ms/step - loss: 0.1003 - accuracy: 0.9625\n",
            "Epoch 9/20\n",
            "8/8 [==============================] - 2s 278ms/step - loss: 0.0276 - accuracy: 0.9875\n",
            "Epoch 10/20\n",
            "8/8 [==============================] - 2s 288ms/step - loss: 0.0373 - accuracy: 0.9875\n",
            "Epoch 11/20\n",
            "8/8 [==============================] - 2s 289ms/step - loss: 0.0416 - accuracy: 0.9875\n",
            "Epoch 12/20\n",
            "8/8 [==============================] - ETA: 0s - loss: 0.0067 - accuracy: 1.0000\n",
            "Достигнута точность 99.9%, обучение прерывается!\n",
            "8/8 [==============================] - 3s 408ms/step - loss: 0.0067 - accuracy: 1.0000\n"
          ]
        }
      ]
    },
    {
      "cell_type": "code",
      "metadata": {
        "id": "XtZC9HlK2tTz"
      },
      "source": [],
      "execution_count": null,
      "outputs": []
    }
  ]
}