{
  "nbformat": 4,
  "nbformat_minor": 0,
  "metadata": {
    "colab": {
      "provenance": [],
      "include_colab_link": true
    },
    "kernelspec": {
      "name": "python3",
      "display_name": "Python 3"
    },
    "language_info": {
      "name": "python"
    }
  },
  "cells": [
    {
      "cell_type": "markdown",
      "metadata": {
        "id": "view-in-github",
        "colab_type": "text"
      },
      "source": [
        "<a href=\"https://colab.research.google.com/github/OtolaHan/Otola_Han_KAAN/blob/main/L_3_data_mining_5_ru.ipynb\" target=\"_parent\"><img src=\"https://colab.research.google.com/assets/colab-badge.svg\" alt=\"Open In Colab\"/></a>"
      ]
    },
    {
      "cell_type": "code",
      "execution_count": 53,
      "metadata": {
        "id": "71ANq_LyXHdB"
      },
      "outputs": [],
      "source": [
        "# categories\n",
        "categories = ['alt.atheism', 'soc.religion.christian', 'comp.graphics', 'sci.med']"
      ]
    },
    {
      "cell_type": "code",
      "execution_count": 54,
      "metadata": {
        "id": "dmBQufHfXHdB"
      },
      "outputs": [],
      "source": [
        "# obtain the documents containing the categories provided\n",
        "from sklearn.datasets import fetch_20newsgroups\n",
        "\n",
        "twenty_train = fetch_20newsgroups(subset='train', categories=categories, \\\n",
        "                                  shuffle=True, random_state=42)"
      ]
    },
    {
      "cell_type": "code",
      "source": [
        "import nltk\n",
        "\n",
        "\n",
        "\n",
        "def format_rows(docs):\n",
        "    \"\"\" format the text field and strip special characters \"\"\"\n",
        "    D = []\n",
        "    for d in docs.data:\n",
        "        temp_d = \" \".join(d.split(\"\\n\")).strip('\\n\\t')\n",
        "        D.append([temp_d])\n",
        "    return D\n",
        "\n",
        "def format_labels(target, docs):\n",
        "    \"\"\" format the labels \"\"\"\n",
        "    return docs.target_names[target]\n",
        "\n",
        "def check_missing_values(row):\n",
        "    \"\"\" functions that check and verifies if there are missing values in dataframe \"\"\"\n",
        "    counter = 0\n",
        "    for element in row:\n",
        "        if element == True:\n",
        "            counter+=1\n",
        "    return (\"The amoung of missing records is: \", counter)\n",
        "\n",
        "def tokenize_text(text, remove_stopwords=False):\n",
        "    \"\"\"\n",
        "    Tokenize text using the nltk library\n",
        "    \"\"\"\n",
        "    tokens = []\n",
        "    for d in nltk.sent_tokenize(text, language='english'):\n",
        "        for word in nltk.word_tokenize(d, language='english'):\n",
        "            # filters here\n",
        "            tokens.append(word)\n",
        "    return tokens"
      ],
      "metadata": {
        "id": "JHPhjp7lzqDr"
      },
      "execution_count": 55,
      "outputs": []
    },
    {
      "cell_type": "code",
      "source": [
        "import pandas as pd\n",
        "\n",
        "# construct dataframe from a list\n",
        "X = pd.DataFrame.from_records(format_rows(twenty_train), columns= ['text'])"
      ],
      "metadata": {
        "id": "fzaiqgPWzhqe"
      },
      "execution_count": 56,
      "outputs": []
    },
    {
      "cell_type": "code",
      "execution_count": 57,
      "metadata": {
        "id": "5ZK2IHMFXHdS"
      },
      "outputs": [],
      "source": [
        "# add category to the dataframe\n",
        "X['category'] = twenty_train.target"
      ]
    },
    {
      "cell_type": "code",
      "execution_count": 58,
      "metadata": {
        "id": "r01tocgAXHdT"
      },
      "outputs": [],
      "source": [
        "# add category label also\n",
        "X['category_name'] = X.category.apply(lambda t: format_labels(t, twenty_train))"
      ]
    },
    {
      "cell_type": "markdown",
      "metadata": {
        "id": "it3fQ7orXHd2"
      },
      "source": [
        "## 5. Предварительная обработка данных\n",
        "На курсе Data Mining мы узнали о множестве способов выполнения предварительной обработки данных. В действительности, этот список довольно общий, поскольку особенности предварительной обработки данных слишком велики, чтобы их можно было охватить в одном курсе. Это особенно актуально, когда вы имеете дело с неструктурированными данными, как мы это делаем в этой конкретной записной книжке. Но давайте рассмотрим несколько примеров для каждого метода предварительной обработки данных, который мы изучили в классе. Мы рассмотрим каждый пункт по отдельности и предоставим пример кода для каждой категории. Вы узнаете, как выполнять каждую из операций с помощью Pandas, которые охватывают основы предварительной обработки в Data Mining. Мы не собираемся следовать какому-либо строгому порядку, но элементы, которые мы рассмотрим в разделе предварительной обработки этой записной книжки, следующие:\n",
        "\n",
        "- Агрегирование\n",
        "- Выборка\n",
        "- Уменьшение размерности\n",
        "- Выбор подмножества признаков\n",
        "- Создание признаков\n",
        "- Дискретизация и бинаризация\n",
        "- Преобразование атрибутов"
      ]
    },
    {
      "cell_type": "markdown",
      "metadata": {
        "id": "cVCgw__bXHd3"
      },
      "source": [
        "---"
      ]
    },
    {
      "cell_type": "markdown",
      "metadata": {
        "id": "Lh-tM0fDXHd4"
      },
      "source": [
        "### 5.1 Выборка\n",
        "Первой концепцией из вышеуказанного списка, которую мы собираемся рассмотреть, является выборка. Выборка относится к методу, используемому для выбора данных. Функциональные возможности, которые мы используем для выбора данных с помощью запросов, предоставляемых Pandas, на самом деле являются основными методами выборки. Причины для выборки иногда связаны с размером данных - мы хотим получить меньшее подмножество данных, которое по-прежнему достаточно репрезентативно по сравнению с исходным набором данных.\n",
        "\n",
        "У нас нет проблем с размером в нашем текущем наборе данных, поскольку он содержит всего несколько тысяч записей. Но если мы обратим внимание на то, сколько контента включено в поле `text` каждой из этих записей, вы поймете, что выборка все же может быть неплохой идеей. Фактически, мы уже провели некоторую выборку, просто уменьшив количество записей, которые мы используем здесь, в этой записной книжке; помните, что мы используем только четыре категории из всех 20 доступных категорий. Давайте получим представление о том, как выполнять выборку с помощью операций pandas."
      ]
    },
    {
      "cell_type": "code",
      "execution_count": null,
      "metadata": {
        "id": "6zKeEudpXHd5"
      },
      "outputs": [],
      "source": [
        "X_sample = X.sample(n=1000) #random state"
      ]
    },
    {
      "cell_type": "code",
      "execution_count": null,
      "metadata": {
        "id": "PjJdN1_TXHd6",
        "colab": {
          "base_uri": "https://localhost:8080/"
        },
        "outputId": "47a19ce5-6e7f-4645-f2ad-a4bb07481ca8"
      },
      "outputs": [
        {
          "output_type": "execute_result",
          "data": {
            "text/plain": [
              "1000"
            ]
          },
          "metadata": {},
          "execution_count": 8
        }
      ],
      "source": [
        "len(X_sample)"
      ]
    },
    {
      "cell_type": "code",
      "execution_count": null,
      "metadata": {
        "id": "oovW2HlLXHd7",
        "colab": {
          "base_uri": "https://localhost:8080/",
          "height": 175
        },
        "outputId": "875bcf8d-e577-47cc-f8ec-8baa4a0452dd"
      },
      "outputs": [
        {
          "output_type": "execute_result",
          "data": {
            "text/plain": [
              "                                                   text  category  \\\n",
              "407   From: ednclark@kraken.itc.gu.edu.au (Jeffrey C...         0   \n",
              "1254  From: keith@cco.caltech.edu (Keith Allan Schne...         0   \n",
              "1391  From: black@sybase.com (Chris Black) Subject: ...         2   \n",
              "1505  From: kimd@rs6401.ecs.rpi.edu (Daniel Chungwan...         1   \n",
              "\n",
              "      category_name  \n",
              "407     alt.atheism  \n",
              "1254    alt.atheism  \n",
              "1391        sci.med  \n",
              "1505  comp.graphics  "
            ],
            "text/html": [
              "\n",
              "  <div id=\"df-7198ad89-84b7-4092-baf6-96b5ccf44738\" class=\"colab-df-container\">\n",
              "    <div>\n",
              "<style scoped>\n",
              "    .dataframe tbody tr th:only-of-type {\n",
              "        vertical-align: middle;\n",
              "    }\n",
              "\n",
              "    .dataframe tbody tr th {\n",
              "        vertical-align: top;\n",
              "    }\n",
              "\n",
              "    .dataframe thead th {\n",
              "        text-align: right;\n",
              "    }\n",
              "</style>\n",
              "<table border=\"1\" class=\"dataframe\">\n",
              "  <thead>\n",
              "    <tr style=\"text-align: right;\">\n",
              "      <th></th>\n",
              "      <th>text</th>\n",
              "      <th>category</th>\n",
              "      <th>category_name</th>\n",
              "    </tr>\n",
              "  </thead>\n",
              "  <tbody>\n",
              "    <tr>\n",
              "      <th>407</th>\n",
              "      <td>From: ednclark@kraken.itc.gu.edu.au (Jeffrey C...</td>\n",
              "      <td>0</td>\n",
              "      <td>alt.atheism</td>\n",
              "    </tr>\n",
              "    <tr>\n",
              "      <th>1254</th>\n",
              "      <td>From: keith@cco.caltech.edu (Keith Allan Schne...</td>\n",
              "      <td>0</td>\n",
              "      <td>alt.atheism</td>\n",
              "    </tr>\n",
              "    <tr>\n",
              "      <th>1391</th>\n",
              "      <td>From: black@sybase.com (Chris Black) Subject: ...</td>\n",
              "      <td>2</td>\n",
              "      <td>sci.med</td>\n",
              "    </tr>\n",
              "    <tr>\n",
              "      <th>1505</th>\n",
              "      <td>From: kimd@rs6401.ecs.rpi.edu (Daniel Chungwan...</td>\n",
              "      <td>1</td>\n",
              "      <td>comp.graphics</td>\n",
              "    </tr>\n",
              "  </tbody>\n",
              "</table>\n",
              "</div>\n",
              "    <div class=\"colab-df-buttons\">\n",
              "\n",
              "  <div class=\"colab-df-container\">\n",
              "    <button class=\"colab-df-convert\" onclick=\"convertToInteractive('df-7198ad89-84b7-4092-baf6-96b5ccf44738')\"\n",
              "            title=\"Convert this dataframe to an interactive table.\"\n",
              "            style=\"display:none;\">\n",
              "\n",
              "  <svg xmlns=\"http://www.w3.org/2000/svg\" height=\"24px\" viewBox=\"0 -960 960 960\">\n",
              "    <path d=\"M120-120v-720h720v720H120Zm60-500h600v-160H180v160Zm220 220h160v-160H400v160Zm0 220h160v-160H400v160ZM180-400h160v-160H180v160Zm440 0h160v-160H620v160ZM180-180h160v-160H180v160Zm440 0h160v-160H620v160Z\"/>\n",
              "  </svg>\n",
              "    </button>\n",
              "\n",
              "  <style>\n",
              "    .colab-df-container {\n",
              "      display:flex;\n",
              "      gap: 12px;\n",
              "    }\n",
              "\n",
              "    .colab-df-convert {\n",
              "      background-color: #E8F0FE;\n",
              "      border: none;\n",
              "      border-radius: 50%;\n",
              "      cursor: pointer;\n",
              "      display: none;\n",
              "      fill: #1967D2;\n",
              "      height: 32px;\n",
              "      padding: 0 0 0 0;\n",
              "      width: 32px;\n",
              "    }\n",
              "\n",
              "    .colab-df-convert:hover {\n",
              "      background-color: #E2EBFA;\n",
              "      box-shadow: 0px 1px 2px rgba(60, 64, 67, 0.3), 0px 1px 3px 1px rgba(60, 64, 67, 0.15);\n",
              "      fill: #174EA6;\n",
              "    }\n",
              "\n",
              "    .colab-df-buttons div {\n",
              "      margin-bottom: 4px;\n",
              "    }\n",
              "\n",
              "    [theme=dark] .colab-df-convert {\n",
              "      background-color: #3B4455;\n",
              "      fill: #D2E3FC;\n",
              "    }\n",
              "\n",
              "    [theme=dark] .colab-df-convert:hover {\n",
              "      background-color: #434B5C;\n",
              "      box-shadow: 0px 1px 3px 1px rgba(0, 0, 0, 0.15);\n",
              "      filter: drop-shadow(0px 1px 2px rgba(0, 0, 0, 0.3));\n",
              "      fill: #FFFFFF;\n",
              "    }\n",
              "  </style>\n",
              "\n",
              "    <script>\n",
              "      const buttonEl =\n",
              "        document.querySelector('#df-7198ad89-84b7-4092-baf6-96b5ccf44738 button.colab-df-convert');\n",
              "      buttonEl.style.display =\n",
              "        google.colab.kernel.accessAllowed ? 'block' : 'none';\n",
              "\n",
              "      async function convertToInteractive(key) {\n",
              "        const element = document.querySelector('#df-7198ad89-84b7-4092-baf6-96b5ccf44738');\n",
              "        const dataTable =\n",
              "          await google.colab.kernel.invokeFunction('convertToInteractive',\n",
              "                                                    [key], {});\n",
              "        if (!dataTable) return;\n",
              "\n",
              "        const docLinkHtml = 'Like what you see? Visit the ' +\n",
              "          '<a target=\"_blank\" href=https://colab.research.google.com/notebooks/data_table.ipynb>data table notebook</a>'\n",
              "          + ' to learn more about interactive tables.';\n",
              "        element.innerHTML = '';\n",
              "        dataTable['output_type'] = 'display_data';\n",
              "        await google.colab.output.renderOutput(dataTable, element);\n",
              "        const docLink = document.createElement('div');\n",
              "        docLink.innerHTML = docLinkHtml;\n",
              "        element.appendChild(docLink);\n",
              "      }\n",
              "    </script>\n",
              "  </div>\n",
              "\n",
              "\n",
              "<div id=\"df-b9a1f9af-26f5-4ff9-9529-f3b7e0641f08\">\n",
              "  <button class=\"colab-df-quickchart\" onclick=\"quickchart('df-b9a1f9af-26f5-4ff9-9529-f3b7e0641f08')\"\n",
              "            title=\"Suggest charts\"\n",
              "            style=\"display:none;\">\n",
              "\n",
              "<svg xmlns=\"http://www.w3.org/2000/svg\" height=\"24px\"viewBox=\"0 0 24 24\"\n",
              "     width=\"24px\">\n",
              "    <g>\n",
              "        <path d=\"M19 3H5c-1.1 0-2 .9-2 2v14c0 1.1.9 2 2 2h14c1.1 0 2-.9 2-2V5c0-1.1-.9-2-2-2zM9 17H7v-7h2v7zm4 0h-2V7h2v10zm4 0h-2v-4h2v4z\"/>\n",
              "    </g>\n",
              "</svg>\n",
              "  </button>\n",
              "\n",
              "<style>\n",
              "  .colab-df-quickchart {\n",
              "      --bg-color: #E8F0FE;\n",
              "      --fill-color: #1967D2;\n",
              "      --hover-bg-color: #E2EBFA;\n",
              "      --hover-fill-color: #174EA6;\n",
              "      --disabled-fill-color: #AAA;\n",
              "      --disabled-bg-color: #DDD;\n",
              "  }\n",
              "\n",
              "  [theme=dark] .colab-df-quickchart {\n",
              "      --bg-color: #3B4455;\n",
              "      --fill-color: #D2E3FC;\n",
              "      --hover-bg-color: #434B5C;\n",
              "      --hover-fill-color: #FFFFFF;\n",
              "      --disabled-bg-color: #3B4455;\n",
              "      --disabled-fill-color: #666;\n",
              "  }\n",
              "\n",
              "  .colab-df-quickchart {\n",
              "    background-color: var(--bg-color);\n",
              "    border: none;\n",
              "    border-radius: 50%;\n",
              "    cursor: pointer;\n",
              "    display: none;\n",
              "    fill: var(--fill-color);\n",
              "    height: 32px;\n",
              "    padding: 0;\n",
              "    width: 32px;\n",
              "  }\n",
              "\n",
              "  .colab-df-quickchart:hover {\n",
              "    background-color: var(--hover-bg-color);\n",
              "    box-shadow: 0 1px 2px rgba(60, 64, 67, 0.3), 0 1px 3px 1px rgba(60, 64, 67, 0.15);\n",
              "    fill: var(--button-hover-fill-color);\n",
              "  }\n",
              "\n",
              "  .colab-df-quickchart-complete:disabled,\n",
              "  .colab-df-quickchart-complete:disabled:hover {\n",
              "    background-color: var(--disabled-bg-color);\n",
              "    fill: var(--disabled-fill-color);\n",
              "    box-shadow: none;\n",
              "  }\n",
              "\n",
              "  .colab-df-spinner {\n",
              "    border: 2px solid var(--fill-color);\n",
              "    border-color: transparent;\n",
              "    border-bottom-color: var(--fill-color);\n",
              "    animation:\n",
              "      spin 1s steps(1) infinite;\n",
              "  }\n",
              "\n",
              "  @keyframes spin {\n",
              "    0% {\n",
              "      border-color: transparent;\n",
              "      border-bottom-color: var(--fill-color);\n",
              "      border-left-color: var(--fill-color);\n",
              "    }\n",
              "    20% {\n",
              "      border-color: transparent;\n",
              "      border-left-color: var(--fill-color);\n",
              "      border-top-color: var(--fill-color);\n",
              "    }\n",
              "    30% {\n",
              "      border-color: transparent;\n",
              "      border-left-color: var(--fill-color);\n",
              "      border-top-color: var(--fill-color);\n",
              "      border-right-color: var(--fill-color);\n",
              "    }\n",
              "    40% {\n",
              "      border-color: transparent;\n",
              "      border-right-color: var(--fill-color);\n",
              "      border-top-color: var(--fill-color);\n",
              "    }\n",
              "    60% {\n",
              "      border-color: transparent;\n",
              "      border-right-color: var(--fill-color);\n",
              "    }\n",
              "    80% {\n",
              "      border-color: transparent;\n",
              "      border-right-color: var(--fill-color);\n",
              "      border-bottom-color: var(--fill-color);\n",
              "    }\n",
              "    90% {\n",
              "      border-color: transparent;\n",
              "      border-bottom-color: var(--fill-color);\n",
              "    }\n",
              "  }\n",
              "</style>\n",
              "\n",
              "  <script>\n",
              "    async function quickchart(key) {\n",
              "      const quickchartButtonEl =\n",
              "        document.querySelector('#' + key + ' button');\n",
              "      quickchartButtonEl.disabled = true;  // To prevent multiple clicks.\n",
              "      quickchartButtonEl.classList.add('colab-df-spinner');\n",
              "      try {\n",
              "        const charts = await google.colab.kernel.invokeFunction(\n",
              "            'suggestCharts', [key], {});\n",
              "      } catch (error) {\n",
              "        console.error('Error during call to suggestCharts:', error);\n",
              "      }\n",
              "      quickchartButtonEl.classList.remove('colab-df-spinner');\n",
              "      quickchartButtonEl.classList.add('colab-df-quickchart-complete');\n",
              "    }\n",
              "    (() => {\n",
              "      let quickchartButtonEl =\n",
              "        document.querySelector('#df-b9a1f9af-26f5-4ff9-9529-f3b7e0641f08 button');\n",
              "      quickchartButtonEl.style.display =\n",
              "        google.colab.kernel.accessAllowed ? 'block' : 'none';\n",
              "    })();\n",
              "  </script>\n",
              "</div>\n",
              "    </div>\n",
              "  </div>\n"
            ],
            "application/vnd.google.colaboratory.intrinsic+json": {
              "type": "dataframe",
              "summary": "{\n  \"name\": \"X_sample[0:4]\",\n  \"rows\": 4,\n  \"fields\": [\n    {\n      \"column\": \"text\",\n      \"properties\": {\n        \"dtype\": \"string\",\n        \"num_unique_values\": 4,\n        \"samples\": [\n          \"From: keith@cco.caltech.edu (Keith Allan Schneider) Subject: Re: Objective morality (was Re: <Political Atheists?) Organization: California Institute of Technology, Pasadena Lines: 74 NNTP-Posting-Host: punisher.caltech.edu  livesey@solntze.wpd.sgi.com (Jon Livesey) writes:  >I want to know how this omniscient being is going to perform >the feat of \\\"definitely\\\" terming actions right or wrong.  If you were omniscient, you'd know who exactly did what, and with what purpose in mind.  Then, with a particular goal in mind, you sould be able to methodically judge whether or not this action was in accordance with the general goal.  >>>I don't think you've show the existence of *any* objective moral system. >>They exist, but in practice, they are difficult to perfectly emulate. >>I mean, you understand the concept of an objective system, right? >I thought you were explaining it to us.   I certainly don't >understand what you are explaining.  In an objective system, there are known goals.  Then, actions are judged as either being compatible with these goals, or not.  Simple.  The problem with most systems in current practice is that the goals differ.  That is, the goals of each society are different.  Note that an objective system is not necessarily an inherent one.  >>The concept of innocence is dependent on whether certain actions are >>\\\"right\\\" or \\\"wrong,\\\" and this depends on the moral system.  But, if >>we have an objective system, then someone can be deemed innocent or >>not quite easily by an omniscient person.  Anyway, I think I cleared >>up the recursive definition of \\\"murder,\\\" because no one is complaining >>about it. >I don't think it solves anything to speculate where we would be >if we *did* have an objective moral system.  The question is >still whether you can even say what one is.  I've said it many, many times.  >And for what it's worth, I don't think you cleared up *anything* >concerning murder.  Which part do you have a problem with?  >>>What do you mean by \\\"harmed?\\\"  Is it harm if you have to spend >>>your existence metabolising food for another species? >>Oh, most moral systems would be considered only within a species.  It >>is okay for us to enslave other animals, right?  But not humans... >>Of course, ideally, perhaps we wouldn't even have to bother any other >>animals... >One the first point, it's wrong to enslave humans according to my >persoanl moral system.  On the second point, I'm a vegetarian.  But, we can enslave the animals, right?  But just not kill them?  Or are you a vegetarian for health reasons?  >So, are you a vegetarian?  No.  I fail to see how my *personal* views are relevant, anyway.  >Is it wrong to eat animals in your personal moral system?  Of course not.  It seems perfectly valid to kill members of other species for food.  It might be nice, though, if the other animals were not made to suffer.  For instance, a cow in a field lives out its life just about the same way it would in the wild.  They seem happy enough.  However, the veal youngsters aren't treated very well.  >How about an \\\"objective\\\" moral system?  I don't know.  What is the goal of this particular system?  There is no inherent system.  >How about a \\\"natural\\\" moral system.  Nope.  Again, it seems okay to kill other species for food.  keith \",\n          \"From: kimd@rs6401.ecs.rpi.edu (Daniel Chungwan Kim) Subject: WANTED: Super 8mm Projector with SOUNDS Keywords: projector Nntp-Posting-Host: rs6401.ecs.rpi.edu Lines: 9  \\tI am looking for Super 8mm Projector with SOUNDS. If anybody out there has one for sale, send email with the name of brand, condition of the projector, and price for sale to kimd@rpi.edu (IT MUST HAVE SOUND CAPABILITY)  Danny kimd@rpi.edu  \",\n          \"From: ednclark@kraken.itc.gu.edu.au (Jeffrey Clark) Subject: Re: A Little Too Satanic Nntp-Posting-Host: kraken.itc.gu.edu.au Organization: ITC, Griffith University, Brisbane, Australia Lines: 33  mangoe@cs.umd.edu (Charley Wingate) writes:  >Nanci Ann Miller writes:  >>My favorite reply to the \\\"you are being too literal-minded\\\" complaint is >>that if the bible is really inspired by God and if it is really THAT >>important to him, then he would make damn certain all the translators and >>scribes and people interpreting and copying it were getting it right, >>literally.  If not, then why should I put ANY merit at all in something >>that has been corrupted over and over and over by man even if it was >>originally inspired by God?  >The \\\"corrupted over and over\\\" theory is pretty weak.  Comparison of the >current hebrew text with old versions and translations shows that the text >has in fact changed very little over a space of some two millennia.  This >shouldn't be all that suprising; people who believe in a text in this manner >are likely to makes some pains to make good copies. >--  Do you honestly hold to that tripe Charley? For a start there are enough current versions of the Bible to make comparisons to show that what you write above is utter garbage. Witness JW, Mormon, Catholic, Anglican, and Greek Orthodox Bibles. But to really convince you I'd have to take you to a good old library. In our local library we had a 1804 King James which I compared to a brand new, hot of God's tongue Good News Bible. Genesis was almost unrecognisable, many of the discrepencies between the four gospels had been edited from the Good News Bible. In fact the God of Good News was a much more congenial fellow I must say.   If you like I'll get the 1804 King James out again and actually give you some quotes. At least the headings haven't changed much.  Jeff.  \"\n        ],\n        \"semantic_type\": \"\",\n        \"description\": \"\"\n      }\n    },\n    {\n      \"column\": \"category\",\n      \"properties\": {\n        \"dtype\": \"number\",\n        \"std\": 0,\n        \"min\": 0,\n        \"max\": 2,\n        \"num_unique_values\": 3,\n        \"samples\": [\n          0,\n          2,\n          1\n        ],\n        \"semantic_type\": \"\",\n        \"description\": \"\"\n      }\n    },\n    {\n      \"column\": \"category_name\",\n      \"properties\": {\n        \"dtype\": \"string\",\n        \"num_unique_values\": 3,\n        \"samples\": [\n          \"alt.atheism\",\n          \"sci.med\",\n          \"comp.graphics\"\n        ],\n        \"semantic_type\": \"\",\n        \"description\": \"\"\n      }\n    }\n  ]\n}"
            }
          },
          "metadata": {},
          "execution_count": 9
        }
      ],
      "source": [
        "X_sample[0:4]"
      ]
    },
    {
      "cell_type": "markdown",
      "metadata": {
        "id": "vyeV6yMwXHd8"
      },
      "source": [
        "---"
      ]
    },
    {
      "cell_type": "markdown",
      "metadata": {
        "id": "ZTMc0DNGXHd8"
      },
      "source": [
        "### >>> Упражнение 6 (на дом):\n",
        "Заметили какие-либо изменения в фрейме данных `X`? Какие они? Сообщите о каждом замеченном вами изменении по сравнению с предыдущим состоянием `X`. Не стесняйтесь запрашивать и более внимательно изучать фрейм данных на предмет этих изменений."
      ]
    },
    {
      "cell_type": "code",
      "execution_count": null,
      "metadata": {
        "id": "0O04kst1XHd8"
      },
      "outputs": [],
      "source": [
        "# Ответьте здесь\n",
        "# Основное изменение заключается в том, что X_sample теперь является меньшей, случайной выборкой из исходного фрейма данных X. Это полезно для:\n",
        "# 1) Ускорения обработки: Работа с 1000 строками быстрее, чем с полным набором данных, особенно для предварительного анализа, экспериментов или обучения моделей на меньшем масштабе.\n",
        "# 2) Разработки и тестирования: Можно быстрее разрабатывать и тестировать код обработки данных или модели машинного обучения на меньшем образце данных, прежде чем применять их к полному набору данных."
      ]
    },
    {
      "cell_type": "markdown",
      "metadata": {
        "id": "lZItTEXEXHd9"
      },
      "source": [
        "---"
      ]
    },
    {
      "cell_type": "markdown",
      "metadata": {
        "id": "mFQHkNvsXHd9"
      },
      "source": [
        "Давайте сделаем что-нибудь крутое здесь, пока мы работаем с выборкой! Давайте посмотрим на распределение категорий как в выборке, так и в исходном наборе данных. Давайте визуализируем и проанализируем различие между двумя наборами данных. Чтобы сгенерировать некоторые визуализации, мы собираемся использовать библиотеку python `matplotlib`. С matplotlib все происходит быстрее, а с точки зрения совместимости это может быть лучшая библиотека визуализации для визуализации контента, извлеченного из фреймов данных, и при использовании записных книжек Jupyter. Давайте взглянем на волшебство `matplotlib` ниже."
      ]
    },
    {
      "cell_type": "code",
      "execution_count": null,
      "metadata": {
        "id": "2p2PtGK_XHd-"
      },
      "outputs": [],
      "source": [
        "import matplotlib.pyplot as plt\n",
        "%matplotlib inline"
      ]
    },
    {
      "cell_type": "code",
      "execution_count": null,
      "metadata": {
        "id": "_SircA8AXHd-",
        "colab": {
          "base_uri": "https://localhost:8080/"
        },
        "outputId": "0ff49c2a-9f92-4998-dbee-d06c3d948bdf"
      },
      "outputs": [
        {
          "output_type": "execute_result",
          "data": {
            "text/plain": [
              "['alt.atheism', 'soc.religion.christian', 'comp.graphics', 'sci.med']"
            ]
          },
          "metadata": {},
          "execution_count": 50
        }
      ],
      "source": [
        "categories"
      ]
    },
    {
      "cell_type": "code",
      "execution_count": 59,
      "metadata": {
        "id": "1cX85op9XHd_",
        "colab": {
          "base_uri": "https://localhost:8080/",
          "height": 456
        },
        "outputId": "4cb41edd-bebf-43b5-fd8d-be6e55276cf6"
      },
      "outputs": [
        {
          "output_type": "stream",
          "name": "stdout",
          "text": [
            "category_name\n",
            "soc.religion.christian    599\n",
            "sci.med                   594\n",
            "comp.graphics             584\n",
            "alt.atheism               480\n",
            "Name: count, dtype: int64\n"
          ]
        },
        {
          "output_type": "execute_result",
          "data": {
            "text/plain": [
              "<Axes: title={'center': 'Category distribution'}, xlabel='category_name'>"
            ]
          },
          "metadata": {},
          "execution_count": 59
        },
        {
          "output_type": "display_data",
          "data": {
            "text/plain": [
              "<Figure size 800x300 with 1 Axes>"
            ],
            "image/png": "[encoded data removed]"
          },
          "metadata": {}
        }
      ],
      "source": [
        "print(X.category_name.value_counts())\n",
        "\n",
        "# plot barchart for X_sample\n",
        "X.category_name.value_counts().plot(kind = 'bar',\n",
        "                                    title = 'Category distribution',\n",
        "                                    ylim = [0, 650],\n",
        "                                    rot = 0, fontsize = 11, figsize = (8,3))"
      ]
    },
    {
      "cell_type": "code",
      "execution_count": null,
      "metadata": {
        "id": "9W-1vQZTXHd_",
        "colab": {
          "base_uri": "https://localhost:8080/",
          "height": 459
        },
        "outputId": "7bdd7388-c100-4170-9df8-e14708d69319"
      },
      "outputs": [
        {
          "output_type": "stream",
          "name": "stdout",
          "text": [
            "category_name\n",
            "soc.religion.christian    266\n",
            "sci.med                   265\n",
            "comp.graphics             257\n",
            "alt.atheism               212\n",
            "Name: count, dtype: int64\n"
          ]
        },
        {
          "output_type": "execute_result",
          "data": {
            "text/plain": [
              "<Axes: title={'center': 'Category distribution'}, xlabel='category_name'>"
            ]
          },
          "metadata": {},
          "execution_count": 43
        },
        {
          "output_type": "display_data",
          "data": {
            "text/plain": [
              "<Figure size 800x300 with 1 Axes>"
            ],
            "image/png": "[encoded data removed]"
          },
          "metadata": {}
        }
      ],
      "source": [
        "print(X_sample.category_name.value_counts())\n",
        "\n",
        "# plot barchart for X_sample\n",
        "X_sample.category_name.value_counts().plot(kind = 'bar',\n",
        "                                           title = 'Category distribution',\n",
        "                                           ylim = [0, 300],\n",
        "                                           rot = 0, fontsize = 12, figsize = (8,3))"
      ]
    },
    {
      "cell_type": "markdown",
      "metadata": {
        "id": "-9WZujswXHeA"
      },
      "source": [
        "Вы можете использовать следующую команду, чтобы увидеть другие доступные стили для украшения ваших диаграмм.\n",
        "```python\n",
        "print(plt.style.available)```"
      ]
    },
    {
      "cell_type": "markdown",
      "metadata": {
        "id": "d3ZWJKEoXHeB"
      },
      "source": [
        "---"
      ]
    },
    {
      "cell_type": "markdown",
      "metadata": {
        "id": "JQbP7HJMXHeC"
      },
      "source": [
        "### >>> **Упражнение 7 (5 мин):**\n",
        "Обратите внимание, что для параметров `ylim` мы жестко закодировали максимальное значение для y. Можно ли автоматизировать это вместо жесткого кодирования? Как бы вы это сделали? (Подсказка: посмотрите код выше, чтобы найти подсказки)"
      ]
    },
    {
      "cell_type": "code",
      "execution_count": null,
      "metadata": {
        "id": "fcBJA7JKXHeD",
        "colab": {
          "base_uri": "https://localhost:8080/",
          "height": 459
        },
        "outputId": "b66009a3-3ba6-414b-d080-724c192998cc"
      },
      "outputs": [
        {
          "output_type": "stream",
          "name": "stdout",
          "text": [
            "category_name\n",
            "soc.religion.christian    266\n",
            "sci.med                   265\n",
            "comp.graphics             257\n",
            "alt.atheism               212\n",
            "Name: count, dtype: int64\n"
          ]
        },
        {
          "output_type": "execute_result",
          "data": {
            "text/plain": [
              "<Axes: title={'center': 'Category distribution'}, xlabel='category_name'>"
            ]
          },
          "metadata": {},
          "execution_count": 42
        },
        {
          "output_type": "display_data",
          "data": {
            "text/plain": [
              "<Figure size 800x300 with 1 Axes>"
            ],
            "image/png": "[encoded data removed]"
          },
          "metadata": {}
        }
      ],
      "source": [
        "# Ответьте здесь\n",
        "upper_bound = max(X_sample.category_name.value_counts()) + 10\n",
        "\n",
        "print(X_sample.category_name.value_counts())\n",
        "\n",
        "# plot barchart for X_sample\n",
        "X_sample.category_name.value_counts().plot(kind = 'bar',\n",
        "                                           title = 'Category distribution',\n",
        "                                           ylim = [0, upper_bound],\n",
        "                                           rot = 0, fontsize = 12, figsize = (8,3))"
      ]
    },
    {
      "cell_type": "markdown",
      "metadata": {
        "id": "8Fe8sQr5XHeD"
      },
      "source": [
        "---"
      ]
    },
    {
      "cell_type": "markdown",
      "metadata": {
        "id": "tZIIj_RTXHeE"
      },
      "source": [
        "### >>> **Упражнение 8 (на дом):**\n",
        "Мы также можем выполнить сравнение распределения между двумя наборами данных рядом, но, возможно, вы можете попробовать это в качестве упражнения. Ниже мы покажем вам снимок типа диаграммы, который мы ищем."
      ]
    },
    {
      "cell_type": "markdown",
      "metadata": {
        "id": "Dy04Iop1XHeE"
      },
      "source": [
        "![alt txt](https://i.imgur.com/9eO431H.png)"
      ]
    },
    {
      "cell_type": "code",
      "execution_count": null,
      "metadata": {
        "id": "OfOjP5SZXHeF",
        "colab": {
          "base_uri": "https://localhost:8080/",
          "height": 564
        },
        "outputId": "cd8cb5a5-1692-4369-ed8f-fdac033c04ec"
      },
      "outputs": [
        {
          "output_type": "display_data",
          "data": {
            "text/plain": [
              "<Figure size 1000x600 with 1 Axes>"
            ],
            "image/png": "[encoded data removed]"
          },
          "metadata": {}
        }
      ],
      "source": [
        "# Ответьте здесь\n",
        "data_x = {'category_name': ['soc.religion.christian', 'sci.med', 'comp.graphics', 'alt.atheism'],\n",
        "          'count': [600, 300, 600, 400]}\n",
        "data_y = {'category_name': ['soc.religion.christian', 'sci.med', 'comp.graphics', 'alt.atheism'],\n",
        "          'count': [300, 200, 250, 150]}\n",
        "\n",
        "# Создание DataFrame\n",
        "X = pd.DataFrame(data_x)\n",
        "Y = pd.DataFrame(data_y)\n",
        "\n",
        "# Установка названий категорий в качестве индекса для простого объединения\n",
        "X.set_index('category_name', inplace=True)\n",
        "Y.set_index('category_name', inplace=True)\n",
        "\n",
        "# Объединение данных\n",
        "combined_df = pd.concat([X, Y], axis=1, keys=['X', 'Y'])\n",
        "\n",
        "# Построение графика\n",
        "ax = combined_df.plot(kind='bar',\n",
        "                      figsize=(10, 6),\n",
        "                      title='Category distribution',\n",
        "                      ylim=[0, 650],\n",
        "                      rot=0)\n",
        "\n",
        "# Настройка меток\n",
        "ax.set_xlabel('Categories')\n",
        "ax.set_ylabel('Count')\n",
        "\n",
        "plt.show()"
      ]
    },
    {
      "cell_type": "markdown",
      "metadata": {
        "id": "53MErPChXHeF"
      },
      "source": []
    },
    {
      "cell_type": "markdown",
      "metadata": {
        "id": "-OC16K4PXHeG"
      },
      "source": [
        "Одной из особенностей обоих наборов данных является то, что распределение категорий остается относительно одинаковым, что является хорошим знаком для нас, специалистов по анализу данных. Существует множество способов выполнить выборку в наборе данных и при этом получить достаточно представительный набор данных. Это не является основной темой этой записной книжки, но если вы хотите узнать больше о выборке и о том, как работает функция `sample`, просто обратитесь к документации Pandas, и вы найдете интересные способы проведения более продвинутой выборки."
      ]
    },
    {
      "cell_type": "markdown",
      "metadata": {
        "id": "tngYZ5omXHeH"
      },
      "source": [
        "---"
      ]
    },
    {
      "cell_type": "markdown",
      "metadata": {
        "id": "kk38xJIMXHeH"
      },
      "source": [
        "### 5.2 Создание признаков\n",
        "Другой операцией из списка выше, которую мы собираемся отработать, является так называемое создание признаков. Как следует из названия, при создании признаков мы рассматриваем создание новых интересных и полезных признаков из исходного набора данных; признак, который отражает наиболее важную информацию из необработанной информации, к которой у нас уже есть доступ. В нашей таблице `X` мы хотели бы создать некоторые признаки из поля `text`, но мы все еще не уверены, какие признаки мы хотим создать. Мы можем подумать об интересной проблеме, которую мы хотим решить, или о чем-то, что мы хотим проанализировать из данных, или о некоторых вопросах, на которые мы хотим ответить. Это один из процессов разработки признаков - этот процесс обычно называется `конструированием признаков` в сообществе специалистов по данным.\n",
        "\n",
        "Мы знаем, что такое создание признаков, поэтому давайте реально вовлечемся в наш набор данных и сделаем его более интересным, добавив некоторые специальные признаки или атрибуты, если хотите. Во-первых, мы собираемся получить **униграммы** для каждого текста. (Униграмма - это всего лишь причудливое слово, которое мы используем в Text Mining, которое означает «токены» или «отдельные слова».) Да, мы хотим извлечь все слова, найденные в каждом тексте, и добавить их в качестве нового признака во фрейм данных pandas. Причина извлечения униграмм пока не совсем ясна, но мы можем начать думать о получении некоторой статистики о статьях, которые у нас есть: что-то вроде **распределения слов** или **частоты слов**.\n",
        "\n",
        "Прежде чем переходить к дальнейшему кодированию, мы также представим полезную библиотеку интеллектуального анализа текста под названием [NLTK](http://www.nltk.org/). Библиотека NLTK - это инструмент обработки естественного языка, используемый для задач интеллектуального анализа текста, поэтому с этого момента мы вполне можем начать знакомиться с ним (это может пригодиться для финального проекта!). В частности, мы собираемся использовать библиотеку NLTK для проведения токенизации, потому что мы заинтересованы в разделении предложения на отдельные компоненты, которые мы называем словами, смайликами, электронными письмами и т. д. Итак, давайте сделаем это! Мы можем вызвать библиотеку `nltk` следующим образом:\n",
        "\n",
        "```python\n",
        "import nltk\n",
        "```"
      ]
    },
    {
      "cell_type": "code",
      "execution_count": null,
      "metadata": {
        "id": "HY5dcjPmXHeI"
      },
      "outputs": [],
      "source": [
        "import nltk"
      ]
    },
    {
      "cell_type": "code",
      "source": [
        "nltk.download('punkt_tab')"
      ],
      "metadata": {
        "id": "Ju14KwU2i6Z4",
        "colab": {
          "base_uri": "https://localhost:8080/"
        },
        "outputId": "f2f08dde-80b9-40c9-c379-cc4a621030fa"
      },
      "execution_count": null,
      "outputs": [
        {
          "output_type": "stream",
          "name": "stderr",
          "text": [
            "[nltk_data] Downloading package punkt_tab to /root/nltk_data...\n",
            "[nltk_data]   Unzipping tokenizers/punkt_tab.zip.\n"
          ]
        },
        {
          "output_type": "execute_result",
          "data": {
            "text/plain": [
              "True"
            ]
          },
          "metadata": {},
          "execution_count": 16
        }
      ]
    },
    {
      "cell_type": "code",
      "execution_count": null,
      "metadata": {
        "id": "wRK1ihxWXHeJ"
      },
      "outputs": [],
      "source": [
        "# для обработки требуется минута или две\n",
        "X['unigrams'] = X['text'].apply(lambda x: tokenize_text(x))"
      ]
    },
    {
      "cell_type": "code",
      "execution_count": null,
      "metadata": {
        "id": "iZva3M43XHeJ",
        "colab": {
          "base_uri": "https://localhost:8080/",
          "height": 210
        },
        "outputId": "76162647-be4b-421c-edc6-3ad3337ad6a8"
      },
      "outputs": [
        {
          "output_type": "execute_result",
          "data": {
            "text/plain": [
              "0    [From, :, sd345, @, city.ac.uk, (, Michael, Co...\n",
              "1    [From, :, ani, @, ms.uky.edu, (, Aniruddha, B....\n",
              "2    [From, :, djohnson, @, cs.ucsd.edu, (, Darin, ...\n",
              "3    [From, :, s0612596, @, let.rug.nl, (, M.M, ., ...\n",
              "Name: unigrams, dtype: object"
            ],
            "text/html": [
              "<div>\n",
              "<style scoped>\n",
              "    .dataframe tbody tr th:only-of-type {\n",
              "        vertical-align: middle;\n",
              "    }\n",
              "\n",
              "    .dataframe tbody tr th {\n",
              "        vertical-align: top;\n",
              "    }\n",
              "\n",
              "    .dataframe thead th {\n",
              "        text-align: right;\n",
              "    }\n",
              "</style>\n",
              "<table border=\"1\" class=\"dataframe\">\n",
              "  <thead>\n",
              "    <tr style=\"text-align: right;\">\n",
              "      <th></th>\n",
              "      <th>unigrams</th>\n",
              "    </tr>\n",
              "  </thead>\n",
              "  <tbody>\n",
              "    <tr>\n",
              "      <th>0</th>\n",
              "      <td>[From, :, sd345, @, city.ac.uk, (, Michael, Co...</td>\n",
              "    </tr>\n",
              "    <tr>\n",
              "      <th>1</th>\n",
              "      <td>[From, :, ani, @, ms.uky.edu, (, Aniruddha, B....</td>\n",
              "    </tr>\n",
              "    <tr>\n",
              "      <th>2</th>\n",
              "      <td>[From, :, djohnson, @, cs.ucsd.edu, (, Darin, ...</td>\n",
              "    </tr>\n",
              "    <tr>\n",
              "      <th>3</th>\n",
              "      <td>[From, :, s0612596, @, let.rug.nl, (, M.M, ., ...</td>\n",
              "    </tr>\n",
              "  </tbody>\n",
              "</table>\n",
              "</div><br><label><b>dtype:</b> object</label>"
            ]
          },
          "metadata": {},
          "execution_count": 35
        }
      ],
      "source": [
        "X[0:4][\"unigrams\"]"
      ]
    },
    {
      "cell_type": "markdown",
      "metadata": {
        "id": "-uzDWHncXHeJ"
      },
      "source": [
        "Если вы внимательнее посмотрите на таблицу `X` сейчас, вы увидите новые столбцы `unigrams`, которые мы добавили. Вы заметите, что он содержит массив токенов, которые были извлечены из исходного поля `text`. На первый взгляд вы заметите, что токенизатор работает не очень хорошо, давайте внимательнее посмотрим на одну запись и посмотрим, каким был точный результат токенизации с использованием библиотеки `nltk`."
      ]
    },
    {
      "cell_type": "code",
      "execution_count": null,
      "metadata": {
        "id": "PWigxK9LXHeK",
        "colab": {
          "base_uri": "https://localhost:8080/",
          "height": 175
        },
        "outputId": "7fae757f-894b-460a-ec94-c0af44b68fdd"
      },
      "outputs": [
        {
          "output_type": "execute_result",
          "data": {
            "text/plain": [
              "                                                text  category  \\\n",
              "0  From: sd345@city.ac.uk (Michael Collier) Subje...         1   \n",
              "1  From: ani@ms.uky.edu (Aniruddha B. Deglurkar) ...         1   \n",
              "2  From: djohnson@cs.ucsd.edu (Darin Johnson) Sub...         3   \n",
              "3  From: s0612596@let.rug.nl (M.M. Zwart) Subject...         3   \n",
              "\n",
              "            category_name                                           unigrams  \n",
              "0           comp.graphics  [From, :, sd345, @, city.ac.uk, (, Michael, Co...  \n",
              "1           comp.graphics  [From, :, ani, @, ms.uky.edu, (, Aniruddha, B....  \n",
              "2  soc.religion.christian  [From, :, djohnson, @, cs.ucsd.edu, (, Darin, ...  \n",
              "3  soc.religion.christian  [From, :, s0612596, @, let.rug.nl, (, M.M, ., ...  "
            ],
            "text/html": [
              "\n",
              "  <div id=\"df-bba7596e-1c7c-440d-bec6-6fe04adc3738\" class=\"colab-df-container\">\n",
              "    <div>\n",
              "<style scoped>\n",
              "    .dataframe tbody tr th:only-of-type {\n",
              "        vertical-align: middle;\n",
              "    }\n",
              "\n",
              "    .dataframe tbody tr th {\n",
              "        vertical-align: top;\n",
              "    }\n",
              "\n",
              "    .dataframe thead th {\n",
              "        text-align: right;\n",
              "    }\n",
              "</style>\n",
              "<table border=\"1\" class=\"dataframe\">\n",
              "  <thead>\n",
              "    <tr style=\"text-align: right;\">\n",
              "      <th></th>\n",
              "      <th>text</th>\n",
              "      <th>category</th>\n",
              "      <th>category_name</th>\n",
              "      <th>unigrams</th>\n",
              "    </tr>\n",
              "  </thead>\n",
              "  <tbody>\n",
              "    <tr>\n",
              "      <th>0</th>\n",
              "      <td>From: sd345@city.ac.uk (Michael Collier) Subje...</td>\n",
              "      <td>1</td>\n",
              "      <td>comp.graphics</td>\n",
              "      <td>[From, :, sd345, @, city.ac.uk, (, Michael, Co...</td>\n",
              "    </tr>\n",
              "    <tr>\n",
              "      <th>1</th>\n",
              "      <td>From: ani@ms.uky.edu (Aniruddha B. Deglurkar) ...</td>\n",
              "      <td>1</td>\n",
              "      <td>comp.graphics</td>\n",
              "      <td>[From, :, ani, @, ms.uky.edu, (, Aniruddha, B....</td>\n",
              "    </tr>\n",
              "    <tr>\n",
              "      <th>2</th>\n",
              "      <td>From: djohnson@cs.ucsd.edu (Darin Johnson) Sub...</td>\n",
              "      <td>3</td>\n",
              "      <td>soc.religion.christian</td>\n",
              "      <td>[From, :, djohnson, @, cs.ucsd.edu, (, Darin, ...</td>\n",
              "    </tr>\n",
              "    <tr>\n",
              "      <th>3</th>\n",
              "      <td>From: s0612596@let.rug.nl (M.M. Zwart) Subject...</td>\n",
              "      <td>3</td>\n",
              "      <td>soc.religion.christian</td>\n",
              "      <td>[From, :, s0612596, @, let.rug.nl, (, M.M, ., ...</td>\n",
              "    </tr>\n",
              "  </tbody>\n",
              "</table>\n",
              "</div>\n",
              "    <div class=\"colab-df-buttons\">\n",
              "\n",
              "  <div class=\"colab-df-container\">\n",
              "    <button class=\"colab-df-convert\" onclick=\"convertToInteractive('df-bba7596e-1c7c-440d-bec6-6fe04adc3738')\"\n",
              "            title=\"Convert this dataframe to an interactive table.\"\n",
              "            style=\"display:none;\">\n",
              "\n",
              "  <svg xmlns=\"http://www.w3.org/2000/svg\" height=\"24px\" viewBox=\"0 -960 960 960\">\n",
              "    <path d=\"M120-120v-720h720v720H120Zm60-500h600v-160H180v160Zm220 220h160v-160H400v160Zm0 220h160v-160H400v160ZM180-400h160v-160H180v160Zm440 0h160v-160H620v160ZM180-180h160v-160H180v160Zm440 0h160v-160H620v160Z\"/>\n",
              "  </svg>\n",
              "    </button>\n",
              "\n",
              "  <style>\n",
              "    .colab-df-container {\n",
              "      display:flex;\n",
              "      gap: 12px;\n",
              "    }\n",
              "\n",
              "    .colab-df-convert {\n",
              "      background-color: #E8F0FE;\n",
              "      border: none;\n",
              "      border-radius: 50%;\n",
              "      cursor: pointer;\n",
              "      display: none;\n",
              "      fill: #1967D2;\n",
              "      height: 32px;\n",
              "      padding: 0 0 0 0;\n",
              "      width: 32px;\n",
              "    }\n",
              "\n",
              "    .colab-df-convert:hover {\n",
              "      background-color: #E2EBFA;\n",
              "      box-shadow: 0px 1px 2px rgba(60, 64, 67, 0.3), 0px 1px 3px 1px rgba(60, 64, 67, 0.15);\n",
              "      fill: #174EA6;\n",
              "    }\n",
              "\n",
              "    .colab-df-buttons div {\n",
              "      margin-bottom: 4px;\n",
              "    }\n",
              "\n",
              "    [theme=dark] .colab-df-convert {\n",
              "      background-color: #3B4455;\n",
              "      fill: #D2E3FC;\n",
              "    }\n",
              "\n",
              "    [theme=dark] .colab-df-convert:hover {\n",
              "      background-color: #434B5C;\n",
              "      box-shadow: 0px 1px 3px 1px rgba(0, 0, 0, 0.15);\n",
              "      filter: drop-shadow(0px 1px 2px rgba(0, 0, 0, 0.3));\n",
              "      fill: #FFFFFF;\n",
              "    }\n",
              "  </style>\n",
              "\n",
              "    <script>\n",
              "      const buttonEl =\n",
              "        document.querySelector('#df-bba7596e-1c7c-440d-bec6-6fe04adc3738 button.colab-df-convert');\n",
              "      buttonEl.style.display =\n",
              "        google.colab.kernel.accessAllowed ? 'block' : 'none';\n",
              "\n",
              "      async function convertToInteractive(key) {\n",
              "        const element = document.querySelector('#df-bba7596e-1c7c-440d-bec6-6fe04adc3738');\n",
              "        const dataTable =\n",
              "          await google.colab.kernel.invokeFunction('convertToInteractive',\n",
              "                                                    [key], {});\n",
              "        if (!dataTable) return;\n",
              "\n",
              "        const docLinkHtml = 'Like what you see? Visit the ' +\n",
              "          '<a target=\"_blank\" href=https://colab.research.google.com/notebooks/data_table.ipynb>data table notebook</a>'\n",
              "          + ' to learn more about interactive tables.';\n",
              "        element.innerHTML = '';\n",
              "        dataTable['output_type'] = 'display_data';\n",
              "        await google.colab.output.renderOutput(dataTable, element);\n",
              "        const docLink = document.createElement('div');\n",
              "        docLink.innerHTML = docLinkHtml;\n",
              "        element.appendChild(docLink);\n",
              "      }\n",
              "    </script>\n",
              "  </div>\n",
              "\n",
              "\n",
              "<div id=\"df-61533e21-f175-4f7a-87de-03ed4ed04d63\">\n",
              "  <button class=\"colab-df-quickchart\" onclick=\"quickchart('df-61533e21-f175-4f7a-87de-03ed4ed04d63')\"\n",
              "            title=\"Suggest charts\"\n",
              "            style=\"display:none;\">\n",
              "\n",
              "<svg xmlns=\"http://www.w3.org/2000/svg\" height=\"24px\"viewBox=\"0 0 24 24\"\n",
              "     width=\"24px\">\n",
              "    <g>\n",
              "        <path d=\"M19 3H5c-1.1 0-2 .9-2 2v14c0 1.1.9 2 2 2h14c1.1 0 2-.9 2-2V5c0-1.1-.9-2-2-2zM9 17H7v-7h2v7zm4 0h-2V7h2v10zm4 0h-2v-4h2v4z\"/>\n",
              "    </g>\n",
              "</svg>\n",
              "  </button>\n",
              "\n",
              "<style>\n",
              "  .colab-df-quickchart {\n",
              "      --bg-color: #E8F0FE;\n",
              "      --fill-color: #1967D2;\n",
              "      --hover-bg-color: #E2EBFA;\n",
              "      --hover-fill-color: #174EA6;\n",
              "      --disabled-fill-color: #AAA;\n",
              "      --disabled-bg-color: #DDD;\n",
              "  }\n",
              "\n",
              "  [theme=dark] .colab-df-quickchart {\n",
              "      --bg-color: #3B4455;\n",
              "      --fill-color: #D2E3FC;\n",
              "      --hover-bg-color: #434B5C;\n",
              "      --hover-fill-color: #FFFFFF;\n",
              "      --disabled-bg-color: #3B4455;\n",
              "      --disabled-fill-color: #666;\n",
              "  }\n",
              "\n",
              "  .colab-df-quickchart {\n",
              "    background-color: var(--bg-color);\n",
              "    border: none;\n",
              "    border-radius: 50%;\n",
              "    cursor: pointer;\n",
              "    display: none;\n",
              "    fill: var(--fill-color);\n",
              "    height: 32px;\n",
              "    padding: 0;\n",
              "    width: 32px;\n",
              "  }\n",
              "\n",
              "  .colab-df-quickchart:hover {\n",
              "    background-color: var(--hover-bg-color);\n",
              "    box-shadow: 0 1px 2px rgba(60, 64, 67, 0.3), 0 1px 3px 1px rgba(60, 64, 67, 0.15);\n",
              "    fill: var(--button-hover-fill-color);\n",
              "  }\n",
              "\n",
              "  .colab-df-quickchart-complete:disabled,\n",
              "  .colab-df-quickchart-complete:disabled:hover {\n",
              "    background-color: var(--disabled-bg-color);\n",
              "    fill: var(--disabled-fill-color);\n",
              "    box-shadow: none;\n",
              "  }\n",
              "\n",
              "  .colab-df-spinner {\n",
              "    border: 2px solid var(--fill-color);\n",
              "    border-color: transparent;\n",
              "    border-bottom-color: var(--fill-color);\n",
              "    animation:\n",
              "      spin 1s steps(1) infinite;\n",
              "  }\n",
              "\n",
              "  @keyframes spin {\n",
              "    0% {\n",
              "      border-color: transparent;\n",
              "      border-bottom-color: var(--fill-color);\n",
              "      border-left-color: var(--fill-color);\n",
              "    }\n",
              "    20% {\n",
              "      border-color: transparent;\n",
              "      border-left-color: var(--fill-color);\n",
              "      border-top-color: var(--fill-color);\n",
              "    }\n",
              "    30% {\n",
              "      border-color: transparent;\n",
              "      border-left-color: var(--fill-color);\n",
              "      border-top-color: var(--fill-color);\n",
              "      border-right-color: var(--fill-color);\n",
              "    }\n",
              "    40% {\n",
              "      border-color: transparent;\n",
              "      border-right-color: var(--fill-color);\n",
              "      border-top-color: var(--fill-color);\n",
              "    }\n",
              "    60% {\n",
              "      border-color: transparent;\n",
              "      border-right-color: var(--fill-color);\n",
              "    }\n",
              "    80% {\n",
              "      border-color: transparent;\n",
              "      border-right-color: var(--fill-color);\n",
              "      border-bottom-color: var(--fill-color);\n",
              "    }\n",
              "    90% {\n",
              "      border-color: transparent;\n",
              "      border-bottom-color: var(--fill-color);\n",
              "    }\n",
              "  }\n",
              "</style>\n",
              "\n",
              "  <script>\n",
              "    async function quickchart(key) {\n",
              "      const quickchartButtonEl =\n",
              "        document.querySelector('#' + key + ' button');\n",
              "      quickchartButtonEl.disabled = true;  // To prevent multiple clicks.\n",
              "      quickchartButtonEl.classList.add('colab-df-spinner');\n",
              "      try {\n",
              "        const charts = await google.colab.kernel.invokeFunction(\n",
              "            'suggestCharts', [key], {});\n",
              "      } catch (error) {\n",
              "        console.error('Error during call to suggestCharts:', error);\n",
              "      }\n",
              "      quickchartButtonEl.classList.remove('colab-df-spinner');\n",
              "      quickchartButtonEl.classList.add('colab-df-quickchart-complete');\n",
              "    }\n",
              "    (() => {\n",
              "      let quickchartButtonEl =\n",
              "        document.querySelector('#df-61533e21-f175-4f7a-87de-03ed4ed04d63 button');\n",
              "      quickchartButtonEl.style.display =\n",
              "        google.colab.kernel.accessAllowed ? 'block' : 'none';\n",
              "    })();\n",
              "  </script>\n",
              "</div>\n",
              "    </div>\n",
              "  </div>\n"
            ],
            "application/vnd.google.colaboratory.intrinsic+json": {
              "type": "dataframe",
              "summary": "{\n  \"name\": \"X[0:4]\",\n  \"rows\": 4,\n  \"fields\": [\n    {\n      \"column\": \"text\",\n      \"properties\": {\n        \"dtype\": \"string\",\n        \"num_unique_values\": 4,\n        \"samples\": [\n          \"From: ani@ms.uky.edu (Aniruddha B. Deglurkar) Subject: help: Splitting a trimming region along a mesh  Organization: University Of Kentucky, Dept. of Math Sciences Lines: 28    \\tHi,  \\tI have a problem, I hope some of the 'gurus' can help me solve.  \\tBackground of the problem: \\tI have a rectangular mesh in the uv domain, i.e  the mesh is a  \\tmapping of a 3d Bezier patch into 2d. The area in this domain \\twhich is inside a trimming loop had to be rendered. The trimming \\tloop is a set of 2d Bezier curve segments. \\tFor the sake of notation: the mesh is made up of cells.  \\tMy problem is this : \\tThe trimming area has to be split up into individual smaller \\tcells bounded by the trimming curve segments. If a cell \\tis wholly inside the area...then it is output as a whole , \\telse it is trivially rejected.   \\tDoes any body know how thiss can be done, or is there any algo.  \\tsomewhere for doing this.  \\tAny help would be appreciated.  \\tThanks,  \\tAni. --  To get irritated is human, to stay cool, divine. \",\n          \"From: s0612596@let.rug.nl (M.M. Zwart) Subject: catholic church poland Organization: Faculteit der Letteren, Rijksuniversiteit Groningen, NL Lines: 10  Hello,  I'm writing a paper on the role of the catholic church in Poland after 1989.  Can anyone tell me more about this, or fill me in on recent books/articles( in english, german or french). Most important for me is the role of the  church concerning the abortion-law, religious education at schools, birth-control and the relation church-state(government). Thanx,                                                   Masja, \\\"M.M.Zwart\\\"<s0612596@let.rug.nl> \",\n          \"From: sd345@city.ac.uk (Michael Collier) Subject: Converting images to HP LaserJet III? Nntp-Posting-Host: hampton Organization: The City University Lines: 14  Does anyone know of a good way (standard PC application/PD utility) to convert tif/img/tga files into LaserJet III format.  We would also like to do the same, converting to HPGL (HP plotter) files.  Please email any response.  Is this the correct group?  Thanks in advance.  Michael. --  Michael Collier (Programmer)                 The Computer Unit, Email: M.P.Collier@uk.ac.city                The City University, Tel: 071 477-8000 x3769                      London, Fax: 071 477-8565                            EC1V 0HB. \"\n        ],\n        \"semantic_type\": \"\",\n        \"description\": \"\"\n      }\n    },\n    {\n      \"column\": \"category\",\n      \"properties\": {\n        \"dtype\": \"number\",\n        \"std\": 1,\n        \"min\": 1,\n        \"max\": 3,\n        \"num_unique_values\": 2,\n        \"samples\": [\n          3,\n          1\n        ],\n        \"semantic_type\": \"\",\n        \"description\": \"\"\n      }\n    },\n    {\n      \"column\": \"category_name\",\n      \"properties\": {\n        \"dtype\": \"string\",\n        \"num_unique_values\": 2,\n        \"samples\": [\n          \"soc.religion.christian\",\n          \"comp.graphics\"\n        ],\n        \"semantic_type\": \"\",\n        \"description\": \"\"\n      }\n    },\n    {\n      \"column\": \"unigrams\",\n      \"properties\": {\n        \"dtype\": \"object\",\n        \"semantic_type\": \"\",\n        \"description\": \"\"\n      }\n    }\n  ]\n}"
            }
          },
          "metadata": {},
          "execution_count": 36
        }
      ],
      "source": [
        "X[0:4]"
      ]
    },
    {
      "cell_type": "code",
      "execution_count": null,
      "metadata": {
        "scrolled": false,
        "id": "rZvcwkNZXHeM",
        "colab": {
          "base_uri": "https://localhost:8080/"
        },
        "outputId": "4c81e8c3-9b75-490e-81dc-833d3dcf294f"
      },
      "outputs": [
        {
          "output_type": "execute_result",
          "data": {
            "text/plain": [
              "[['From',\n",
              "  ':',\n",
              "  'sd345',\n",
              "  '@',\n",
              "  'city.ac.uk',\n",
              "  '(',\n",
              "  'Michael',\n",
              "  'Collier',\n",
              "  ')',\n",
              "  'Subject',\n",
              "  ':',\n",
              "  'Converting',\n",
              "  'images',\n",
              "  'to',\n",
              "  'HP',\n",
              "  'LaserJet',\n",
              "  'III',\n",
              "  '?',\n",
              "  'Nntp-Posting-Host',\n",
              "  ':',\n",
              "  'hampton',\n",
              "  'Organization',\n",
              "  ':',\n",
              "  'The',\n",
              "  'City',\n",
              "  'University',\n",
              "  'Lines',\n",
              "  ':',\n",
              "  '14',\n",
              "  'Does',\n",
              "  'anyone',\n",
              "  'know',\n",
              "  'of',\n",
              "  'a',\n",
              "  'good',\n",
              "  'way',\n",
              "  '(',\n",
              "  'standard',\n",
              "  'PC',\n",
              "  'application/PD',\n",
              "  'utility',\n",
              "  ')',\n",
              "  'to',\n",
              "  'convert',\n",
              "  'tif/img/tga',\n",
              "  'files',\n",
              "  'into',\n",
              "  'LaserJet',\n",
              "  'III',\n",
              "  'format',\n",
              "  '.',\n",
              "  'We',\n",
              "  'would',\n",
              "  'also',\n",
              "  'like',\n",
              "  'to',\n",
              "  'do',\n",
              "  'the',\n",
              "  'same',\n",
              "  ',',\n",
              "  'converting',\n",
              "  'to',\n",
              "  'HPGL',\n",
              "  '(',\n",
              "  'HP',\n",
              "  'plotter',\n",
              "  ')',\n",
              "  'files',\n",
              "  '.',\n",
              "  'Please',\n",
              "  'email',\n",
              "  'any',\n",
              "  'response',\n",
              "  '.',\n",
              "  'Is',\n",
              "  'this',\n",
              "  'the',\n",
              "  'correct',\n",
              "  'group',\n",
              "  '?',\n",
              "  'Thanks',\n",
              "  'in',\n",
              "  'advance',\n",
              "  '.',\n",
              "  'Michael',\n",
              "  '.',\n",
              "  '--',\n",
              "  'Michael',\n",
              "  'Collier',\n",
              "  '(',\n",
              "  'Programmer',\n",
              "  ')',\n",
              "  'The',\n",
              "  'Computer',\n",
              "  'Unit',\n",
              "  ',',\n",
              "  'Email',\n",
              "  ':',\n",
              "  'M.P.Collier',\n",
              "  '@',\n",
              "  'uk.ac.city',\n",
              "  'The',\n",
              "  'City',\n",
              "  'University',\n",
              "  ',',\n",
              "  'Tel',\n",
              "  ':',\n",
              "  '071',\n",
              "  '477-8000',\n",
              "  'x3769',\n",
              "  'London',\n",
              "  ',',\n",
              "  'Fax',\n",
              "  ':',\n",
              "  '071',\n",
              "  '477-8565',\n",
              "  'EC1V',\n",
              "  '0HB',\n",
              "  '.']]"
            ]
          },
          "metadata": {},
          "execution_count": 37
        }
      ],
      "source": [
        "list(X[0:1]['unigrams'])"
      ]
    },
    {
      "cell_type": "markdown",
      "metadata": {
        "id": "ZdtdSUP3XHeN"
      },
      "source": [
        "Библиотека `nltk` довольно неплохо справляется с токенизацией нашего текста. Существует много других токенизаторов в Интернете, таких как [spaCy](https://spacy.io/) и встроенные библиотеки, предоставляемые [scikit-learn](http://scikit-learn.org/stable/modules/generated/sklearn.feature_extraction.text.CountVectorizer.html). Мы используем библиотеку NLTK, потому что она имеет открытый исходный код и потому что она хорошо сегментирует данные на основе текста."
      ]
    },
    {
      "cell_type": "markdown",
      "metadata": {
        "id": "LhpQyh7aXHeO"
      },
      "source": [
        "---"
      ]
    },
    {
      "cell_type": "markdown",
      "metadata": {
        "id": "9--1edj9XHeO"
      },
      "source": [
        "### 5.3 Выбор подмножества признаков\n",
        "Хорошо, так что мы добиваемся некоторых успехов здесь. Теперь давайте сделаем вещи немного более интересными. Мы собираемся сделать что-то отличное от того, что мы делали до сих пор. Мы собираемся использовать немного всего, что мы узнали до сих пор. Говоря кратко, мы собираемся отойти от нашего основного набора данных (одна из форм выбора подмножества признаков), и мы собираемся сгенерировать матрицу документ-термин из исходного набора данных. Другими словами, мы собираемся создать что-то вроде этого."
      ]
    },
    {
      "cell_type": "markdown",
      "metadata": {
        "id": "ko3HhLYoXHeP"
      },
      "source": [
        "![alt txt](https://docs.google.com/drawings/d/e/2PACX-1vS01RrtPHS3r1Lf8UjX4POgDol-lVF4JAbjXM3SAOU-dOe-MqUdaEMWwJEPk9TtiUvcoSqTeE--lNep/pub?w=748&h=366)"
      ]
    },
    {
      "cell_type": "markdown",
      "metadata": {
        "id": "hywNgk71XHeP"
      },
      "source": [
        "Первоначально он не будет иметь ту же форму, что и таблица выше, но мы перейдем к этому позже. А пока давайте используем встроенные функциональные возможности scikit learn для создания этого документа. Вы сами увидите, как легко сгенерировать эту таблицу без особого кодирования."
      ]
    },
    {
      "cell_type": "code",
      "execution_count": null,
      "metadata": {
        "id": "BK1lMgLlXHeQ"
      },
      "outputs": [],
      "source": [
        "from sklearn.feature_extraction.text import CountVectorizer\n",
        "\n",
        "count_vect = CountVectorizer()\n",
        "X_counts = count_vect.fit_transform(X.text)"
      ]
    },
    {
      "cell_type": "code",
      "execution_count": null,
      "metadata": {
        "id": "Xx2tht9bXHeQ",
        "colab": {
          "base_uri": "https://localhost:8080/"
        },
        "outputId": "a59da0bf-caa6-44fe-8bb9-7b4f69f892fb"
      },
      "outputs": [
        {
          "output_type": "execute_result",
          "data": {
            "text/plain": [
              "<2257x35788 sparse matrix of type '<class 'numpy.int64'>'\n",
              "\twith 365886 stored elements in Compressed Sparse Row format>"
            ]
          },
          "metadata": {},
          "execution_count": 39
        }
      ],
      "source": [
        "X_counts"
      ]
    },
    {
      "cell_type": "markdown",
      "metadata": {
        "id": "qnAzQGktXHeR"
      },
      "source": [
        "То, что мы сделали с этими двумя строками кода, это то, что мы преобразовали статьи в **матрицу термин-документ**. Эти строки кода токенизируют каждую статью с помощью встроенного токенизатора по умолчанию (часто называемого `анализатором`), а затем создает вектор частоты слов для каждого документа. Мы можем создавать свои собственные анализаторы или даже использовать анализатор nltk, который мы создали ранее. Чтобы все было аккуратно и минимально, мы собираемся использовать анализатор по умолчанию, предоставляемый `CountVectorizer`. Давайте внимательно посмотрим на этот анализатор."
      ]
    },
    {
      "cell_type": "code",
      "execution_count": null,
      "metadata": {
        "id": "05G4utX_XHeR",
        "colab": {
          "base_uri": "https://localhost:8080/"
        },
        "outputId": "209b2f10-696d-42fe-f591-8be8288e7581"
      },
      "outputs": [
        {
          "output_type": "execute_result",
          "data": {
            "text/plain": [
              "['hello', 'world']"
            ]
          },
          "metadata": {},
          "execution_count": 40
        }
      ],
      "source": [
        "analyze = count_vect.build_analyzer()\n",
        "analyze(\"Hello World!\")\n",
        "#\" \".join(list(X[4:5].text))"
      ]
    },
    {
      "cell_type": "markdown",
      "metadata": {
        "id": "U2h1rYseXHeS"
      },
      "source": [
        "---"
      ]
    }
  ]
}