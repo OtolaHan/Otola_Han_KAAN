{
  "nbformat": 4,
  "nbformat_minor": 0,
  "metadata": {
    "coursera": {
      "course_slug": "introduction-tensorflow",
      "graded_item_id": "d6dew",
      "launcher_item_id": "FExZ4"
    },
    "kernelspec": {
      "display_name": "Python 3",
      "language": "python",
      "name": "python3"
    },
    "language_info": {
      "codemirror_mode": {
        "name": "ipython",
        "version": 3
      },
      "file_extension": ".py",
      "mimetype": "text/x-python",
      "name": "python",
      "nbconvert_exporter": "python",
      "pygments_lexer": "ipython3",
      "version": "3.6.8"
    },
    "colab": {
      "name": "Exercise2-HandWritting.ipynb",
      "provenance": [],
      "include_colab_link": true
    }
  },
  "cells": [
    {
      "cell_type": "markdown",
      "metadata": {
        "id": "view-in-github",
        "colab_type": "text"
      },
      "source": [
        "<a href=\"https://colab.research.google.com/github/OtolaHan/Otola_Han_KAAN/blob/main/Exercise2_HandWritting.ipynb\" target=\"_parent\"><img src=\"https://colab.research.google.com/assets/colab-badge.svg\" alt=\"Open In Colab\"/></a>"
      ]
    },
    {
      "cell_type": "markdown",
      "metadata": {
        "id": "tOoyQ70H00_s"
      },
      "source": [
        "## Упражнение 2\n",
        "Напишите классификатор MNIST, который обучается до точности 99% или выше и делает это без фиксированного числа эпох - то есть вы должны прекратить обучение, как только достигнете этого уровня точности.\n",
        "\n",
        "1. Этого надо достигнуть менее чем за 10 эпох, поэтому можно установить epoches=10, но не более.\n",
        "2. Когда точность станет 99% или больше, надо распечатать строку «Достигнута точность 99%, поэтому обучение закончено!»\n"
      ]
    },
    {
      "cell_type": "code",
      "metadata": {
        "id": "OmPpq7lZHw-2"
      },
      "source": [
        "import tensorflow as tf\n",
        "from os import path, getcwd, chdir\n",
        "\n",
        "mnist = tf.keras.datasets.mnist"
      ],
      "execution_count": 1,
      "outputs": []
    },
    {
      "cell_type": "code",
      "metadata": {
        "id": "9rvXQGAA0ssC",
        "outputId": "a6b1afc3-6088-49fe-feac-ffb36c3aa1a8",
        "colab": {
          "base_uri": "https://localhost:8080/"
        }
      },
      "source": [
        "class myCallback(tf.keras.callbacks.Callback):\n",
        "    def on_epoch_end(self, epoch, logs={}):\n",
        "        if(logs.get('accuracy')>=0.99):\n",
        "            print(\"\\nДостигнута точность 99%, поэтому обучение закончено!\")\n",
        "            self.model.stop_training = True\n",
        "\n",
        "callbacks = myCallback()\n",
        "mnist = tf.keras.datasets.mnist\n",
        "\n",
        "(x_train, y_train),(x_test, y_test) = mnist.load_data()\n",
        "# Нормализация данных\n",
        "x_train, x_test = x_train / 255.0, x_test / 255.0\n",
        "\n",
        "model = tf.keras.models.Sequential([\n",
        "  tf.keras.layers.Flatten(input_shape=(28, 28)),\n",
        "  tf.keras.layers.Dense(512, activation=tf.nn.relu),\n",
        "  tf.keras.layers.Dropout(0.2),\n",
        "  tf.keras.layers.Dense(10, activation=tf.nn.softmax)\n",
        "])\n",
        "\n",
        "model.compile(optimizer='adam',\n",
        "              loss='sparse_categorical_crossentropy',\n",
        "              metrics=['accuracy'])\n",
        "\n",
        "# Обучаем модель с нашими обратными вызовами\n",
        "history = model.fit(x_train, y_train, epochs=10, callbacks=[callbacks])\n",
        "\n",
        "# Поскольку версии TensorFlow могут варьироваться и методы API могут быть обновлены,\n",
        "# 'acc' может быть заменен на 'accuracy' в строке ниже в зависимости от вашей версии.\n",
        "print(history.epoch, history.history['accuracy'][-1])"
      ],
      "execution_count": 2,
      "outputs": [
        {
          "output_type": "stream",
          "name": "stdout",
          "text": [
            "Downloading data from https://storage.googleapis.com/tensorflow/tf-keras-datasets/mnist.npz\n",
            "11490434/11490434 [==============================] - 0s 0us/step\n",
            "Epoch 1/10\n",
            "1875/1875 [==============================] - 13s 7ms/step - loss: 0.2218 - accuracy: 0.9349\n",
            "Epoch 2/10\n",
            "1875/1875 [==============================] - 12s 7ms/step - loss: 0.0972 - accuracy: 0.9701\n",
            "Epoch 3/10\n",
            "1875/1875 [==============================] - 12s 6ms/step - loss: 0.0705 - accuracy: 0.9777\n",
            "Epoch 4/10\n",
            "1875/1875 [==============================] - 12s 6ms/step - loss: 0.0535 - accuracy: 0.9823\n",
            "Epoch 5/10\n",
            "1875/1875 [==============================] - 12s 7ms/step - loss: 0.0442 - accuracy: 0.9859\n",
            "Epoch 6/10\n",
            "1875/1875 [==============================] - 12s 6ms/step - loss: 0.0350 - accuracy: 0.9886\n",
            "Epoch 7/10\n",
            "1875/1875 [==============================] - 13s 7ms/step - loss: 0.0322 - accuracy: 0.9896\n",
            "Epoch 8/10\n",
            "1867/1875 [============================>.] - ETA: 0s - loss: 0.0266 - accuracy: 0.9910\n",
            "Достигнута точность 99%, поэтому обучение закончено!\n",
            "1875/1875 [==============================] - 12s 7ms/step - loss: 0.0266 - accuracy: 0.9910\n",
            "[0, 1, 2, 3, 4, 5, 6, 7] 0.9910333156585693\n"
          ]
        }
      ]
    }
  ]
}