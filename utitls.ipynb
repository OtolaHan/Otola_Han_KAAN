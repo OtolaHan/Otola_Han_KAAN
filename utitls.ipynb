{
  "nbformat": 4,
  "nbformat_minor": 0,
  "metadata": {
    "colab": {
      "provenance": [],
      "authorship_tag": "ABX9TyOyH3kniWaSoDFei3uZHexD",
      "include_colab_link": true
    },
    "kernelspec": {
      "name": "python3",
      "display_name": "Python 3"
    },
    "language_info": {
      "name": "python"
    }
  },
  "cells": [
    {
      "cell_type": "markdown",
      "metadata": {
        "id": "view-in-github",
        "colab_type": "text"
      },
      "source": [
        "<a href=\"https://colab.research.google.com/github/OtolaHan/Otola_Han_KAAN/blob/main/utitls.ipynb\" target=\"_parent\"><img src=\"https://colab.research.google.com/assets/colab-badge.svg\" alt=\"Open In Colab\"/></a>"
      ]
    },
    {
      "cell_type": "code",
      "execution_count": 5,
      "metadata": {
        "id": "2F01w97TCZXE"
      },
      "outputs": [],
      "source": [
        "import os\n",
        "import pandas as pd\n",
        "from sklearn.linear_model import LinearRegression\n",
        "from utils import create_folder, smape  # Импортируем функции из utils.py\n",
        "\n",
        "\n",
        "def load_data(file_path):\n",
        "    return pd.read_csv(file_path, parse_dates=['datetime'], index_col='datetime')\n",
        "\n",
        "\n",
        "def train_model(data):\n",
        "    X = data[:-100].index.astype(int).values.reshape(-1, 1)  # Используем время как признак\n",
        "    y = data['ssh'][:-100].values\n",
        "    model = LinearRegression()\n",
        "    model.fit(X, y)\n",
        "    return model\n",
        "\n",
        "\n",
        "def generate_predictions(model, start_time, num_predictions):\n",
        "    prediction_times = pd.date_range(start=start_time, periods=num_predictions, freq='H')\n",
        "    X_pred = prediction_times.astype(int).values.reshape(-1, 1)\n",
        "    predictions = model.predict(X_pred)\n",
        "    return pd.DataFrame({'ssh': predictions}, index=prediction_times)\n",
        "\n",
        "\n",
        "def save_predictions(predictions, file_name, save_folder):\n",
        "    predictions.reset_index().rename(columns={'index': 'datetime'}).to_csv(os.path.join(save_folder, file_name),\n",
        "                                                                           index=False)\n",
        "\n",
        "\n",
        "def main():\n",
        "    train_folder = \"train\"\n",
        "    predictions_folder = \"predictions\"\n",
        "    create_folder(predictions_folder)\n",
        "\n",
        "    for file_name in os.listdir(train_folder):\n",
        "        file_path = os.path.join(train_folder, file_name)\n",
        "        data = load_data(file_path)\n",
        "\n",
        "        model = train_model(data)\n",
        "\n",
        "        start_time = '2002-12-26 21:00:00'\n",
        "        num_predictions = 100\n",
        "        predictions = generate_predictions(model, start_time, num_predictions)\n",
        "\n",
        "        save_predictions(predictions, file_name, predictions_folder)\n",
        "\n",
        "\n",
        "if __name__ == \"__main__\":\n",
        "    main()"
      ]
    }
  ]
}