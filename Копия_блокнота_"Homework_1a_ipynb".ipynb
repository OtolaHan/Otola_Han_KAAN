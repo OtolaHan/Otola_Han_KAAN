{
  "cells": [
    {
      "cell_type": "markdown",
      "metadata": {
        "id": "view-in-github",
        "colab_type": "text"
      },
      "source": [
        "<a href=\"https://colab.research.google.com/github/OtolaHan/Otola_Han_KAAN/blob/main/%D0%9A%D0%BE%D0%BF%D0%B8%D1%8F_%D0%B1%D0%BB%D0%BE%D0%BA%D0%BD%D0%BE%D1%82%D0%B0_%22Homework_1a_ipynb%22.ipynb\" target=\"_parent\"><img src=\"https://colab.research.google.com/assets/colab-badge.svg\" alt=\"Open In Colab\"/></a>"
      ]
    },
    {
      "cell_type": "markdown",
      "metadata": {
        "id": "q5l7Gkv5PxDK"
      },
      "source": [
        "# Домашнее задание №1: линейная регрессия и векторное дифференцирование (10 баллов).\n",
        "\n",
        "* Максимальное количество баллов за задания в ноутбуке - 11, но больше 10 оценка не ставится, поэтому для получения максимальной оценки можно сделать не все задания.\n",
        "\n",
        "* Некоторые задания будут по вариантам (всего 4 варианта). Чтобы выяснить свой вариант, посчитайте количество букв в своей фамилии, возьмете остаток от деления на 4 и прибавьте 1."
      ]
    },
    {
      "cell_type": "code",
      "execution_count": 1,
      "metadata": {
        "id": "lSOIREnNPxDL"
      },
      "outputs": [],
      "source": [
        "import numpy as np"
      ]
    },
    {
      "cell_type": "markdown",
      "metadata": {
        "id": "JZ8sHdo2PxDL"
      },
      "source": [
        "## Многомерная линейная регрессия из sklearn"
      ]
    },
    {
      "cell_type": "markdown",
      "metadata": {
        "id": "giMrVA5IPxDM"
      },
      "source": [
        "Применим многомерную регрессию из sklearn для стандартного датасета"
      ]
    },
    {
      "cell_type": "code",
      "execution_count": 2,
      "metadata": {
        "colab": {
          "base_uri": "https://localhost:8080/"
        },
        "id": "TYxnS0UGPxDM",
        "outputId": "3558e7c6-bd0d-49f3-9487-8df7176971eb"
      },
      "outputs": [
        {
          "output_type": "stream",
          "name": "stdout",
          "text": [
            "(10000, 100) (10000,)\n"
          ]
        }
      ],
      "source": [
        "from sklearn.datasets import make_regression\n",
        "\n",
        "X, y = make_regression(n_samples = 10000)\n",
        "print(X.shape, y.shape)"
      ]
    },
    {
      "cell_type": "markdown",
      "metadata": {
        "id": "uWMR1pM7PxDM"
      },
      "source": [
        "У нас 10000 объектов и 100 признаков. Для начала решим задачу аналитически \"из коробки\"."
      ]
    },
    {
      "cell_type": "code",
      "execution_count": 3,
      "metadata": {
        "colab": {
          "base_uri": "https://localhost:8080/"
        },
        "id": "M5mi_RlLPxDM",
        "outputId": "f96114be-3062-4c28-ba23-63b3f60df6f6"
      },
      "outputs": [
        {
          "output_type": "stream",
          "name": "stdout",
          "text": [
            "1.0031374483403034e-25\n"
          ]
        }
      ],
      "source": [
        "from sklearn.linear_model import LinearRegression\n",
        "from sklearn.metrics import mean_squared_error\n",
        "\n",
        "reg = LinearRegression().fit(X, y)\n",
        "print(mean_squared_error(y, reg.predict(X)))"
      ]
    },
    {
      "cell_type": "markdown",
      "metadata": {
        "id": "Za_5dDLcPxDM"
      },
      "source": [
        "Теперь попробуем обучить линейную регрессию методом градиентного спуска \"из коробки\""
      ]
    },
    {
      "cell_type": "code",
      "execution_count": 4,
      "metadata": {
        "colab": {
          "base_uri": "https://localhost:8080/"
        },
        "id": "MMps5JC7PxDM",
        "outputId": "9ce64e6c-66bd-475c-ac82-b7732df1e59d"
      },
      "outputs": [
        {
          "output_type": "stream",
          "name": "stdout",
          "text": [
            "3.5796008256529427e-12\n"
          ]
        },
        {
          "output_type": "execute_result",
          "data": {
            "text/plain": [
              "array([-4.29261360e-08,  1.39038041e-08, -5.16926850e-08, -2.97111959e-09,\n",
              "        6.80252260e+01,  2.53995656e+01,  1.50268093e-08,  1.11237544e-08,\n",
              "        3.25757256e-08, -2.35860319e-08, -3.69845569e-08, -1.43722140e-08,\n",
              "        1.73940618e-08,  3.10776470e-08,  4.68582001e-09, -1.93432882e-09,\n",
              "       -3.36339370e-08,  1.69283568e-08,  2.71183760e-08, -6.63137038e-08,\n",
              "       -5.45756255e-08,  7.01976140e-09, -2.41413233e-08, -1.57134585e-08,\n",
              "       -1.52749019e-08,  2.78095998e-08, -8.74759558e-09, -3.12488313e-08,\n",
              "        5.03418560e-09,  4.69113308e-08, -4.10534955e-08, -2.09281787e-08,\n",
              "        2.19483293e+01,  6.32241355e+01,  2.34002806e-08,  7.79719164e-09,\n",
              "        2.92470798e-08,  6.27162891e+01,  3.07612458e+01,  2.06852005e-08,\n",
              "       -3.48202592e-09, -8.52104385e-08,  9.34532261e-09,  5.35899969e-08,\n",
              "        1.32377068e-08, -3.49210224e-08, -1.11238384e-08,  3.35280780e-08,\n",
              "       -2.93266444e-08, -7.02061554e-08,  2.91925368e-08,  8.14453151e+01,\n",
              "       -5.29528165e-08, -1.08486615e-08, -1.23098354e-08,  8.93435460e+01,\n",
              "        1.60315261e-08,  1.67397389e-08, -1.26799429e-08, -1.76267625e-08,\n",
              "        2.99262893e-08,  1.78707598e-08, -6.73952046e-09, -4.70062257e-08,\n",
              "        4.06145959e-08,  3.22385175e-08,  7.66202337e-08, -9.19374002e-09,\n",
              "        5.78838820e-08,  1.27132627e-08, -3.87671148e-08, -2.50117879e-08,\n",
              "        1.23578441e-08,  3.56252712e-08, -2.42006321e-09,  1.43895099e-08,\n",
              "        8.55652414e-09, -3.52650000e-08,  8.64122185e-09, -1.12341145e-08,\n",
              "        2.05397708e-08,  3.60245947e-08, -4.87807888e-08,  3.50586830e-08,\n",
              "        5.47515314e-08, -1.31002536e-08, -3.35428666e-08, -3.14281371e-08,\n",
              "       -3.57292034e-08,  3.13790678e+01,  5.88357767e-08, -3.01118085e-08,\n",
              "        5.35668762e+01, -1.23636608e-08, -2.05638474e-08,  1.25827814e-09,\n",
              "        1.37076824e-08, -5.21111946e-08, -8.11517473e-09,  3.46468866e-08])"
            ]
          },
          "metadata": {},
          "execution_count": 4
        }
      ],
      "source": [
        "from sklearn.linear_model import SGDRegressor\n",
        "reg = SGDRegressor(alpha=0.00000001).fit(X, y)\n",
        "print(mean_squared_error(y, reg.predict(X)))\n",
        "reg.coef_"
      ]
    },
    {
      "cell_type": "markdown",
      "metadata": {
        "id": "-npJW2a1PxDM"
      },
      "source": [
        "***Задание 1 (0.5 балла).*** Объясните, чем вызвано различие двух полученных значений метрики?\n",
        "\n",
        "***Задание 2 (0.5 балла).*** Подберите гиперпараметры в методе градиентного спуска так, чтобы значение MSE было близко к значению MSE, полученному при обучении LinearRegression."
      ]
    },
    {
      "cell_type": "markdown",
      "metadata": {
        "id": "HodNiYjOPxDN"
      },
      "source": [
        "## Ваша многомерная линейная регрессия"
      ]
    },
    {
      "cell_type": "markdown",
      "metadata": {
        "id": "R88i80zOPxDN"
      },
      "source": [
        "***Задание 3 (5 баллов)***. Напишите собственную многомерную линейную регрессию, оптимизирующую MSE методом *градиентного спуска*. Для этого используйте шаблонный класс.\n",
        "\n",
        "Критерий останова: либо норма разности весов на текущей и предыдущей итерациях меньше определенного значения (первый и третий варианты), либо модуль разности функционалов качества (MSE) на текущей и предыдущей итерациях меньше определенного значения (второй и четвертый варианты). Также предлагается завершать обучение в любом случае, если было произведено слишком много итераций.\n",
        "\n",
        "***Задание 4 (2 балла)***. Добавьте l1 (первый и второй варианты) или l2 (третий и четвертый варианты) регуляризацию."
      ]
    },
    {
      "cell_type": "code",
      "execution_count": 5,
      "metadata": {
        "id": "p1NSi94BPxDN"
      },
      "outputs": [],
      "source": [
        "class LinearRegression(object):\n",
        "    def __init__(self, alpha=0.0001, l_ratio=0.001, tol=0.001, max_iter=1000,\n",
        "                 regularization='l2'):\n",
        "        '''\n",
        "        Для начала необходимо инициализировать параметры\n",
        "        alpha - это learning rate или шаг обучения\n",
        "        l_ratio - параметр регуляризации\n",
        "        tol - значение для критерия останова\n",
        "        max_iter - максимальное количество итераций обучения\n",
        "        '''\n",
        "\n",
        "        self.alpha = alpha\n",
        "        self.l_ratio = l_ratio\n",
        "        self.tol = tol\n",
        "        self.max_iter = max_iter\n",
        "        self.regularization = regularization\n",
        "        self.weights = None\n",
        "\n",
        "    def fit(self, X, y):\n",
        "        '''\n",
        "        Метод для обучения линейной регрессии\n",
        "        X - матрица признаков\n",
        "        y - вектор правильных ответов\n",
        "        '''\n",
        "\n",
        "        X = np.insert(X, 0, 1, axis=1)\n",
        "        n_samples, n_features = X.shape\n",
        "        self.weights = np.zeros(n_features)\n",
        "\n",
        "        for i in range(self.max_iter):\n",
        "            predictions = X.dot(self.weights)\n",
        "            errors = predictions - y\n",
        "            gradient = X.T.dot(errors) / len(y)\n",
        "\n",
        "            if self.regularization == 'l2':\n",
        "                gradient += self.l_ratio * self.weights\n",
        "            elif self.regularization == 'l1':\n",
        "                gradient += self.l_ratio * np.sign(self.weights)\n",
        "\n",
        "            new_weights = self.weights - self.alpha * gradient\n",
        "\n",
        "            if np.linalg.norm(new_weights - self.weights) < self.tol or \\\n",
        "               np.abs(np.mean(errors ** 2) - np.mean((X.dot(new_weights) - y) ** 2)) < self.tol:\n",
        "                break\n",
        "\n",
        "            self.weights = new_weights\n",
        "\n",
        "    def predict(self, X):\n",
        "        '''\n",
        "        Метод для предсказаний линейной регрессии\n",
        "        X - матрица признаков\n",
        "        '''\n",
        "\n",
        "        X = np.hstack((np.ones((X.shape[0], 1)), X))\n",
        "        return X.dot(self.weights)"
      ]
    },
    {
      "cell_type": "code",
      "execution_count": 6,
      "metadata": {
        "id": "JeDqu9S1PxDN",
        "colab": {
          "base_uri": "https://localhost:8080/"
        },
        "outputId": "3b9fed96-b264-4ab9-9ab4-270174bf7567"
      },
      "outputs": [
        {
          "output_type": "stream",
          "name": "stdout",
          "text": [
            "You are amazing! Great work!\n"
          ]
        }
      ],
      "source": [
        "my_reg = LinearRegression(regularization='l2')\n",
        "my_reg.fit(X, y)\n",
        "predictions = my_reg.predict(X)\n",
        "print('You are amazing! Great work!')"
      ]
    },
    {
      "cell_type": "markdown",
      "metadata": {
        "id": "Wmz03XmXPxDN"
      },
      "source": [
        "***Задание 5 (1 балл)***. Обучите линейную регрессию из коробки\n",
        "\n",
        "* с l1-регуляризацией (from sklearn.linear_model import Lasso, **первый и второй вариант**) или с l2-регуляризацией (from sklearn.linear_model import Ridge, **третий и четвертый вариант**)\n",
        "* со значением параметра регуляризации **0.1 - для первого и третьего варианта, 0.01 - для второго и четвертого варианта**.\n",
        "\n",
        "Обучите вашу линейную регрессию с тем же значением параметра регуляризации и сравните результаты. Сделайте выводы."
      ]
    },
    {
      "cell_type": "code",
      "execution_count": 7,
      "metadata": {
        "id": "SGOCy9FTPxDN",
        "colab": {
          "base_uri": "https://localhost:8080/"
        },
        "outputId": "ef9499c8-8855-4b3b-c52f-c026e6068fdb"
      },
      "outputs": [
        {
          "output_type": "stream",
          "name": "stdout",
          "text": [
            "Ridge MSE: 3.412836307633655e-08\n",
            "My Linear Regression MSE: 26420.94933614808\n",
            "Results are different\n"
          ]
        }
      ],
      "source": [
        "from sklearn.preprocessing import StandardScaler\n",
        "from sklearn.linear_model import Ridge\n",
        "from sklearn.metrics import mean_squared_error\n",
        "import numpy as np\n",
        "\n",
        "scaler = StandardScaler()\n",
        "X_scaled = scaler.fit_transform(X)\n",
        "\n",
        "ridge_reg = Ridge(alpha=0.01)\n",
        "ridge_reg.fit(X_scaled, y)\n",
        "ridge_pred = ridge_reg.predict(X_scaled)\n",
        "ridge_mse = mean_squared_error(y, ridge_pred)\n",
        "\n",
        "my_reg = LinearRegression(l_ratio=0.01)\n",
        "my_reg.fit(X_scaled, y)\n",
        "my_pred = my_reg.predict(X_scaled)\n",
        "my_mse = mean_squared_error(y, my_pred)\n",
        "\n",
        "print(f'Ridge MSE: {ridge_mse}')\n",
        "print(f'My Linear Regression MSE: {my_mse}')\n",
        "print(\"Results are similar\" if np.isclose(ridge_mse, my_mse, atol=1e-3) else \"Results are different\")"
      ]
    },
    {
      "cell_type": "markdown",
      "metadata": {
        "id": "PT8j1DniPxDN"
      },
      "source": [
        "***Задание 6* (1 балл).***\n",
        "Пусть $P, Q \\in \\mathbb{R}^{n\\times n}$. Найдите $\\nabla_Q tr(PQ)$"
      ]
    },
    {
      "cell_type": "markdown",
      "metadata": {
        "id": "sNSgbj3cPxDN"
      },
      "source": [
        "***Задание 7* (1 балл).***\n",
        "Пусть $x, y \\in \\mathbb{R}^{n}, M \\in \\mathbb{R}^{n\\times n}$. Найдите $\\nabla_M x^T M y$"
      ]
    },
    {
      "cell_type": "markdown",
      "metadata": {
        "id": "Nxyh4a62PxDN"
      },
      "source": [
        "Решения заданий 6 и 7 можно написать на листочке и отправить в anytask вместе с заполненным ноутбуком."
      ]
    }
  ],
  "metadata": {
    "kernelspec": {
      "display_name": "Python 3",
      "language": "python",
      "name": "python3"
    },
    "language_info": {
      "codemirror_mode": {
        "name": "ipython",
        "version": 3
      },
      "file_extension": ".py",
      "mimetype": "text/x-python",
      "name": "python",
      "nbconvert_exporter": "python",
      "pygments_lexer": "ipython3",
      "version": "3.7.6"
    },
    "colab": {
      "provenance": [],
      "include_colab_link": true
    }
  },
  "nbformat": 4,
  "nbformat_minor": 0
}