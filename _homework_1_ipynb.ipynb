{
  "cells": [
    {
      "cell_type": "markdown",
      "metadata": {
        "id": "view-in-github",
        "colab_type": "text"
      },
      "source": [
        "<a href=\"https://colab.research.google.com/github/OtolaHan/Otola_Han_KAAN/blob/main/_homework_1_ipynb.ipynb\" target=\"_parent\"><img src=\"https://colab.research.google.com/assets/colab-badge.svg\" alt=\"Open In Colab\"/></a>"
      ]
    },
    {
      "cell_type": "markdown",
      "metadata": {
        "id": "q5l7Gkv5PxDK"
      },
      "source": [
        "# Домашнее задание №1: линейная регрессия и векторное дифференцирование (10 баллов).\n",
        "\n",
        "* Максимальное количество баллов за задания в ноутбуке - 11, но больше 10 оценка не ставится, поэтому для получения максимальной оценки можно сделать не все задания.\n",
        "\n",
        "* Некоторые задания будут по вариантам (всего 4 варианта). Чтобы выяснить свой вариант, посчитайте количество букв в своей фамилии, возьмете остаток от деления на 4 и прибавьте 1."
      ]
    },
    {
      "cell_type": "code",
      "execution_count": 1,
      "metadata": {
        "id": "lSOIREnNPxDL"
      },
      "outputs": [],
      "source": [
        "import numpy as np"
      ]
    },
    {
      "cell_type": "markdown",
      "metadata": {
        "id": "JZ8sHdo2PxDL"
      },
      "source": [
        "## Многомерная линейная регрессия из sklearn"
      ]
    },
    {
      "cell_type": "markdown",
      "metadata": {
        "id": "giMrVA5IPxDM"
      },
      "source": [
        "Применим многомерную регрессию из sklearn для стандартного датасета"
      ]
    },
    {
      "cell_type": "code",
      "execution_count": 9,
      "metadata": {
        "colab": {
          "base_uri": "https://localhost:8080/"
        },
        "id": "TYxnS0UGPxDM",
        "outputId": "d15c0cf9-1966-4467-b13b-111f0b8ee5af"
      },
      "outputs": [
        {
          "output_type": "stream",
          "name": "stdout",
          "text": [
            "(10000, 100) (10000,)\n"
          ]
        }
      ],
      "source": [
        "from sklearn.datasets import make_regression\n",
        "\n",
        "X, y = make_regression(n_samples = 10000)\n",
        "print(X.shape, y.shape)"
      ]
    },
    {
      "cell_type": "markdown",
      "metadata": {
        "id": "uWMR1pM7PxDM"
      },
      "source": [
        "У нас 10000 объектов и 100 признаков. Для начала решим задачу аналитически \"из коробки\"."
      ]
    },
    {
      "cell_type": "code",
      "execution_count": 10,
      "metadata": {
        "colab": {
          "base_uri": "https://localhost:8080/"
        },
        "id": "M5mi_RlLPxDM",
        "outputId": "9cb0d590-57a1-4756-c777-475169b3fb2a"
      },
      "outputs": [
        {
          "output_type": "stream",
          "name": "stdout",
          "text": [
            "1.8660016528897028e-25\n"
          ]
        }
      ],
      "source": [
        "from sklearn.linear_model import LinearRegression\n",
        "from sklearn.metrics import mean_squared_error\n",
        "\n",
        "reg = LinearRegression().fit(X, y)\n",
        "print(mean_squared_error(y, reg.predict(X)))"
      ]
    },
    {
      "cell_type": "markdown",
      "metadata": {
        "id": "Za_5dDLcPxDM"
      },
      "source": [
        "Теперь попробуем обучить линейную регрессию методом градиентного спуска \"из коробки\""
      ]
    },
    {
      "cell_type": "code",
      "execution_count": 11,
      "metadata": {
        "colab": {
          "base_uri": "https://localhost:8080/"
        },
        "id": "MMps5JC7PxDM",
        "outputId": "ee6bf74b-30f9-4156-a817-b721b65e0128"
      },
      "outputs": [
        {
          "output_type": "stream",
          "name": "stdout",
          "text": [
            "MSE for SGDRegressor: 3.2180558465576105e-06\n"
          ]
        }
      ],
      "source": [
        "from sklearn.linear_model import SGDRegressor\n",
        "from sklearn.metrics import mean_squared_error\n",
        "\n",
        "# Подбор гиперпараметров\n",
        "alpha = 1e-5\n",
        "max_iter = 1000\n",
        "tol = 1e-3\n",
        "\n",
        "reg_sgd = SGDRegressor(alpha=alpha, max_iter=max_iter, tol=tol, random_state=42)\n",
        "reg_sgd.fit(X, y)\n",
        "mse_sgd = mean_squared_error(y, reg_sgd.predict(X))\n",
        "\n",
        "print(f\"MSE for SGDRegressor: {mse_sgd}\")"
      ]
    },
    {
      "cell_type": "markdown",
      "metadata": {
        "id": "-npJW2a1PxDM"
      },
      "source": [
        "***Задание 1 (0.5 балла).*** Объясните, чем вызвано различие двух полученных значений метрики?\n",
        "\n",
        "***Задание 2 (0.5 балла).*** Подберите гиперпараметры в методе градиентного спуска так, чтобы значение MSE было близко к значению MSE, полученному при обучении LinearRegression."
      ]
    },
    {
      "cell_type": "markdown",
      "metadata": {
        "id": "HodNiYjOPxDN"
      },
      "source": [
        "## Ваша многомерная линейная регрессия"
      ]
    },
    {
      "cell_type": "markdown",
      "metadata": {
        "id": "R88i80zOPxDN"
      },
      "source": [
        "***Задание 3 (5 баллов)***. Напишите собственную многомерную линейную регрессию, оптимизирующую MSE методом *градиентного спуска*. Для этого используйте шаблонный класс.\n",
        "\n",
        "Критерий останова: либо норма разности весов на текущей и предыдущей итерациях меньше определенного значения (первый и третий варианты), либо модуль разности функционалов качества (MSE) на текущей и предыдущей итерациях меньше определенного значения (второй и четвертый варианты). Также предлагается завершать обучение в любом случае, если было произведено слишком много итераций.\n",
        "\n",
        "***Задание 4 (2 балла)***. Добавьте l1 (первый и второй варианты) или l2 (третий и четвертый варианты) регуляризацию."
      ]
    },
    {
      "cell_type": "code",
      "execution_count": 12,
      "metadata": {
        "id": "p1NSi94BPxDN"
      },
      "outputs": [],
      "source": [
        "class LinearRegression(object):\n",
        "    def __init__(self, alpha=0.0001, l_ratio=0.001, tol=0.001, max_iter=1000,\n",
        "                 regularization='l2'):\n",
        "        '''\n",
        "        Для начала необходимо инициализировать параметры\n",
        "        alpha - это learning rate или шаг обучения\n",
        "        l_ratio - параметр регуляризации\n",
        "        tol - значение для критерия останова\n",
        "        max_iter - максимальное количество итераций обучения\n",
        "        '''\n",
        "\n",
        "        self.alpha = alpha\n",
        "        self.l_ratio = l_ratio\n",
        "        self.tol = tol\n",
        "        self.max_iter = max_iter\n",
        "        self.regularization = regularization\n",
        "        self.weights = None\n",
        "\n",
        "    def fit(self, X, y):\n",
        "        '''\n",
        "        Метод для обучения линейной регрессии\n",
        "        X - матрица признаков\n",
        "        y - вектор правильных ответов\n",
        "        '''\n",
        "\n",
        "        X = np.insert(X, 0, 1, axis=1)\n",
        "        n_samples, n_features = X.shape\n",
        "        self.weights = np.zeros(n_features)\n",
        "\n",
        "        for i in range(self.max_iter):\n",
        "            predictions = X.dot(self.weights)\n",
        "            errors = predictions - y\n",
        "            gradient = X.T.dot(errors) / len(y)\n",
        "\n",
        "            if self.regularization == 'l2':\n",
        "                gradient += self.l_ratio * self.weights\n",
        "            elif self.regularization == 'l1':\n",
        "                gradient += self.l_ratio * np.sign(self.weights)\n",
        "\n",
        "            new_weights = self.weights - self.alpha * gradient\n",
        "\n",
        "            if np.linalg.norm(new_weights - self.weights) < self.tol or \\\n",
        "               np.abs(np.mean(errors ** 2) - np.mean((X.dot(new_weights) - y) ** 2)) < self.tol:\n",
        "                break\n",
        "\n",
        "            self.weights = new_weights\n",
        "\n",
        "    def predict(self, X):\n",
        "        '''\n",
        "        Метод для предсказаний линейной регрессии\n",
        "        X - матрица признаков\n",
        "        '''\n",
        "\n",
        "        X = np.hstack((np.ones((X.shape[0], 1)), X))\n",
        "        return X.dot(self.weights)"
      ]
    },
    {
      "cell_type": "code",
      "execution_count": 14,
      "metadata": {
        "id": "JeDqu9S1PxDN",
        "colab": {
          "base_uri": "https://localhost:8080/"
        },
        "outputId": "df573b8c-337c-4a8a-d927-b5daa2581a06"
      },
      "outputs": [
        {
          "output_type": "stream",
          "name": "stdout",
          "text": [
            "You are amazing! Great work!\n"
          ]
        }
      ],
      "source": [
        "my_reg = LinearRegression(regularization='l2')\n",
        "my_reg.fit(X, y)\n",
        "predictions = my_reg.predict(X)\n",
        "print('You are amazing! Great work!')"
      ]
    },
    {
      "cell_type": "markdown",
      "metadata": {
        "id": "Wmz03XmXPxDN"
      },
      "source": [
        "***Задание 5 (1 балл)***. Обучите линейную регрессию из коробки\n",
        "\n",
        "* с l1-регуляризацией (from sklearn.linear_model import Lasso, **первый и второй вариант**) или с l2-регуляризацией (from sklearn.linear_model import Ridge, **третий и четвертый вариант**)\n",
        "* со значением параметра регуляризации **0.1 - для первого и третьего варианта, 0.01 - для второго и четвертого варианта**.\n",
        "\n",
        "Обучите вашу линейную регрессию с тем же значением параметра регуляризации и сравните результаты. Сделайте выводы."
      ]
    },
    {
      "cell_type": "code",
      "execution_count": 18,
      "metadata": {
        "id": "SGOCy9FTPxDN",
        "colab": {
          "base_uri": "https://localhost:8080/"
        },
        "outputId": "7b69f1d2-d02e-40fc-e395-e9eb2a907f7c"
      },
      "outputs": [
        {
          "output_type": "stream",
          "name": "stdout",
          "text": [
            "Ridge MSE: 3.001299234616173e-08\n",
            "My Linear Regression MSE: 23847.67361153917\n",
            "Results are different\n"
          ]
        }
      ],
      "source": [
        "from sklearn.preprocessing import StandardScaler\n",
        "from sklearn.linear_model import Ridge\n",
        "from sklearn.metrics import mean_squared_error\n",
        "import numpy as np\n",
        "\n",
        "scaler = StandardScaler()\n",
        "X_scaled = scaler.fit_transform(X)\n",
        "\n",
        "ridge_reg = Ridge(alpha=0.01)\n",
        "ridge_reg.fit(X_scaled, y)\n",
        "ridge_pred = ridge_reg.predict(X_scaled)\n",
        "ridge_mse = mean_squared_error(y, ridge_pred)\n",
        "\n",
        "my_reg = LinearRegression(l_ratio=0.01)\n",
        "my_reg.fit(X_scaled, y)\n",
        "my_pred = my_reg.predict(X_scaled)\n",
        "my_mse = mean_squared_error(y, my_pred)\n",
        "\n",
        "print(f'Ridge MSE: {ridge_mse}')\n",
        "print(f'My Linear Regression MSE: {my_mse}')\n",
        "print(\"Results are similar\" if np.isclose(ridge_mse, my_mse, atol=1e-3) else \"Results are different\")"
      ]
    },
    {
      "cell_type": "markdown",
      "metadata": {
        "id": "PT8j1DniPxDN"
      },
      "source": [
        "***Задание 6* (1 балл).***\n",
        "Пусть $P, Q \\in \\mathbb{R}^{n\\times n}$. Найдите $\\nabla_Q tr(PQ)$"
      ]
    },
    {
      "cell_type": "markdown",
      "metadata": {
        "id": "sNSgbj3cPxDN"
      },
      "source": [
        "***Задание 7* (1 балл).***\n",
        "Пусть $x, y \\in \\mathbb{R}^{n}, M \\in \\mathbb{R}^{n\\times n}$. Найдите $\\nabla_M x^T M y$"
      ]
    },
    {
      "cell_type": "markdown",
      "metadata": {
        "id": "Nxyh4a62PxDN"
      },
      "source": [
        "Решения заданий 6 и 7 можно написать на листочке и отправить в anytask вместе с заполненным ноутбуком."
      ]
    }
  ],
  "metadata": {
    "kernelspec": {
      "display_name": "Python 3",
      "language": "python",
      "name": "python3"
    },
    "language_info": {
      "codemirror_mode": {
        "name": "ipython",
        "version": 3
      },
      "file_extension": ".py",
      "mimetype": "text/x-python",
      "name": "python",
      "nbconvert_exporter": "python",
      "pygments_lexer": "ipython3",
      "version": "3.7.6"
    },
    "colab": {
      "provenance": [],
      "include_colab_link": true
    }
  },
  "nbformat": 4,
  "nbformat_minor": 0
}