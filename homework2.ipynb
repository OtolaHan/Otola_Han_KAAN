{
  "cells": [
    {
      "cell_type": "markdown",
      "metadata": {
        "id": "view-in-github",
        "colab_type": "text"
      },
      "source": [
        "<a href=\"https://colab.research.google.com/github/OtolaHan/Otola_Han_KAAN/blob/main/homework2.ipynb\" target=\"_parent\"><img src=\"https://colab.research.google.com/assets/colab-badge.svg\" alt=\"Open In Colab\"/></a>"
      ]
    },
    {
      "cell_type": "markdown",
      "metadata": {
        "id": "DKYUWj_VmOYe"
      },
      "source": [
        "# Домашнее задание №2\n",
        "\n",
        "**"
      ]
    },
    {
      "cell_type": "markdown",
      "metadata": {
        "id": "peQ4F32omOYf"
      },
      "source": [
        "## Часть 1. ML workflow (**всего 5 баллов**)"
      ]
    },
    {
      "cell_type": "code",
      "execution_count": 1,
      "metadata": {
        "id": "KED-0OGJmOYg"
      },
      "outputs": [],
      "source": [
        "import numpy as np\n",
        "import pandas as pd\n",
        "from sklearn.model_selection import train_test_split, cross_val_score, GridSearchCV\n",
        "\n",
        "from sklearn.linear_model import LinearRegression\n",
        "from sklearn.tree import DecisionTreeRegressor\n",
        "\n",
        "from sklearn.metrics import mean_squared_error, r2_score\n",
        "\n",
        "from sklearn.preprocessing import PolynomialFeatures\n",
        "from sklearn.pipeline import Pipeline\n",
        "\n",
        "from itertools import product"
      ]
    },
    {
      "cell_type": "markdown",
      "metadata": {
        "id": "iSq8Am5HmOYg"
      },
      "source": [
        "### Загрузим данные для работы."
      ]
    },
    {
      "cell_type": "code",
      "execution_count": 4,
      "metadata": {
        "colab": {
          "base_uri": "https://localhost:8080/",
          "height": 206
        },
        "id": "8KEs5gUvmOYh",
        "outputId": "5f842368-b18a-4c31-bfe3-6eb622565bea"
      },
      "outputs": [
        {
          "output_type": "execute_result",
          "data": {
            "text/plain": [
              "   fixed acidity  volatile acidity  citric acid  residual sugar  chlorides  \\\n",
              "0            7.4              0.70         0.00             1.9      0.076   \n",
              "1            7.8              0.88         0.00             2.6      0.098   \n",
              "2            7.8              0.76         0.04             2.3      0.092   \n",
              "3           11.2              0.28         0.56             1.9      0.075   \n",
              "4            7.4              0.70         0.00             1.9      0.076   \n",
              "\n",
              "   free sulfur dioxide  total sulfur dioxide  density    pH  sulphates  \\\n",
              "0                 11.0                  34.0   0.9978  3.51       0.56   \n",
              "1                 25.0                  67.0   0.9968  3.20       0.68   \n",
              "2                 15.0                  54.0   0.9970  3.26       0.65   \n",
              "3                 17.0                  60.0   0.9980  3.16       0.58   \n",
              "4                 11.0                  34.0   0.9978  3.51       0.56   \n",
              "\n",
              "   alcohol  quality  \n",
              "0      9.4        5  \n",
              "1      9.8        5  \n",
              "2      9.8        5  \n",
              "3      9.8        6  \n",
              "4      9.4        5  "
            ],
            "text/html": [
              "\n",
              "  <div id=\"df-21c604a0-0c9e-486c-b22a-94e0d1ace28a\" class=\"colab-df-container\">\n",
              "    <div>\n",
              "<style scoped>\n",
              "    .dataframe tbody tr th:only-of-type {\n",
              "        vertical-align: middle;\n",
              "    }\n",
              "\n",
              "    .dataframe tbody tr th {\n",
              "        vertical-align: top;\n",
              "    }\n",
              "\n",
              "    .dataframe thead th {\n",
              "        text-align: right;\n",
              "    }\n",
              "</style>\n",
              "<table border=\"1\" class=\"dataframe\">\n",
              "  <thead>\n",
              "    <tr style=\"text-align: right;\">\n",
              "      <th></th>\n",
              "      <th>fixed acidity</th>\n",
              "      <th>volatile acidity</th>\n",
              "      <th>citric acid</th>\n",
              "      <th>residual sugar</th>\n",
              "      <th>chlorides</th>\n",
              "      <th>free sulfur dioxide</th>\n",
              "      <th>total sulfur dioxide</th>\n",
              "      <th>density</th>\n",
              "      <th>pH</th>\n",
              "      <th>sulphates</th>\n",
              "      <th>alcohol</th>\n",
              "      <th>quality</th>\n",
              "    </tr>\n",
              "  </thead>\n",
              "  <tbody>\n",
              "    <tr>\n",
              "      <th>0</th>\n",
              "      <td>7.4</td>\n",
              "      <td>0.70</td>\n",
              "      <td>0.00</td>\n",
              "      <td>1.9</td>\n",
              "      <td>0.076</td>\n",
              "      <td>11.0</td>\n",
              "      <td>34.0</td>\n",
              "      <td>0.9978</td>\n",
              "      <td>3.51</td>\n",
              "      <td>0.56</td>\n",
              "      <td>9.4</td>\n",
              "      <td>5</td>\n",
              "    </tr>\n",
              "    <tr>\n",
              "      <th>1</th>\n",
              "      <td>7.8</td>\n",
              "      <td>0.88</td>\n",
              "      <td>0.00</td>\n",
              "      <td>2.6</td>\n",
              "      <td>0.098</td>\n",
              "      <td>25.0</td>\n",
              "      <td>67.0</td>\n",
              "      <td>0.9968</td>\n",
              "      <td>3.20</td>\n",
              "      <td>0.68</td>\n",
              "      <td>9.8</td>\n",
              "      <td>5</td>\n",
              "    </tr>\n",
              "    <tr>\n",
              "      <th>2</th>\n",
              "      <td>7.8</td>\n",
              "      <td>0.76</td>\n",
              "      <td>0.04</td>\n",
              "      <td>2.3</td>\n",
              "      <td>0.092</td>\n",
              "      <td>15.0</td>\n",
              "      <td>54.0</td>\n",
              "      <td>0.9970</td>\n",
              "      <td>3.26</td>\n",
              "      <td>0.65</td>\n",
              "      <td>9.8</td>\n",
              "      <td>5</td>\n",
              "    </tr>\n",
              "    <tr>\n",
              "      <th>3</th>\n",
              "      <td>11.2</td>\n",
              "      <td>0.28</td>\n",
              "      <td>0.56</td>\n",
              "      <td>1.9</td>\n",
              "      <td>0.075</td>\n",
              "      <td>17.0</td>\n",
              "      <td>60.0</td>\n",
              "      <td>0.9980</td>\n",
              "      <td>3.16</td>\n",
              "      <td>0.58</td>\n",
              "      <td>9.8</td>\n",
              "      <td>6</td>\n",
              "    </tr>\n",
              "    <tr>\n",
              "      <th>4</th>\n",
              "      <td>7.4</td>\n",
              "      <td>0.70</td>\n",
              "      <td>0.00</td>\n",
              "      <td>1.9</td>\n",
              "      <td>0.076</td>\n",
              "      <td>11.0</td>\n",
              "      <td>34.0</td>\n",
              "      <td>0.9978</td>\n",
              "      <td>3.51</td>\n",
              "      <td>0.56</td>\n",
              "      <td>9.4</td>\n",
              "      <td>5</td>\n",
              "    </tr>\n",
              "  </tbody>\n",
              "</table>\n",
              "</div>\n",
              "    <div class=\"colab-df-buttons\">\n",
              "\n",
              "  <div class=\"colab-df-container\">\n",
              "    <button class=\"colab-df-convert\" onclick=\"convertToInteractive('df-21c604a0-0c9e-486c-b22a-94e0d1ace28a')\"\n",
              "            title=\"Convert this dataframe to an interactive table.\"\n",
              "            style=\"display:none;\">\n",
              "\n",
              "  <svg xmlns=\"http://www.w3.org/2000/svg\" height=\"24px\" viewBox=\"0 -960 960 960\">\n",
              "    <path d=\"M120-120v-720h720v720H120Zm60-500h600v-160H180v160Zm220 220h160v-160H400v160Zm0 220h160v-160H400v160ZM180-400h160v-160H180v160Zm440 0h160v-160H620v160ZM180-180h160v-160H180v160Zm440 0h160v-160H620v160Z\"/>\n",
              "  </svg>\n",
              "    </button>\n",
              "\n",
              "  <style>\n",
              "    .colab-df-container {\n",
              "      display:flex;\n",
              "      gap: 12px;\n",
              "    }\n",
              "\n",
              "    .colab-df-convert {\n",
              "      background-color: #E8F0FE;\n",
              "      border: none;\n",
              "      border-radius: 50%;\n",
              "      cursor: pointer;\n",
              "      display: none;\n",
              "      fill: #1967D2;\n",
              "      height: 32px;\n",
              "      padding: 0 0 0 0;\n",
              "      width: 32px;\n",
              "    }\n",
              "\n",
              "    .colab-df-convert:hover {\n",
              "      background-color: #E2EBFA;\n",
              "      box-shadow: 0px 1px 2px rgba(60, 64, 67, 0.3), 0px 1px 3px 1px rgba(60, 64, 67, 0.15);\n",
              "      fill: #174EA6;\n",
              "    }\n",
              "\n",
              "    .colab-df-buttons div {\n",
              "      margin-bottom: 4px;\n",
              "    }\n",
              "\n",
              "    [theme=dark] .colab-df-convert {\n",
              "      background-color: #3B4455;\n",
              "      fill: #D2E3FC;\n",
              "    }\n",
              "\n",
              "    [theme=dark] .colab-df-convert:hover {\n",
              "      background-color: #434B5C;\n",
              "      box-shadow: 0px 1px 3px 1px rgba(0, 0, 0, 0.15);\n",
              "      filter: drop-shadow(0px 1px 2px rgba(0, 0, 0, 0.3));\n",
              "      fill: #FFFFFF;\n",
              "    }\n",
              "  </style>\n",
              "\n",
              "    <script>\n",
              "      const buttonEl =\n",
              "        document.querySelector('#df-21c604a0-0c9e-486c-b22a-94e0d1ace28a button.colab-df-convert');\n",
              "      buttonEl.style.display =\n",
              "        google.colab.kernel.accessAllowed ? 'block' : 'none';\n",
              "\n",
              "      async function convertToInteractive(key) {\n",
              "        const element = document.querySelector('#df-21c604a0-0c9e-486c-b22a-94e0d1ace28a');\n",
              "        const dataTable =\n",
              "          await google.colab.kernel.invokeFunction('convertToInteractive',\n",
              "                                                    [key], {});\n",
              "        if (!dataTable) return;\n",
              "\n",
              "        const docLinkHtml = 'Like what you see? Visit the ' +\n",
              "          '<a target=\"_blank\" href=https://colab.research.google.com/notebooks/data_table.ipynb>data table notebook</a>'\n",
              "          + ' to learn more about interactive tables.';\n",
              "        element.innerHTML = '';\n",
              "        dataTable['output_type'] = 'display_data';\n",
              "        await google.colab.output.renderOutput(dataTable, element);\n",
              "        const docLink = document.createElement('div');\n",
              "        docLink.innerHTML = docLinkHtml;\n",
              "        element.appendChild(docLink);\n",
              "      }\n",
              "    </script>\n",
              "  </div>\n",
              "\n",
              "\n",
              "<div id=\"df-ef749b2b-0a59-40ed-86bc-29b553a6b6ce\">\n",
              "  <button class=\"colab-df-quickchart\" onclick=\"quickchart('df-ef749b2b-0a59-40ed-86bc-29b553a6b6ce')\"\n",
              "            title=\"Suggest charts\"\n",
              "            style=\"display:none;\">\n",
              "\n",
              "<svg xmlns=\"http://www.w3.org/2000/svg\" height=\"24px\"viewBox=\"0 0 24 24\"\n",
              "     width=\"24px\">\n",
              "    <g>\n",
              "        <path d=\"M19 3H5c-1.1 0-2 .9-2 2v14c0 1.1.9 2 2 2h14c1.1 0 2-.9 2-2V5c0-1.1-.9-2-2-2zM9 17H7v-7h2v7zm4 0h-2V7h2v10zm4 0h-2v-4h2v4z\"/>\n",
              "    </g>\n",
              "</svg>\n",
              "  </button>\n",
              "\n",
              "<style>\n",
              "  .colab-df-quickchart {\n",
              "      --bg-color: #E8F0FE;\n",
              "      --fill-color: #1967D2;\n",
              "      --hover-bg-color: #E2EBFA;\n",
              "      --hover-fill-color: #174EA6;\n",
              "      --disabled-fill-color: #AAA;\n",
              "      --disabled-bg-color: #DDD;\n",
              "  }\n",
              "\n",
              "  [theme=dark] .colab-df-quickchart {\n",
              "      --bg-color: #3B4455;\n",
              "      --fill-color: #D2E3FC;\n",
              "      --hover-bg-color: #434B5C;\n",
              "      --hover-fill-color: #FFFFFF;\n",
              "      --disabled-bg-color: #3B4455;\n",
              "      --disabled-fill-color: #666;\n",
              "  }\n",
              "\n",
              "  .colab-df-quickchart {\n",
              "    background-color: var(--bg-color);\n",
              "    border: none;\n",
              "    border-radius: 50%;\n",
              "    cursor: pointer;\n",
              "    display: none;\n",
              "    fill: var(--fill-color);\n",
              "    height: 32px;\n",
              "    padding: 0;\n",
              "    width: 32px;\n",
              "  }\n",
              "\n",
              "  .colab-df-quickchart:hover {\n",
              "    background-color: var(--hover-bg-color);\n",
              "    box-shadow: 0 1px 2px rgba(60, 64, 67, 0.3), 0 1px 3px 1px rgba(60, 64, 67, 0.15);\n",
              "    fill: var(--button-hover-fill-color);\n",
              "  }\n",
              "\n",
              "  .colab-df-quickchart-complete:disabled,\n",
              "  .colab-df-quickchart-complete:disabled:hover {\n",
              "    background-color: var(--disabled-bg-color);\n",
              "    fill: var(--disabled-fill-color);\n",
              "    box-shadow: none;\n",
              "  }\n",
              "\n",
              "  .colab-df-spinner {\n",
              "    border: 2px solid var(--fill-color);\n",
              "    border-color: transparent;\n",
              "    border-bottom-color: var(--fill-color);\n",
              "    animation:\n",
              "      spin 1s steps(1) infinite;\n",
              "  }\n",
              "\n",
              "  @keyframes spin {\n",
              "    0% {\n",
              "      border-color: transparent;\n",
              "      border-bottom-color: var(--fill-color);\n",
              "      border-left-color: var(--fill-color);\n",
              "    }\n",
              "    20% {\n",
              "      border-color: transparent;\n",
              "      border-left-color: var(--fill-color);\n",
              "      border-top-color: var(--fill-color);\n",
              "    }\n",
              "    30% {\n",
              "      border-color: transparent;\n",
              "      border-left-color: var(--fill-color);\n",
              "      border-top-color: var(--fill-color);\n",
              "      border-right-color: var(--fill-color);\n",
              "    }\n",
              "    40% {\n",
              "      border-color: transparent;\n",
              "      border-right-color: var(--fill-color);\n",
              "      border-top-color: var(--fill-color);\n",
              "    }\n",
              "    60% {\n",
              "      border-color: transparent;\n",
              "      border-right-color: var(--fill-color);\n",
              "    }\n",
              "    80% {\n",
              "      border-color: transparent;\n",
              "      border-right-color: var(--fill-color);\n",
              "      border-bottom-color: var(--fill-color);\n",
              "    }\n",
              "    90% {\n",
              "      border-color: transparent;\n",
              "      border-bottom-color: var(--fill-color);\n",
              "    }\n",
              "  }\n",
              "</style>\n",
              "\n",
              "  <script>\n",
              "    async function quickchart(key) {\n",
              "      const quickchartButtonEl =\n",
              "        document.querySelector('#' + key + ' button');\n",
              "      quickchartButtonEl.disabled = true;  // To prevent multiple clicks.\n",
              "      quickchartButtonEl.classList.add('colab-df-spinner');\n",
              "      try {\n",
              "        const charts = await google.colab.kernel.invokeFunction(\n",
              "            'suggestCharts', [key], {});\n",
              "      } catch (error) {\n",
              "        console.error('Error during call to suggestCharts:', error);\n",
              "      }\n",
              "      quickchartButtonEl.classList.remove('colab-df-spinner');\n",
              "      quickchartButtonEl.classList.add('colab-df-quickchart-complete');\n",
              "    }\n",
              "    (() => {\n",
              "      let quickchartButtonEl =\n",
              "        document.querySelector('#df-ef749b2b-0a59-40ed-86bc-29b553a6b6ce button');\n",
              "      quickchartButtonEl.style.display =\n",
              "        google.colab.kernel.accessAllowed ? 'block' : 'none';\n",
              "    })();\n",
              "  </script>\n",
              "</div>\n",
              "    </div>\n",
              "  </div>\n"
            ]
          },
          "metadata": {},
          "execution_count": 4
        }
      ],
      "source": [
        "df = pd.read_csv(\"winequality-red.csv\")\n",
        "df.head()"
      ]
    },
    {
      "cell_type": "markdown",
      "metadata": {
        "id": "891UxZNmmOYh"
      },
      "source": [
        "Будем решать задачу регрессии: необходимо предсказать качество вина на основе его характеристик\n",
        "\n",
        "### Шаг 1.  (**0.2 балла**)\n",
        "Создайте матрицу X объект-признак и целевой вектор y (\"quality\")"
      ]
    },
    {
      "cell_type": "code",
      "execution_count": 5,
      "metadata": {
        "id": "9OLoqP_HmOYh"
      },
      "outputs": [],
      "source": [
        "X = df.drop('quality', axis=1)\n",
        "y = df['quality']"
      ]
    },
    {
      "cell_type": "markdown",
      "metadata": {
        "id": "n3gC5yTomOYh"
      },
      "source": [
        "### Шаг 2. (**0.2 балла**)\n",
        "Разбейте данные на train и test (доля тестовых данных - 30%)."
      ]
    },
    {
      "cell_type": "code",
      "execution_count": 6,
      "metadata": {
        "id": "aUnsP-UymOYh"
      },
      "outputs": [],
      "source": [
        "X_train, X_test, y_train, y_test = train_test_split(X, y, test_size=0.3, random_state=42)"
      ]
    },
    {
      "cell_type": "markdown",
      "metadata": {
        "id": "z1OShck5mOYi"
      },
      "source": [
        "### Шаг 3. (**0.2 балла**)\n",
        "Обучите линейную регрессию на тренировочных данных и сделайте предсказания на train и на test."
      ]
    },
    {
      "cell_type": "code",
      "execution_count": 8,
      "metadata": {
        "id": "IOF3qqEOmOYi"
      },
      "outputs": [],
      "source": [
        "lin_reg = LinearRegression()\n",
        "lin_reg.fit(X_train, y_train)\n",
        "\n",
        "# Предсказания на тренировочных и тестовых данных\n",
        "y_train_pred = lin_reg.predict(X_train)\n",
        "y_test_pred = lin_reg.predict(X_test)"
      ]
    },
    {
      "cell_type": "markdown",
      "metadata": {
        "id": "gSwy0oVMmOYi"
      },
      "source": [
        "### Шаг 4. (**0.4 балла**)\n",
        "Выведите на экран ошибку MSE на train и на test, затем выведите на экран ошибку r2 на train и test.  "
      ]
    },
    {
      "cell_type": "code",
      "execution_count": 9,
      "metadata": {
        "colab": {
          "base_uri": "https://localhost:8080/"
        },
        "id": "YYUGW07GmOYi",
        "outputId": "37fd028c-c24d-4cd9-a85b-8e835d3e2808"
      },
      "outputs": [
        {
          "output_type": "stream",
          "name": "stdout",
          "text": [
            "MSE (train): 0.42078664921236164\n",
            "MSE (test): 0.4112348717504203\n",
            "R2 (train): 0.36119824413213153\n",
            "R2 (test): 0.3513885332505232\n"
          ]
        }
      ],
      "source": [
        "print(\"MSE (train):\", mean_squared_error(y_train, y_train_pred))\n",
        "print(\"MSE (test):\", mean_squared_error(y_test, y_test_pred))\n",
        "print(\"R2 (train):\", r2_score(y_train, y_train_pred))\n",
        "print(\"R2 (test):\", r2_score(y_test, y_test_pred))"
      ]
    },
    {
      "cell_type": "markdown",
      "metadata": {
        "id": "bjeeCcwMmOYi"
      },
      "source": [
        "### Шаг 5. (**0.5 балла**)\n",
        "Вычислите среднее качество (r2) модели на кросс-валидации с k=5 фолдами."
      ]
    },
    {
      "cell_type": "code",
      "execution_count": 10,
      "metadata": {
        "colab": {
          "base_uri": "https://localhost:8080/"
        },
        "id": "vI-nr03ZmOYi",
        "outputId": "a0c4ed9c-1e64-432d-ee46-14369ba57be6"
      },
      "outputs": [
        {
          "output_type": "stream",
          "name": "stdout",
          "text": [
            "Среднее значение R2 на кросс-валидации: 0.29004162884219686\n"
          ]
        }
      ],
      "source": [
        "lin_reg_cv_score = cross_val_score(lin_reg, X, y, cv=5, scoring='r2')\n",
        "print(\"Среднее значение R2 на кросс-валидации:\", np.mean(lin_reg_cv_score))"
      ]
    },
    {
      "cell_type": "markdown",
      "metadata": {
        "id": "Ohbx6HqXmOYi"
      },
      "source": [
        "### Шаг 6.  (**0.5 балла**)\n",
        "Теперь примените линейную регрессию с L1-регуляризацией (Lasso) для данной задачи. Объявите модель и подберите параметр регуляризации alpha по сетке. Ищите alpha в диапазоне (0.1, 1.1) с шагом 0.1.\n",
        "\n",
        "Осуществите подбор параметра alpha по тренировочным данным (Xtrain, ytrain)."
      ]
    },
    {
      "cell_type": "code",
      "execution_count": 11,
      "metadata": {
        "colab": {
          "base_uri": "https://localhost:8080/",
          "height": 118
        },
        "id": "usFiLCBsmOYi",
        "outputId": "cebae3b5-bba8-4d2b-9347-1e1ca2b2d909"
      },
      "outputs": [
        {
          "output_type": "execute_result",
          "data": {
            "text/plain": [
              "GridSearchCV(cv=5, estimator=Lasso(),\n",
              "             param_grid={'alpha': array([0.1, 0.2, 0.3, 0.4, 0.5, 0.6, 0.7, 0.8, 0.9, 1. ])})"
            ],
            "text/html": [
              "<style>#sk-container-id-1 {color: black;background-color: white;}#sk-container-id-1 pre{padding: 0;}#sk-container-id-1 div.sk-toggleable {background-color: white;}#sk-container-id-1 label.sk-toggleable__label {cursor: pointer;display: block;width: 100%;margin-bottom: 0;padding: 0.3em;box-sizing: border-box;text-align: center;}#sk-container-id-1 label.sk-toggleable__label-arrow:before {content: \"▸\";float: left;margin-right: 0.25em;color: #696969;}#sk-container-id-1 label.sk-toggleable__label-arrow:hover:before {color: black;}#sk-container-id-1 div.sk-estimator:hover label.sk-toggleable__label-arrow:before {color: black;}#sk-container-id-1 div.sk-toggleable__content {max-height: 0;max-width: 0;overflow: hidden;text-align: left;background-color: #f0f8ff;}#sk-container-id-1 div.sk-toggleable__content pre {margin: 0.2em;color: black;border-radius: 0.25em;background-color: #f0f8ff;}#sk-container-id-1 input.sk-toggleable__control:checked~div.sk-toggleable__content {max-height: 200px;max-width: 100%;overflow: auto;}#sk-container-id-1 input.sk-toggleable__control:checked~label.sk-toggleable__label-arrow:before {content: \"▾\";}#sk-container-id-1 div.sk-estimator input.sk-toggleable__control:checked~label.sk-toggleable__label {background-color: #d4ebff;}#sk-container-id-1 div.sk-label input.sk-toggleable__control:checked~label.sk-toggleable__label {background-color: #d4ebff;}#sk-container-id-1 input.sk-hidden--visually {border: 0;clip: rect(1px 1px 1px 1px);clip: rect(1px, 1px, 1px, 1px);height: 1px;margin: -1px;overflow: hidden;padding: 0;position: absolute;width: 1px;}#sk-container-id-1 div.sk-estimator {font-family: monospace;background-color: #f0f8ff;border: 1px dotted black;border-radius: 0.25em;box-sizing: border-box;margin-bottom: 0.5em;}#sk-container-id-1 div.sk-estimator:hover {background-color: #d4ebff;}#sk-container-id-1 div.sk-parallel-item::after {content: \"\";width: 100%;border-bottom: 1px solid gray;flex-grow: 1;}#sk-container-id-1 div.sk-label:hover label.sk-toggleable__label {background-color: #d4ebff;}#sk-container-id-1 div.sk-serial::before {content: \"\";position: absolute;border-left: 1px solid gray;box-sizing: border-box;top: 0;bottom: 0;left: 50%;z-index: 0;}#sk-container-id-1 div.sk-serial {display: flex;flex-direction: column;align-items: center;background-color: white;padding-right: 0.2em;padding-left: 0.2em;position: relative;}#sk-container-id-1 div.sk-item {position: relative;z-index: 1;}#sk-container-id-1 div.sk-parallel {display: flex;align-items: stretch;justify-content: center;background-color: white;position: relative;}#sk-container-id-1 div.sk-item::before, #sk-container-id-1 div.sk-parallel-item::before {content: \"\";position: absolute;border-left: 1px solid gray;box-sizing: border-box;top: 0;bottom: 0;left: 50%;z-index: -1;}#sk-container-id-1 div.sk-parallel-item {display: flex;flex-direction: column;z-index: 1;position: relative;background-color: white;}#sk-container-id-1 div.sk-parallel-item:first-child::after {align-self: flex-end;width: 50%;}#sk-container-id-1 div.sk-parallel-item:last-child::after {align-self: flex-start;width: 50%;}#sk-container-id-1 div.sk-parallel-item:only-child::after {width: 0;}#sk-container-id-1 div.sk-dashed-wrapped {border: 1px dashed gray;margin: 0 0.4em 0.5em 0.4em;box-sizing: border-box;padding-bottom: 0.4em;background-color: white;}#sk-container-id-1 div.sk-label label {font-family: monospace;font-weight: bold;display: inline-block;line-height: 1.2em;}#sk-container-id-1 div.sk-label-container {text-align: center;}#sk-container-id-1 div.sk-container {/* jupyter's `normalize.less` sets `[hidden] { display: none; }` but bootstrap.min.css set `[hidden] { display: none !important; }` so we also need the `!important` here to be able to override the default hidden behavior on the sphinx rendered scikit-learn.org. See: https://github.com/scikit-learn/scikit-learn/issues/21755 */display: inline-block !important;position: relative;}#sk-container-id-1 div.sk-text-repr-fallback {display: none;}</style><div id=\"sk-container-id-1\" class=\"sk-top-container\"><div class=\"sk-text-repr-fallback\"><pre>GridSearchCV(cv=5, estimator=Lasso(),\n",
              "             param_grid={&#x27;alpha&#x27;: array([0.1, 0.2, 0.3, 0.4, 0.5, 0.6, 0.7, 0.8, 0.9, 1. ])})</pre><b>In a Jupyter environment, please rerun this cell to show the HTML representation or trust the notebook. <br />On GitHub, the HTML representation is unable to render, please try loading this page with nbviewer.org.</b></div><div class=\"sk-container\" hidden><div class=\"sk-item sk-dashed-wrapped\"><div class=\"sk-label-container\"><div class=\"sk-label sk-toggleable\"><input class=\"sk-toggleable__control sk-hidden--visually\" id=\"sk-estimator-id-1\" type=\"checkbox\" ><label for=\"sk-estimator-id-1\" class=\"sk-toggleable__label sk-toggleable__label-arrow\">GridSearchCV</label><div class=\"sk-toggleable__content\"><pre>GridSearchCV(cv=5, estimator=Lasso(),\n",
              "             param_grid={&#x27;alpha&#x27;: array([0.1, 0.2, 0.3, 0.4, 0.5, 0.6, 0.7, 0.8, 0.9, 1. ])})</pre></div></div></div><div class=\"sk-parallel\"><div class=\"sk-parallel-item\"><div class=\"sk-item\"><div class=\"sk-label-container\"><div class=\"sk-label sk-toggleable\"><input class=\"sk-toggleable__control sk-hidden--visually\" id=\"sk-estimator-id-2\" type=\"checkbox\" ><label for=\"sk-estimator-id-2\" class=\"sk-toggleable__label sk-toggleable__label-arrow\">estimator: Lasso</label><div class=\"sk-toggleable__content\"><pre>Lasso()</pre></div></div></div><div class=\"sk-serial\"><div class=\"sk-item\"><div class=\"sk-estimator sk-toggleable\"><input class=\"sk-toggleable__control sk-hidden--visually\" id=\"sk-estimator-id-3\" type=\"checkbox\" ><label for=\"sk-estimator-id-3\" class=\"sk-toggleable__label sk-toggleable__label-arrow\">Lasso</label><div class=\"sk-toggleable__content\"><pre>Lasso()</pre></div></div></div></div></div></div></div></div></div></div>"
            ]
          },
          "metadata": {},
          "execution_count": 11
        }
      ],
      "source": [
        "from sklearn.linear_model import Lasso\n",
        "\n",
        "lasso = Lasso()\n",
        "parameters = {'alpha': np.arange(0.1, 1.1, 0.1)}\n",
        "lasso_grid = GridSearchCV(lasso, parameters, cv=5)\n",
        "lasso_grid.fit(X_train, y_train)"
      ]
    },
    {
      "cell_type": "markdown",
      "metadata": {
        "id": "kYZ61PQ2mOYj"
      },
      "source": [
        "### Шаг 7.  (**0.5 балла**)\n",
        "Выведите наилучший алгоритм и наилучшее качество по результатам подбора alpha (best_estimator_ и best_score_)."
      ]
    },
    {
      "cell_type": "code",
      "execution_count": 12,
      "metadata": {
        "colab": {
          "base_uri": "https://localhost:8080/"
        },
        "id": "HAtaWC6OmOYj",
        "outputId": "11ec121f-d905-4f36-973a-932c2b76d511"
      },
      "outputs": [
        {
          "output_type": "stream",
          "name": "stdout",
          "text": [
            "Наилучший алгоритм: Lasso(alpha=0.1)\n",
            "Наилучшее качество: 0.24002181024109745\n"
          ]
        }
      ],
      "source": [
        "print(\"Наилучший алгоритм:\", lasso_grid.best_estimator_)\n",
        "print(\"Наилучшее качество:\", lasso_grid.best_score_)"
      ]
    },
    {
      "cell_type": "markdown",
      "metadata": {
        "id": "D4Rqu2lvmOYj"
      },
      "source": [
        "### Шаг 8.  (**0.5 балла**)\n",
        "\n",
        "С помощью найденного best_estimator_ сделайте предсказание на тестовых данных и выведите на экран r2-score на тесте."
      ]
    },
    {
      "cell_type": "code",
      "execution_count": 13,
      "metadata": {
        "colab": {
          "base_uri": "https://localhost:8080/"
        },
        "id": "dXV6hGsemOYj",
        "outputId": "55c9ecfd-4915-49e2-d7d9-41b84386904d"
      },
      "outputs": [
        {
          "output_type": "stream",
          "name": "stdout",
          "text": [
            "R2-score на тесте: 0.20887882853036965\n"
          ]
        }
      ],
      "source": [
        "best_lasso = lasso_grid.best_estimator_\n",
        "y_test_pred_lasso = best_lasso.predict(X_test)\n",
        "print(\"R2-score на тесте:\", r2_score(y_test, y_test_pred_lasso))"
      ]
    },
    {
      "cell_type": "markdown",
      "metadata": {
        "id": "8Q13byzzmOYj"
      },
      "source": [
        "### Шаг 9.  (**0.5 балла**)\n",
        "\n",
        "Попробуем улучшить качество модели за счет добавления полиномиальных признаков. Создайте pipeline, состоящий из добавления полиномиальных признаков степени 2, а затем применения линейной регрессии.\n",
        "\n",
        "Затем вычислите r2-score этой модели на кросс валидации с пятью фолдами."
      ]
    },
    {
      "cell_type": "code",
      "execution_count": 14,
      "metadata": {
        "colab": {
          "base_uri": "https://localhost:8080/"
        },
        "id": "Dfyjj7oMmOYj",
        "outputId": "7011ccc5-e65e-4625-9245-e4c481ed573f"
      },
      "outputs": [
        {
          "output_type": "stream",
          "name": "stdout",
          "text": [
            "R2-score с полиномиальными признаками на кросс-валидации: 0.23009617099814764\n"
          ]
        }
      ],
      "source": [
        "from sklearn.preprocessing import StandardScaler\n",
        "\n",
        "pipeline = Pipeline([\n",
        "    ('poly_features', PolynomialFeatures(degree=2)),\n",
        "    ('scaler', StandardScaler()),\n",
        "    ('lin_reg', LinearRegression())\n",
        "])\n",
        "\n",
        "poly_r2_scores = cross_val_score(pipeline, X, y, cv=5, scoring='r2')\n",
        "print(\"R2-score с полиномиальными признаками на кросс-валидации:\", np.mean(poly_r2_scores))"
      ]
    },
    {
      "cell_type": "markdown",
      "metadata": {
        "id": "dzgC8KMPmOYj"
      },
      "source": [
        "### Шаг 10.  (**0.5 балла**)\n",
        "Обучите модель (pipeline) на тренировочных данных и сделайте предсказания для train и test, затем выведите на экран r2-score и MSE на тренировочных и на тестовых данных."
      ]
    },
    {
      "cell_type": "code",
      "execution_count": 15,
      "metadata": {
        "colab": {
          "base_uri": "https://localhost:8080/"
        },
        "id": "j9CXkrrKmOYj",
        "outputId": "c5701ba5-3181-4726-84ea-fc797d88243a"
      },
      "outputs": [
        {
          "output_type": "stream",
          "name": "stdout",
          "text": [
            "R2-score (train): 0.4507762892473709\n",
            "R2-score (test): 0.35135570896634216\n",
            "MSE (train): 0.36178047851731443\n",
            "MSE (test): 0.4112556831159102\n"
          ]
        }
      ],
      "source": [
        "pipeline.fit(X_train, y_train)\n",
        "\n",
        "# Предсказания для train и test\n",
        "y_train_pred_poly = pipeline.predict(X_train)\n",
        "y_test_pred_poly = pipeline.predict(X_test)\n",
        "\n",
        "# Вывод R2-score и MSE\n",
        "print(\"R2-score (train):\", r2_score(y_train, y_train_pred_poly))\n",
        "print(\"R2-score (test):\", r2_score(y_test, y_test_pred_poly))\n",
        "print(\"MSE (train):\", mean_squared_error(y_train, y_train_pred_poly))\n",
        "print(\"MSE (test):\", mean_squared_error(y_test, y_test_pred_poly))"
      ]
    },
    {
      "cell_type": "markdown",
      "metadata": {
        "id": "SIvAvO-kmOYj"
      },
      "source": [
        "### Сделайте выводы. Для этого ответьте на вопросы: (**1 балл**)\n",
        "\n",
        "1) Хорошее ли качество показала исходная модель (линейная регрессия без регуляризации)? Является ли эта модель переобученной?\n",
        "\n",
        "2) Помогла ли L1-регуляризация улучшить качество модели?\n",
        "\n",
        "3) Помогло ли добавление полиномов второй степени улучшить качество модели? Как добавление новых признаков повлияло на переобучение?"
      ]
    },
    {
      "cell_type": "code",
      "execution_count": null,
      "metadata": {
        "id": "zkM2VhczmOYj"
      },
      "outputs": [],
      "source": [
        "#1) Для оценки качества исходной модели необходимо сравнить показатели R2 и MSE на тренировочных и тестовых данных. Если они сильно отличаются, это может указывать на переобучение.\n",
        "\n",
        "#2) L1-регуляризация может помочь улучшить качество модели за счет предотвращения переобучения и отбора признаков.\n",
        "\n",
        "#3) Добавление полиномиальных признаков может улучшить качество модели, если исходные данные имеют нелинейные зависимости. Однако это также может увеличить риск переобучения.\n"
      ]
    },
    {
      "cell_type": "markdown",
      "metadata": {
        "id": "w4rgFNMCmOYj"
      },
      "source": [
        "### *Попытайтесь улучшить модель (добейтесь наилучшего качества) - можно использовать любые методы."
      ]
    },
    {
      "cell_type": "markdown",
      "metadata": {
        "id": "JosshC8MmOYj"
      },
      "source": [
        "При улучшении качества r2 на 0.1-0.2 +1 балл, при большем улучшении +2 балла (дополнительно к 5 баллам за основную часть)."
      ]
    },
    {
      "cell_type": "code",
      "execution_count": 16,
      "metadata": {
        "colab": {
          "base_uri": "https://localhost:8080/"
        },
        "id": "hnz405LpmOYk",
        "outputId": "2c1e9aa1-788c-4740-a2e2-02d06d84dd54"
      },
      "outputs": [
        {
          "output_type": "stream",
          "name": "stdout",
          "text": [
            "R2-score на тесте с Ridge регрессией: 0.347282371002654\n"
          ]
        }
      ],
      "source": [
        "# Пример: использование Ridge регрессии\n",
        "from sklearn.linear_model import Ridge\n",
        "\n",
        "ridge = Ridge()\n",
        "parameters_ridge = {'alpha': np.logspace(-3, 3, 7)}\n",
        "ridge_grid = GridSearchCV(ridge, parameters_ridge, cv=5)\n",
        "ridge_grid.fit(X_train, y_train)\n",
        "\n",
        "best_ridge = ridge_grid.best_estimator_\n",
        "y_test_pred_ridge = best_ridge.predict(X_test)\n",
        "print(\"R2-score на тесте с Ridge регрессией:\", r2_score(y_test, y_test_pred_ridge))"
      ]
    },
    {
      "cell_type": "markdown",
      "metadata": {
        "id": "cDE1_7IBmOYk"
      },
      "source": [
        "## Часть 2. Target encoding (**всего 5 баллов**)"
      ]
    },
    {
      "cell_type": "markdown",
      "metadata": {
        "id": "fd-xJAYBmOYk"
      },
      "source": [
        "В этом части домашнего задания вы будете работать с выборкой `1C`. Вам нужно посчитать счетчики для `item_id` четырьмя способами:\n",
        "\n",
        "    1) При помощи KFold схемы;  \n",
        "    2) При помощи Leave-one-out схемы;\n",
        "    3) При помощи smoothing схемы;\n",
        "    4) При помощи expanding mean схемы."
      ]
    },
    {
      "cell_type": "markdown",
      "metadata": {
        "id": "wR_lkhuImOYk"
      },
      "source": [
        "### Подготовка данных"
      ]
    },
    {
      "cell_type": "code",
      "execution_count": 57,
      "metadata": {
        "colab": {
          "base_uri": "https://localhost:8080/",
          "height": 424
        },
        "id": "3fIJewjQmOYk",
        "outputId": "82720ac3-cc49-478a-c2a2-4748cc18cf0f"
      },
      "outputs": [
        {
          "output_type": "execute_result",
          "data": {
            "text/plain": [
              "               date  date_block_num  shop_id  item_id  item_price  target\n",
              "0        02.01.2013               0       59    22154      999.00     1.0\n",
              "1        03.01.2013               0       25     2552      899.00     1.0\n",
              "2        05.01.2013               0       25     2552      899.00    -1.0\n",
              "3        06.01.2013               0       25     2554     1709.05     1.0\n",
              "4        15.01.2013               0       25     2555     1099.00     1.0\n",
              "...             ...             ...      ...      ...         ...     ...\n",
              "2935844  10.10.2015              33       25     7409      299.00     1.0\n",
              "2935845  09.10.2015              33       25     7460      299.00     1.0\n",
              "2935846  14.10.2015              33       25     7459      349.00     1.0\n",
              "2935847  22.10.2015              33       25     7440      299.00     1.0\n",
              "2935848  03.10.2015              33       25     7460      299.00     1.0\n",
              "\n",
              "[2935849 rows x 6 columns]"
            ],
            "text/html": [
              "\n",
              "  <div id=\"df-a785d9b4-5e8d-4f2a-8f0d-2d91907be349\" class=\"colab-df-container\">\n",
              "    <div>\n",
              "<style scoped>\n",
              "    .dataframe tbody tr th:only-of-type {\n",
              "        vertical-align: middle;\n",
              "    }\n",
              "\n",
              "    .dataframe tbody tr th {\n",
              "        vertical-align: top;\n",
              "    }\n",
              "\n",
              "    .dataframe thead th {\n",
              "        text-align: right;\n",
              "    }\n",
              "</style>\n",
              "<table border=\"1\" class=\"dataframe\">\n",
              "  <thead>\n",
              "    <tr style=\"text-align: right;\">\n",
              "      <th></th>\n",
              "      <th>date</th>\n",
              "      <th>date_block_num</th>\n",
              "      <th>shop_id</th>\n",
              "      <th>item_id</th>\n",
              "      <th>item_price</th>\n",
              "      <th>target</th>\n",
              "    </tr>\n",
              "  </thead>\n",
              "  <tbody>\n",
              "    <tr>\n",
              "      <th>0</th>\n",
              "      <td>02.01.2013</td>\n",
              "      <td>0</td>\n",
              "      <td>59</td>\n",
              "      <td>22154</td>\n",
              "      <td>999.00</td>\n",
              "      <td>1.0</td>\n",
              "    </tr>\n",
              "    <tr>\n",
              "      <th>1</th>\n",
              "      <td>03.01.2013</td>\n",
              "      <td>0</td>\n",
              "      <td>25</td>\n",
              "      <td>2552</td>\n",
              "      <td>899.00</td>\n",
              "      <td>1.0</td>\n",
              "    </tr>\n",
              "    <tr>\n",
              "      <th>2</th>\n",
              "      <td>05.01.2013</td>\n",
              "      <td>0</td>\n",
              "      <td>25</td>\n",
              "      <td>2552</td>\n",
              "      <td>899.00</td>\n",
              "      <td>-1.0</td>\n",
              "    </tr>\n",
              "    <tr>\n",
              "      <th>3</th>\n",
              "      <td>06.01.2013</td>\n",
              "      <td>0</td>\n",
              "      <td>25</td>\n",
              "      <td>2554</td>\n",
              "      <td>1709.05</td>\n",
              "      <td>1.0</td>\n",
              "    </tr>\n",
              "    <tr>\n",
              "      <th>4</th>\n",
              "      <td>15.01.2013</td>\n",
              "      <td>0</td>\n",
              "      <td>25</td>\n",
              "      <td>2555</td>\n",
              "      <td>1099.00</td>\n",
              "      <td>1.0</td>\n",
              "    </tr>\n",
              "    <tr>\n",
              "      <th>...</th>\n",
              "      <td>...</td>\n",
              "      <td>...</td>\n",
              "      <td>...</td>\n",
              "      <td>...</td>\n",
              "      <td>...</td>\n",
              "      <td>...</td>\n",
              "    </tr>\n",
              "    <tr>\n",
              "      <th>2935844</th>\n",
              "      <td>10.10.2015</td>\n",
              "      <td>33</td>\n",
              "      <td>25</td>\n",
              "      <td>7409</td>\n",
              "      <td>299.00</td>\n",
              "      <td>1.0</td>\n",
              "    </tr>\n",
              "    <tr>\n",
              "      <th>2935845</th>\n",
              "      <td>09.10.2015</td>\n",
              "      <td>33</td>\n",
              "      <td>25</td>\n",
              "      <td>7460</td>\n",
              "      <td>299.00</td>\n",
              "      <td>1.0</td>\n",
              "    </tr>\n",
              "    <tr>\n",
              "      <th>2935846</th>\n",
              "      <td>14.10.2015</td>\n",
              "      <td>33</td>\n",
              "      <td>25</td>\n",
              "      <td>7459</td>\n",
              "      <td>349.00</td>\n",
              "      <td>1.0</td>\n",
              "    </tr>\n",
              "    <tr>\n",
              "      <th>2935847</th>\n",
              "      <td>22.10.2015</td>\n",
              "      <td>33</td>\n",
              "      <td>25</td>\n",
              "      <td>7440</td>\n",
              "      <td>299.00</td>\n",
              "      <td>1.0</td>\n",
              "    </tr>\n",
              "    <tr>\n",
              "      <th>2935848</th>\n",
              "      <td>03.10.2015</td>\n",
              "      <td>33</td>\n",
              "      <td>25</td>\n",
              "      <td>7460</td>\n",
              "      <td>299.00</td>\n",
              "      <td>1.0</td>\n",
              "    </tr>\n",
              "  </tbody>\n",
              "</table>\n",
              "<p>2935849 rows × 6 columns</p>\n",
              "</div>\n",
              "    <div class=\"colab-df-buttons\">\n",
              "\n",
              "  <div class=\"colab-df-container\">\n",
              "    <button class=\"colab-df-convert\" onclick=\"convertToInteractive('df-a785d9b4-5e8d-4f2a-8f0d-2d91907be349')\"\n",
              "            title=\"Convert this dataframe to an interactive table.\"\n",
              "            style=\"display:none;\">\n",
              "\n",
              "  <svg xmlns=\"http://www.w3.org/2000/svg\" height=\"24px\" viewBox=\"0 -960 960 960\">\n",
              "    <path d=\"M120-120v-720h720v720H120Zm60-500h600v-160H180v160Zm220 220h160v-160H400v160Zm0 220h160v-160H400v160ZM180-400h160v-160H180v160Zm440 0h160v-160H620v160ZM180-180h160v-160H180v160Zm440 0h160v-160H620v160Z\"/>\n",
              "  </svg>\n",
              "    </button>\n",
              "\n",
              "  <style>\n",
              "    .colab-df-container {\n",
              "      display:flex;\n",
              "      gap: 12px;\n",
              "    }\n",
              "\n",
              "    .colab-df-convert {\n",
              "      background-color: #E8F0FE;\n",
              "      border: none;\n",
              "      border-radius: 50%;\n",
              "      cursor: pointer;\n",
              "      display: none;\n",
              "      fill: #1967D2;\n",
              "      height: 32px;\n",
              "      padding: 0 0 0 0;\n",
              "      width: 32px;\n",
              "    }\n",
              "\n",
              "    .colab-df-convert:hover {\n",
              "      background-color: #E2EBFA;\n",
              "      box-shadow: 0px 1px 2px rgba(60, 64, 67, 0.3), 0px 1px 3px 1px rgba(60, 64, 67, 0.15);\n",
              "      fill: #174EA6;\n",
              "    }\n",
              "\n",
              "    .colab-df-buttons div {\n",
              "      margin-bottom: 4px;\n",
              "    }\n",
              "\n",
              "    [theme=dark] .colab-df-convert {\n",
              "      background-color: #3B4455;\n",
              "      fill: #D2E3FC;\n",
              "    }\n",
              "\n",
              "    [theme=dark] .colab-df-convert:hover {\n",
              "      background-color: #434B5C;\n",
              "      box-shadow: 0px 1px 3px 1px rgba(0, 0, 0, 0.15);\n",
              "      filter: drop-shadow(0px 1px 2px rgba(0, 0, 0, 0.3));\n",
              "      fill: #FFFFFF;\n",
              "    }\n",
              "  </style>\n",
              "\n",
              "    <script>\n",
              "      const buttonEl =\n",
              "        document.querySelector('#df-a785d9b4-5e8d-4f2a-8f0d-2d91907be349 button.colab-df-convert');\n",
              "      buttonEl.style.display =\n",
              "        google.colab.kernel.accessAllowed ? 'block' : 'none';\n",
              "\n",
              "      async function convertToInteractive(key) {\n",
              "        const element = document.querySelector('#df-a785d9b4-5e8d-4f2a-8f0d-2d91907be349');\n",
              "        const dataTable =\n",
              "          await google.colab.kernel.invokeFunction('convertToInteractive',\n",
              "                                                    [key], {});\n",
              "        if (!dataTable) return;\n",
              "\n",
              "        const docLinkHtml = 'Like what you see? Visit the ' +\n",
              "          '<a target=\"_blank\" href=https://colab.research.google.com/notebooks/data_table.ipynb>data table notebook</a>'\n",
              "          + ' to learn more about interactive tables.';\n",
              "        element.innerHTML = '';\n",
              "        dataTable['output_type'] = 'display_data';\n",
              "        await google.colab.output.renderOutput(dataTable, element);\n",
              "        const docLink = document.createElement('div');\n",
              "        docLink.innerHTML = docLinkHtml;\n",
              "        element.appendChild(docLink);\n",
              "      }\n",
              "    </script>\n",
              "  </div>\n",
              "\n",
              "\n",
              "<div id=\"df-d0eb0701-97ae-49a3-8465-675b4b73a92b\">\n",
              "  <button class=\"colab-df-quickchart\" onclick=\"quickchart('df-d0eb0701-97ae-49a3-8465-675b4b73a92b')\"\n",
              "            title=\"Suggest charts\"\n",
              "            style=\"display:none;\">\n",
              "\n",
              "<svg xmlns=\"http://www.w3.org/2000/svg\" height=\"24px\"viewBox=\"0 0 24 24\"\n",
              "     width=\"24px\">\n",
              "    <g>\n",
              "        <path d=\"M19 3H5c-1.1 0-2 .9-2 2v14c0 1.1.9 2 2 2h14c1.1 0 2-.9 2-2V5c0-1.1-.9-2-2-2zM9 17H7v-7h2v7zm4 0h-2V7h2v10zm4 0h-2v-4h2v4z\"/>\n",
              "    </g>\n",
              "</svg>\n",
              "  </button>\n",
              "\n",
              "<style>\n",
              "  .colab-df-quickchart {\n",
              "      --bg-color: #E8F0FE;\n",
              "      --fill-color: #1967D2;\n",
              "      --hover-bg-color: #E2EBFA;\n",
              "      --hover-fill-color: #174EA6;\n",
              "      --disabled-fill-color: #AAA;\n",
              "      --disabled-bg-color: #DDD;\n",
              "  }\n",
              "\n",
              "  [theme=dark] .colab-df-quickchart {\n",
              "      --bg-color: #3B4455;\n",
              "      --fill-color: #D2E3FC;\n",
              "      --hover-bg-color: #434B5C;\n",
              "      --hover-fill-color: #FFFFFF;\n",
              "      --disabled-bg-color: #3B4455;\n",
              "      --disabled-fill-color: #666;\n",
              "  }\n",
              "\n",
              "  .colab-df-quickchart {\n",
              "    background-color: var(--bg-color);\n",
              "    border: none;\n",
              "    border-radius: 50%;\n",
              "    cursor: pointer;\n",
              "    display: none;\n",
              "    fill: var(--fill-color);\n",
              "    height: 32px;\n",
              "    padding: 0;\n",
              "    width: 32px;\n",
              "  }\n",
              "\n",
              "  .colab-df-quickchart:hover {\n",
              "    background-color: var(--hover-bg-color);\n",
              "    box-shadow: 0 1px 2px rgba(60, 64, 67, 0.3), 0 1px 3px 1px rgba(60, 64, 67, 0.15);\n",
              "    fill: var(--button-hover-fill-color);\n",
              "  }\n",
              "\n",
              "  .colab-df-quickchart-complete:disabled,\n",
              "  .colab-df-quickchart-complete:disabled:hover {\n",
              "    background-color: var(--disabled-bg-color);\n",
              "    fill: var(--disabled-fill-color);\n",
              "    box-shadow: none;\n",
              "  }\n",
              "\n",
              "  .colab-df-spinner {\n",
              "    border: 2px solid var(--fill-color);\n",
              "    border-color: transparent;\n",
              "    border-bottom-color: var(--fill-color);\n",
              "    animation:\n",
              "      spin 1s steps(1) infinite;\n",
              "  }\n",
              "\n",
              "  @keyframes spin {\n",
              "    0% {\n",
              "      border-color: transparent;\n",
              "      border-bottom-color: var(--fill-color);\n",
              "      border-left-color: var(--fill-color);\n",
              "    }\n",
              "    20% {\n",
              "      border-color: transparent;\n",
              "      border-left-color: var(--fill-color);\n",
              "      border-top-color: var(--fill-color);\n",
              "    }\n",
              "    30% {\n",
              "      border-color: transparent;\n",
              "      border-left-color: var(--fill-color);\n",
              "      border-top-color: var(--fill-color);\n",
              "      border-right-color: var(--fill-color);\n",
              "    }\n",
              "    40% {\n",
              "      border-color: transparent;\n",
              "      border-right-color: var(--fill-color);\n",
              "      border-top-color: var(--fill-color);\n",
              "    }\n",
              "    60% {\n",
              "      border-color: transparent;\n",
              "      border-right-color: var(--fill-color);\n",
              "    }\n",
              "    80% {\n",
              "      border-color: transparent;\n",
              "      border-right-color: var(--fill-color);\n",
              "      border-bottom-color: var(--fill-color);\n",
              "    }\n",
              "    90% {\n",
              "      border-color: transparent;\n",
              "      border-bottom-color: var(--fill-color);\n",
              "    }\n",
              "  }\n",
              "</style>\n",
              "\n",
              "  <script>\n",
              "    async function quickchart(key) {\n",
              "      const quickchartButtonEl =\n",
              "        document.querySelector('#' + key + ' button');\n",
              "      quickchartButtonEl.disabled = true;  // To prevent multiple clicks.\n",
              "      quickchartButtonEl.classList.add('colab-df-spinner');\n",
              "      try {\n",
              "        const charts = await google.colab.kernel.invokeFunction(\n",
              "            'suggestCharts', [key], {});\n",
              "      } catch (error) {\n",
              "        console.error('Error during call to suggestCharts:', error);\n",
              "      }\n",
              "      quickchartButtonEl.classList.remove('colab-df-spinner');\n",
              "      quickchartButtonEl.classList.add('colab-df-quickchart-complete');\n",
              "    }\n",
              "    (() => {\n",
              "      let quickchartButtonEl =\n",
              "        document.querySelector('#df-d0eb0701-97ae-49a3-8465-675b4b73a92b button');\n",
              "      quickchartButtonEl.style.display =\n",
              "        google.colab.kernel.accessAllowed ? 'block' : 'none';\n",
              "    })();\n",
              "  </script>\n",
              "</div>\n",
              "    </div>\n",
              "  </div>\n"
            ]
          },
          "metadata": {},
          "execution_count": 57
        }
      ],
      "source": [
        "sales = pd.read_csv('/content/sales_train.csv.gz.csv')\n",
        "sales.columns = ['date', 'date_block_num', 'shop_id', 'item_id', 'item_price', 'target']\n",
        "sales"
      ]
    },
    {
      "cell_type": "code",
      "execution_count": 58,
      "metadata": {
        "id": "TpiDTRocmOYk"
      },
      "outputs": [],
      "source": [
        "index_cols = ['shop_id', 'item_id', 'date_block_num']\n",
        "\n",
        "# For every month we create a grid from all shops/items combinations from that month\n",
        "grid = []\n",
        "for block_num in sales['date_block_num'].unique():\n",
        "    cur_shops = sales[sales['date_block_num']==block_num]['shop_id'].unique()\n",
        "    cur_items = sales[sales['date_block_num']==block_num]['item_id'].unique()\n",
        "    grid.append(np.array(list(product(*[cur_shops, cur_items, [block_num]])),dtype='int32'))\n",
        "\n",
        "#turn the grid into pandas dataframe\n",
        "grid = pd.DataFrame(np.vstack(grid), columns = index_cols,dtype=np.int32)\n",
        "\n",
        "#get aggregated values for (shop_id, item_id, month)\n",
        "gb = sales.groupby(index_cols,as_index=False).agg({'target':'sum'})\n",
        "\n",
        "#join aggregated data to the grid\n",
        "all_data = pd.merge(grid,gb,how='left',on=index_cols).fillna(0)\n",
        "#sort the data\n",
        "all_data.sort_values(['date_block_num','shop_id','item_id'],inplace=True)"
      ]
    },
    {
      "cell_type": "markdown",
      "metadata": {
        "id": "P-iOo34lmOYk"
      },
      "source": [
        "### Mean encodings без регуляризации"
      ]
    },
    {
      "cell_type": "markdown",
      "metadata": {
        "id": "oLRGRRfKmOYk"
      },
      "source": [
        "После проделанной технической работы, мы готовы посчитать счетчики для переменной `item_id`.\n",
        "\n",
        "Ниже приведены две реализации подсчета счетчиков без регуляризации. Можно использовать данный код в качестве стартовой точки для реализации различных техник регуляризации."
      ]
    },
    {
      "cell_type": "markdown",
      "metadata": {
        "id": "3mC-CFzhmOYk"
      },
      "source": [
        "#### Способ 1"
      ]
    },
    {
      "cell_type": "code",
      "execution_count": 59,
      "metadata": {
        "colab": {
          "base_uri": "https://localhost:8080/"
        },
        "id": "giNTD-gDmOYk",
        "outputId": "90c5ff87-b6b6-4cef-8d2b-8f0c4e7d383d"
      },
      "outputs": [
        {
          "output_type": "stream",
          "name": "stdout",
          "text": [
            "0.4830386988621699\n"
          ]
        }
      ],
      "source": [
        "# Calculate a mapping: {item_id: target_mean}\n",
        "item_id_target_mean = all_data.groupby('item_id').target.mean()\n",
        "\n",
        "# In our non-regularized case we just *map* the computed means to the `item_id`'s\n",
        "all_data['item_target_enc'] = all_data['item_id'].map(item_id_target_mean)\n",
        "\n",
        "# Fill NaNs\n",
        "all_data['item_target_enc'].fillna(0.3343, inplace=True)\n",
        "\n",
        "# Print correlation\n",
        "encoded_feature = all_data['item_target_enc'].values\n",
        "print(np.corrcoef(all_data['target'].values, encoded_feature)[0][1])"
      ]
    },
    {
      "cell_type": "markdown",
      "metadata": {
        "id": "Pb_YpPttmOYo"
      },
      "source": [
        "#### Способ 2"
      ]
    },
    {
      "cell_type": "code",
      "execution_count": 60,
      "metadata": {
        "colab": {
          "base_uri": "https://localhost:8080/"
        },
        "id": "1X1m9bYlmOYo",
        "outputId": "90a869be-bf18-4811-fe96-f1cd8da4750e"
      },
      "outputs": [
        {
          "output_type": "stream",
          "name": "stdout",
          "text": [
            "0.4830386988621699\n"
          ]
        }
      ],
      "source": [
        "'''\n",
        "     Differently to `.target.mean()` function `transform`\n",
        "   will return a dataframe with an index like in `all_data`.\n",
        "   Basically this single line of code is equivalent to the first two lines from of Method 1.\n",
        "'''\n",
        "all_data['item_target_enc'] = all_data.groupby('item_id')['target'].transform('mean')\n",
        "\n",
        "# Fill NaNs\n",
        "all_data['item_target_enc'].fillna(0.3343, inplace=True)\n",
        "\n",
        "# Print correlation\n",
        "encoded_feature = all_data['item_target_enc'].values\n",
        "print(np.corrcoef(all_data['target'].values, encoded_feature)[0][1])"
      ]
    },
    {
      "cell_type": "markdown",
      "metadata": {
        "id": "Yi8t81BgmOYo"
      },
      "source": [
        "###  KFold схема (**1.25 балла**)"
      ]
    },
    {
      "cell_type": "markdown",
      "metadata": {
        "id": "6vJgDzcDmOYo"
      },
      "source": [
        "Необходимо реализовать Kfold схему с пятью фолдами. Используйте KFold(5) из sklearn.model_selection.\n",
        "\n",
        "1. Разбейте данные на 5 фолдов при помощи `sklearn.model_selection.KFold` с параметром `shuffle=False`.\n",
        "2. Проитерируйтесь по фолдам: используйте 4 обучающих фолда для подсчета средних значений таргета по `item_id` и заполните этими значениями валидационный фолд на каждой итерации.\n",
        "\n",
        "Обратите внимание на **Способ 1** из примера. В частности, изучите, как работают функции map и pd.Series.map. Они довольно полезны во многих ситуациях."
      ]
    },
    {
      "cell_type": "code",
      "execution_count": 61,
      "metadata": {
        "colab": {
          "base_uri": "https://localhost:8080/"
        },
        "id": "zq0bp_zUmOYo",
        "outputId": "e0a07f78-8e6a-4a97-f60a-5beb2fb5181e"
      },
      "outputs": [
        {
          "output_type": "stream",
          "name": "stdout",
          "text": [
            "0.4830386988621699\n"
          ]
        }
      ],
      "source": [
        "from sklearn.model_selection import KFold\n",
        "\n",
        "# Создаем объект KFold\n",
        "kf = KFold(n_splits=5, shuffle=False)\n",
        "\n",
        "# Создаем колонку для кодированных значений\n",
        "all_data['item_target_enc_kfold'] = np.nan\n",
        "\n",
        "# Проходим по каждому фолду\n",
        "for train_index, val_index in kf.split(all_data):\n",
        "    # Разделяем данные на тренировочные и валидационные\n",
        "    X_train, X_val = all_data.iloc[train_index], all_data.iloc[val_index]\n",
        "\n",
        "    # Вычисляем средние значения таргета по item_id на тренировочных данных\n",
        "    item_id_target_mean = X_train.groupby('item_id').target.mean()\n",
        "\n",
        "    # Заполняем кодированные значения на валидационных данных\n",
        "    all_data.loc[val_index, 'item_target_enc_kfold'] = X_val['item_id'].map(item_id_target_mean)\n",
        "\n",
        "# Заполняем NaN значения глобальным средним\n",
        "all_data['item_target_enc_kfold'].fillna(0.3343, inplace=True)\n",
        "\n",
        "# You will need to compute correlation like that\n",
        "corr = np.corrcoef(all_data['target'].values, encoded_feature)[0][1]\n",
        "print(corr)"
      ]
    },
    {
      "cell_type": "markdown",
      "metadata": {
        "id": "mAvYRJHwmOYo"
      },
      "source": [
        "Ожидаемый ответ 0.4165"
      ]
    },
    {
      "cell_type": "markdown",
      "metadata": {
        "id": "pJYR2FqQmOYp"
      },
      "source": [
        "### Leave-one-out схема (**1.25 балла**)"
      ]
    },
    {
      "cell_type": "markdown",
      "metadata": {
        "id": "2uQoJpzsmOYp"
      },
      "source": [
        "Необходимо реализовать leave-one-out схему . Учтите, если вы запустите код из первого задания, задав количество фолдов такое же как размер выборки, то вы, вероятно, получите правильный ответ, но ждать будете очень-очень долго.\n",
        "\n",
        "Для более быстрой реализации подсчета среднего таргета на всех объектах, кроме одного, вы можете:\n",
        "\n",
        "1. Вычислить суммарный таргет по всем объектам.\n",
        "2. Вычесть таргет конкретного объекта и разделить результат на `n_objects - 1`.\n",
        "\n",
        "Заметим, что пункт `1.` следует сделать для всех объектов. Также заметим, что пункт `2.` может быть реализован без циклов `for`.\n",
        "\n",
        "Здесь может оказаться полезной функция .transform из **Способа 2** из примера."
      ]
    },
    {
      "cell_type": "code",
      "execution_count": 62,
      "metadata": {
        "colab": {
          "base_uri": "https://localhost:8080/"
        },
        "id": "3f7pTGMlmOYp",
        "outputId": "ba9aa190-8a14-4441-f07c-d651d8c95c26"
      },
      "outputs": [
        {
          "output_type": "stream",
          "name": "stdout",
          "text": [
            "0.4830386988621699\n"
          ]
        }
      ],
      "source": [
        "# Суммарный таргет по всем объектам для каждого item_id\n",
        "cumulative_sum = all_data.groupby('item_id')['target'].cumsum() - all_data['target']\n",
        "cumulative_count = all_data.groupby('item_id').cumcount()\n",
        "\n",
        "# Вычисляем среднее значение таргета для каждого item_id, исключая текущий объект\n",
        "all_data['item_target_enc_loo'] = cumulative_sum / cumulative_count\n",
        "\n",
        "# Заполняем NaN значения глобальным средним\n",
        "all_data['item_target_enc_loo'].fillna(0.3343, inplace=True)\n",
        "\n",
        "corr = np.corrcoef(all_data['target'].values, encoded_feature)[0][1]\n",
        "print(corr)"
      ]
    },
    {
      "cell_type": "markdown",
      "metadata": {
        "id": "hecfE2q3mOYp"
      },
      "source": [
        "Ожидаемый ответ 0.4803"
      ]
    },
    {
      "cell_type": "markdown",
      "metadata": {
        "id": "9czFCcanmOYp"
      },
      "source": [
        "### Smoothing (**1.25 балла**)"
      ]
    },
    {
      "cell_type": "markdown",
      "metadata": {
        "id": "cMXH-bgcmOYp"
      },
      "source": [
        "Необходимо реализовать smoothing с $\\alpha = 100$. Используйте формулу:\n",
        "\n",
        "$\\frac{mean(target) \\cdot nrows + globalmean \\cdot \\alpha }{nrows + \\alpha}$,\n",
        "\n",
        "где $globalmean=0.3343$. Заметим, что `nrows` - это количество объектов, принадлежащих конктертной категории, а не количество строк в датасете."
      ]
    },
    {
      "cell_type": "code",
      "execution_count": 63,
      "metadata": {
        "colab": {
          "base_uri": "https://localhost:8080/"
        },
        "id": "-TiCPHGdmOYp",
        "outputId": "ef301f3a-1081-4010-c8c1-bd60cb9f7709"
      },
      "outputs": [
        {
          "output_type": "stream",
          "name": "stdout",
          "text": [
            "0.4830386988621699\n"
          ]
        }
      ],
      "source": [
        "global_mean = 0.3343\n",
        "\n",
        "alpha = 100\n",
        "\n",
        "# Вычисляем среднее значение target для каждой категории\n",
        "category_means = all_data.groupby('item_id')['target'].mean()\n",
        "\n",
        "# Реализуем smoothing с α=100\n",
        "all_data['target_smoothed'] = (\n",
        "    (category_means * all_data.groupby('item_id')['target'].count() + global_mean * alpha) /\n",
        "    (all_data.groupby('item_id')['target'].count() + alpha)\n",
        ")\n",
        "\n",
        "\n",
        "corr = np.corrcoef(all_data['target'].values, encoded_feature)[0][1]\n",
        "print(corr)"
      ]
    },
    {
      "cell_type": "markdown",
      "metadata": {
        "id": "VXR6PtavmOYp"
      },
      "source": [
        "Ожидаемый ответ 0.4818"
      ]
    },
    {
      "cell_type": "markdown",
      "metadata": {
        "id": "G0Y8heIgmOYp"
      },
      "source": [
        "### Expanding mean схема (**1.25 балла**)"
      ]
    },
    {
      "cell_type": "markdown",
      "metadata": {
        "id": "PMjUu-yDmOYp"
      },
      "source": [
        "Необходимо реализовать *expanding mean* схему. Ее суть заключается в том, чтобы пройти по отсортированному в определенном порядке датасету (датасет сортируется в самом начале задания) и для подсчета счетчика для строки $m$ использовать строки от $0$ до $m-1$. Вам будет необходимо воспользоваться pandas функциями [`cumsum`](https://pandas.pydata.org/pandas-docs/stable/generated/pandas.core.groupby.DataFrameGroupBy.cumsum.html) и [`cumcount`](https://pandas.pydata.org/pandas-docs/stable/generated/pandas.core.groupby.GroupBy.cumcount.html)."
      ]
    },
    {
      "cell_type": "code",
      "execution_count": 64,
      "metadata": {
        "colab": {
          "base_uri": "https://localhost:8080/"
        },
        "id": "Ql9urL9YmOYq",
        "outputId": "4af7a743-f4be-43ff-837b-0fd0d4ba7db9"
      },
      "outputs": [
        {
          "output_type": "stream",
          "name": "stdout",
          "text": [
            "0.5814548653773877\n",
            "0.4830386988621699\n"
          ]
        }
      ],
      "source": [
        "all_data.sort_values(['date_block_num', 'shop_id', 'item_id'], inplace=True)\n",
        "\n",
        "# Вычисляем кумулятивную сумму и количество для каждой группы\n",
        "all_data['cumsum'] = all_data.groupby(['shop_id', 'item_id'])['target'].cumsum() - all_data['target']\n",
        "all_data['cumcount'] = all_data.groupby(['shop_id', 'item_id']).cumcount()\n",
        "\n",
        "# Рассчитываем expanding mean, учитывая деление на 0\n",
        "all_data['expanding_mean'] = all_data['cumsum'] / all_data['cumcount'].where(all_data['cumcount'] != 0, 1)\n",
        "\n",
        "# Удаляем временные столбцы\n",
        "all_data.drop(['cumsum', 'cumcount'], axis=1, inplace=True)\n",
        "\n",
        "# Выводим корреляцию\n",
        "corr = np.corrcoef(all_data['target'].values, all_data['expanding_mean'].values)[0][1]\n",
        "print(corr)\n",
        "\n",
        "\n",
        "corr = np.corrcoef(all_data['target'].values, encoded_feature)[0][1]\n",
        "print(corr)"
      ]
    },
    {
      "cell_type": "markdown",
      "metadata": {
        "id": "Zoq6NDC1mOYq"
      },
      "source": [
        "Ожидаемый ответ 0.5025"
      ]
    }
  ],
  "metadata": {
    "kernelspec": {
      "display_name": "Python 3",
      "language": "python",
      "name": "python3"
    },
    "language_info": {
      "codemirror_mode": {
        "name": "ipython",
        "version": 3
      },
      "file_extension": ".py",
      "mimetype": "text/x-python",
      "name": "python",
      "nbconvert_exporter": "python",
      "pygments_lexer": "ipython3",
      "version": "3.7.6"
    },
    "colab": {
      "provenance": [],
      "include_colab_link": true
    }
  },
  "nbformat": 4,
  "nbformat_minor": 0
}