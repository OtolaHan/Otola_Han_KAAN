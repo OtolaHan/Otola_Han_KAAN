{
  "nbformat": 4,
  "nbformat_minor": 0,
  "metadata": {
    "coursera": {
      "course_slug": "linear-algebra-machine-learning",
      "graded_item_id": "Sfbnp",
      "launcher_item_id": "aPxf3"
    },
    "kernelspec": {
      "display_name": "Python 3",
      "language": "python",
      "name": "python3"
    },
    "language_info": {
      "codemirror_mode": {
        "name": "ipython",
        "version": 3
      },
      "file_extension": ".py",
      "mimetype": "text/x-python",
      "name": "python",
      "nbconvert_exporter": "python",
      "pygments_lexer": "ipython3",
      "version": "3.6.0"
    },
    "colab": {
      "name": "PageRank.ipynb",
      "provenance": [],
      "include_colab_link": true
    }
  },
  "cells": [
    {
      "cell_type": "markdown",
      "metadata": {
        "id": "view-in-github",
        "colab_type": "text"
      },
      "source": [
        "<a href=\"https://colab.research.google.com/github/OtolaHan/Otola_Han_KAAN/blob/main/PageRank.ipynb\" target=\"_parent\"><img src=\"https://colab.research.google.com/assets/colab-badge.svg\" alt=\"Open In Colab\"/></a>"
      ]
    },
    {
      "cell_type": "markdown",
      "metadata": {
        "collapsed": true,
        "id": "6wUTaJJka9-5"
      },
      "source": [
        "# PageRank\n",
        "В этом блокноте вы расширите свои знания о собственных векторах и собственных значениях, изучая алгоритм PageRank. Блокнот состоит из двух частей: первая представляет собой рабочий лист, который поможет вам быстрее понять, как работает алгоритм - здесь мы рассмотрим микроинтернет с менее чем 10 веб-сайтами и посмотрим, что он делает и что может пойти не так. Второй - это оценка, которая проверяет ваше применение собственной теории к этой проблеме путем написания кода и вычисления рейтинга страницы в большой сети, представляющей подсекцию Интернета."
      ]
    },
    {
      "cell_type": "markdown",
      "metadata": {
        "id": "YKBZr9NLa9-5"
      },
      "source": [
        "## Part 1 - Worksheet\n",
        "### Introduction\n",
        "\n",
        "PageRank (разработанный Ларри Пейджем и Сергеем Брином) произвел революцию в веб-поиске, создав ранжированный список веб-страниц на основе базовых возможностей подключения к сети.\n",
        "\n",
        "Алгоритм PageRank основан на идеальном случайном веб-серфере, который при переходе на страницу переходит на следующую страницу, щелкая ссылку. Пользователь имеет равную вероятность щелкнуть любую ссылку на странице и, достигнув страницы без ссылок, имеет равную вероятность перехода на любую другую страницу, введя ее URL. Кроме того, пользователь может иногда выбирать случайный URL вместо перехода по ссылкам на странице. PageRank - это ранжированный порядок страниц от наиболее к наименее вероятной странице, которую будет просматривать пользователь.\n"
      ]
    },
    {
      "cell_type": "code",
      "metadata": {
        "id": "C0K3t8MqbjNT",
        "colab": {
          "base_uri": "https://localhost:8080/"
        },
        "outputId": "2631398f-f972-45d2-ad66-794180873c1a"
      },
      "source": [
        "!wget https://github.com/andrew-veriga/MathForML/raw/master/MathForMLAssignes.zip\n",
        "!unzip -u MathForMLAssignes.zip\n",
        "!rm MathForMLAssignes.zip"
      ],
      "execution_count": 1,
      "outputs": [
        {
          "output_type": "stream",
          "name": "stdout",
          "text": [
            "--2024-01-23 17:28:43--  https://github.com/andrew-veriga/MathForML/raw/master/MathForMLAssignes.zip\n",
            "Resolving github.com (github.com)... 140.82.112.3\n",
            "Connecting to github.com (github.com)|140.82.112.3|:443... connected.\n",
            "HTTP request sent, awaiting response... 302 Found\n",
            "Location: https://raw.githubusercontent.com/andrew-veriga/MathForML/master/MathForMLAssignes.zip [following]\n",
            "--2024-01-23 17:28:43--  https://raw.githubusercontent.com/andrew-veriga/MathForML/master/MathForMLAssignes.zip\n",
            "Resolving raw.githubusercontent.com (raw.githubusercontent.com)... 185.199.108.133, 185.199.109.133, 185.199.110.133, ...\n",
            "Connecting to raw.githubusercontent.com (raw.githubusercontent.com)|185.199.108.133|:443... connected.\n",
            "HTTP request sent, awaiting response... 200 OK\n",
            "Length: 2369 (2.3K) [application/zip]\n",
            "Saving to: ‘MathForMLAssignes.zip’\n",
            "\n",
            "MathForMLAssignes.z 100%[===================>]   2.31K  --.-KB/s    in 0s      \n",
            "\n",
            "2024-01-23 17:28:43 (36.5 MB/s) - ‘MathForMLAssignes.zip’ saved [2369/2369]\n",
            "\n",
            "Archive:  MathForMLAssignes.zip\n",
            "  inflating: bearNecessities.py      \n",
            "  inflating: PageRankFunctions.py    \n"
          ]
        }
      ]
    },
    {
      "cell_type": "code",
      "metadata": {
        "id": "oDNvQfbfa9-5",
        "colab": {
          "base_uri": "https://localhost:8080/"
        },
        "outputId": "3101e538-2e9a-448f-ea5b-563a21af122c"
      },
      "source": [
        "# Before we begin, let's load the libraries.\n",
        "%pylab notebook\n",
        "import numpy as np\n",
        "import numpy.linalg as la\n",
        "from PageRankFunctions import *\n",
        "np.set_printoptions(suppress=True)"
      ],
      "execution_count": 2,
      "outputs": [
        {
          "output_type": "stream",
          "name": "stdout",
          "text": [
            "Populating the interactive namespace from numpy and matplotlib\n"
          ]
        }
      ]
    },
    {
      "cell_type": "markdown",
      "metadata": {
        "id": "pusP8gU7a9-6"
      },
      "source": [
        "### PageRank как задача линейной алгебры\n",
        "Представьте себе микроинтернет в котором есть только 6 вебсайтов (**A**vocado, **B**ullseye, **C**atBabel, **D**romeda, **e**Tings, and **F**aceSpace).\n",
        "Каждый веб-сайт ссылается на некоторые другие, и все они образуют сеть, как показано на рисунке.\n",
        "\n",
        "![A Micro-Internet](https://github.com/andrew-veriga/MathForML/raw/master/internet.png \"A Micro-Internet\")\n",
        "\n",
        "Принцип построения PageRank заключается в том, что важные веб-сайты будут ссылаться на важные веб-сайты.\n",
        "Этот несколько рекурсивный принцип ляжет в основу нашей идеи.\n",
        "\n",
        "Представьте себе 100 *Прокрастинирующих Патов* в нашем микро-Интернете, каждый просматривает один веб-сайт в один момент времени.\n",
        "\n",
        "Каждую минуту Паты переходят на своем сайте по ссылке на другой сайт в микроинтернет.\n",
        "\n",
        "Через некоторое время веб-сайты, на которые больше всего ссылаются, будут посещать больше Патов, и в конечном итоге на каждой минуте вместо одного Пата, покидающего веб-сайт, будет входить другой, сохраняя общее количество Патов на каждом веб-сайте постоянным.\n",
        "PageRank - это просто рейтинг веб-сайтов по тому, сколько на них отметок в конце этого процесса.\n",
        "\n",
        "Мы представляем количество Патов на каждом веб-сайте вектором,\n",
        "$$\\mathbf{r} = \\begin{bmatrix} r_A \\\\ r_B \\\\ r_C \\\\ r_D \\\\ r_E \\\\ r_F \\end{bmatrix}$$\n",
        "И пусть количество Патов на каждом веб-сайте в минуту $ i + 1 $ выводится из количества Патов в минуту $ i $ посредством преобразования матрицы.\n",
        "\n",
        "\n",
        "$$ \\mathbf{r}^{(i+1)} = L \\,\\mathbf{r}^{(i)}$$\n",
        "с матрицей $L$, имеющей вид,\n",
        "$$ L = \\begin{bmatrix}\n",
        "L_{A→A} & L_{B→A} & L_{C→A} & L_{D→A} & L_{E→A} & L_{F→A} \\\\\n",
        "L_{A→B} & L_{B→B} & L_{C→B} & L_{D→B} & L_{E→B} & L_{F→B} \\\\\n",
        "L_{A→C} & L_{B→C} & L_{C→C} & L_{D→C} & L_{E→C} & L_{F→C} \\\\\n",
        "L_{A→D} & L_{B→D} & L_{C→D} & L_{D→D} & L_{E→D} & L_{F→D} \\\\\n",
        "L_{A→E} & L_{B→E} & L_{C→E} & L_{D→E} & L_{E→E} & L_{F→E} \\\\\n",
        "L_{A→F} & L_{B→F} & L_{C→F} & L_{D→F} & L_{E→F} & L_{F→F} \\\\\n",
        "\\end{bmatrix}\n",
        "$$\n",
        "где столбцы представляют вероятность *ухода* с веб-сайта на любой другой веб-сайта, а сумма равна единице.\n",
        "Строки определяют, вероятность *входа* на веб-сайт с любого другого, и их сумма не должна равняться единице.\n",
        "Долгое время поведение этой системы - это когда $ \\mathbf{r}^{(i+1)} = \\mathbf{r}^{(i)}$, поэтому мы опустим здесь верхние индексы, и это позволяет нам писать,\n",
        "$$ L \\,\\mathbf{r} = \\mathbf{r}$$\n",
        "\n",
        "которое является уравнением на собственные значения для матрицы $L$ с собственным значением 1 (это гарантируется вероятностной структурой матрицы $L$)\n",
        "\n",
        "Заполните матрицу $ L $ ниже, в которой не указан столбец для веб-сайта *FaceSpace* (**F**).\n",
        "\n",
        "Помните, что это вероятность ухода с соотвествующего столбцу веб-сайта на другой, поэтому каждый столбец в сумме должен равняться единице (путем масштабирования по количеству ссылок)."
      ]
    },
    {
      "cell_type": "code",
      "metadata": {
        "id": "AphP8ruea9-6"
      },
      "source": [
        "# RЗаменить ??? здесь с вероятностью перехода по ссылке на каждый веб-сайт при выходе с веб-сайта F (FaceSpace).\n",
        "L = np.array([[0,   1/2, 1/3, 0, 0,   0 ],\n",
        "              [1/3, 0,   0,   0, 1/2, 0 ],\n",
        "              [1/3, 1/2, 0,   1, 0,   0 ],\n",
        "              [1/3, 0,   1/3, 0, 1/2, 0 ],\n",
        "              [0,   0,   0,   0, 0,   1 ],\n",
        "              [0,   0,   1/3, 0, 0,   0 ]])"
      ],
      "execution_count": 3,
      "outputs": []
    },
    {
      "cell_type": "markdown",
      "metadata": {
        "id": "dXcJEnV-a9-6"
      },
      "source": [
        "В принципе, мы могли бы использовать библиотеку линейной алгебры, как показано ниже, для вычисления собственных значений и векторов.\n",
        "\n",
        "И это сработает для небольшой системы. Но для больших систем это становится неуправляемым.\n",
        "\n",
        "А поскольку нас интересует только главный собственный вектор (тот, который имеет наибольшее собственное значение, которое в данном случае будет равно 1), мы можем использовать метод *степенной итерации*, который будет лучше масштабироваться, и он быстрее для больших систем.\n",
        "\n",
        "Используйте приведенный ниже код, чтобы узнать рейтинг страницы для этого микроинтернета."
      ]
    },
    {
      "cell_type": "code",
      "metadata": {
        "id": "D3znpS3ja9-6",
        "colab": {
          "base_uri": "https://localhost:8080/"
        },
        "outputId": "5b8292fb-22c6-4984-f17b-0c7a42034635"
      },
      "source": [
        "eVals, eVecs = la.eig(L) # Возвращает собственные вектор и значение\n",
        "order = np.absolute(eVals).argsort()[::-1] # Сортирует их по собственным значениям\n",
        "eVals = eVals[order]\n",
        "eVecs = eVecs[:,order]\n",
        "\n",
        "r = eVecs[:, 0] # Присваивает r главный собственный вектор\n",
        "100 * np.real(r / np.sum(r)) # приводит сумму собственных векторов к единице и умножает на количество прокрастинирующих Патов"
      ],
      "execution_count": 4,
      "outputs": [
        {
          "output_type": "execute_result",
          "data": {
            "text/plain": [
              "array([15.78947368, 10.52631579, 31.57894737, 21.05263158, 10.52631579,\n",
              "       10.52631579])"
            ]
          },
          "metadata": {},
          "execution_count": 4
        }
      ]
    },
    {
      "cell_type": "markdown",
      "metadata": {
        "id": "lUiFZ74Va9-6"
      },
      "source": [
        "Из этого списка мы можем увидеть количество откладываний на потом, которые мы ожидаем найти на каждом веб-сайте спустя долгое время.\n",
        "отсортированный по убыванию * популярности * (на основе этого показателя), рейтинг PageRank этого микроинтернета составляет:\n",
        "\n",
        "**C**atBabel, **D**romeda, **A**vocado, **F**aceSpace, **B**ullseye, **e**Tings\n",
        "\n",
        "Смотря на схему микро-интернета, вы этого ожидали?\n",
        "Убедитесь, что это разумный рейтинг: страницы выглядят важными, судя по количеству ссылок на них.\n",
        "\n",
        "Давайте теперь попробуем получить тот же результат, используя метод Power-Iteration, который был рассмотрен в лекции.\n",
        "Этот метод будет намного лучше при работе с большими системами.\n",
        "\n",
        "Сначала давайте настроим наш начальный вектор, $\\mathbf{r}^{(0)}$,\n",
        "так, чтобы у нас были 100 прокрастинирующих Патов, равномерно распределенных по всем нашим 6 веб-сайтам."
      ]
    },
    {
      "cell_type": "code",
      "metadata": {
        "id": "QdZBRCWOa9-6",
        "colab": {
          "base_uri": "https://localhost:8080/"
        },
        "outputId": "d933042d-6f3a-46a2-a9a3-2916fc1302df"
      },
      "source": [
        "r = 100 * np.ones(6) / 6 # Устанавливает этот вектор (6 записей размером 1/6 × 100 каждая)\n",
        "r # Показывает его значение"
      ],
      "execution_count": 5,
      "outputs": [
        {
          "output_type": "execute_result",
          "data": {
            "text/plain": [
              "array([16.66666667, 16.66666667, 16.66666667, 16.66666667, 16.66666667,\n",
              "       16.66666667])"
            ]
          },
          "metadata": {},
          "execution_count": 5
        }
      ]
    },
    {
      "cell_type": "markdown",
      "metadata": {
        "id": "uwgui2y_a9-6"
      },
      "source": [
        "Затем давайте обновим вектор до следующей минуты с помощью матрицы $L$.\n",
        "Выполняйте следующую ячейку несколько раз, пока ответ не стабилизируется."
      ]
    },
    {
      "cell_type": "code",
      "metadata": {
        "id": "n0rRk04va9-6",
        "colab": {
          "base_uri": "https://localhost:8080/"
        },
        "outputId": "0aacb56b-11aa-4fcc-f71b-a39466b38cfe"
      },
      "source": [
        "r = L @ r # Применить преобразование L к r\n",
        "r # Показать его значение\n",
        "# Повторно запустите эту ячейку несколько раз, чтобы получить правильный ответ."
      ],
      "execution_count": 6,
      "outputs": [
        {
          "output_type": "execute_result",
          "data": {
            "text/plain": [
              "array([13.88888889, 13.88888889, 30.55555556, 19.44444444, 16.66666667,\n",
              "        5.55555556])"
            ]
          },
          "metadata": {},
          "execution_count": 6
        }
      ]
    },
    {
      "cell_type": "markdown",
      "metadata": {
        "id": "r7OrMUe0a9-6"
      },
      "source": [
        "Мы можем автоматизировать применение этой матрицы несколько раз следующим образом:"
      ]
    },
    {
      "cell_type": "code",
      "metadata": {
        "id": "GTKhmMzDa9-6",
        "colab": {
          "base_uri": "https://localhost:8080/"
        },
        "outputId": "c8126bb9-3049-4150-b72a-7cc87cd5e7a3"
      },
      "source": [
        "r = 100 * np.ones(6) / 6 # обновить этот вектор единицами (6 записей со значениями = 1/6 × 100 каждая)\n",
        "for i in np.arange(100) : # повторить 100 раз\n",
        "    r = L @ r\n",
        "r"
      ],
      "execution_count": 7,
      "outputs": [
        {
          "output_type": "execute_result",
          "data": {
            "text/plain": [
              "array([15.78947368, 10.52631579, 31.57894737, 21.05263158, 10.52631579,\n",
              "       10.52631579])"
            ]
          },
          "metadata": {},
          "execution_count": 7
        }
      ]
    },
    {
      "cell_type": "markdown",
      "metadata": {
        "id": "P6dUINjja9-6"
      },
      "source": [
        "Или, что правильнее, мы можем продолжать цикл, пока не достигнем требуемой точности."
      ]
    },
    {
      "cell_type": "code",
      "metadata": {
        "id": "yRD4ykz5a9-6",
        "colab": {
          "base_uri": "https://localhost:8080/"
        },
        "outputId": "a37c6828-5792-41f9-b138-6401f330ae57"
      },
      "source": [
        "r = 100 * np.ones(6) / 6 # обновить этот вектор единицами (6 записей со значениями = 1/6 × 100 каждая)\n",
        "lastR = r\n",
        "r = L @ r\n",
        "i = 0\n",
        "while la.norm(lastR - r) > 0.01 :\n",
        "    lastR = r\n",
        "    r = L @ r\n",
        "    i += 1\n",
        "print(str(i) + \" iterations to convergence.\")\n",
        "r"
      ],
      "execution_count": 8,
      "outputs": [
        {
          "output_type": "stream",
          "name": "stdout",
          "text": [
            "34 iterations to convergence.\n"
          ]
        },
        {
          "output_type": "execute_result",
          "data": {
            "text/plain": [
              "array([15.7886508 , 10.52575708, 31.5817764 , 21.05090361, 10.52776558,\n",
              "       10.52514653])"
            ]
          },
          "metadata": {},
          "execution_count": 8
        }
      ]
    },
    {
      "cell_type": "markdown",
      "metadata": {
        "id": "M4yyl3Iua9-6"
      },
      "source": [
        "Посмотрите, порядок PageRank устанавливается довольно быстро, и вектор сходится к значению, которое мы вычислили ранее, после нескольких десятков повторов.\n",
        "\n",
        "Поздравляю! Вы только что рассчитали свой первый PageRank!"
      ]
    },
    {
      "cell_type": "markdown",
      "metadata": {
        "id": "s2PTKB2Ba9-6"
      },
      "source": [
        "### Параметр демпфирования\n",
        "\n",
        "Система, которую мы только что изучили, довольно быстро пришла к правильному ответу. Давайте рассмотрим расширение нашего микро-интернета, в котором что-то начинает идти не так.\n",
        "\n",
        "Допустим, в микроинтернет добавлен новый веб-сайт: **G**eoff.\n",
        "Этот веб-сайт связан с **F**aceSpace  и ссылается только на себя.\n",
        "\n",
        "![Расширенный микро-интернет](https://github.com/andrew-veriga/MathForML/raw/master/internet2.png \"An Expanded Micro-Internet\")\n",
        "\n",
        "Интуитивно понятно, что только *FaceSpace*, который находится в нижней половине рейтинга страницы, ссылается на этот веб-сайт среди двух других, на которые он ссылается,\n",
        "поэтому мы можем ожидать, что у сайта *Geoff* будет соответственно низкий рейтинг PageRank.\n",
        "\n",
        "Создайте новую матрицу $L$ для расширенного микро-интернета и используйте Power-Iteration для вектора Прокрастинирующий Пат.\n",
        "Посмотрим, что произойдет…"
      ]
    },
    {
      "cell_type": "code",
      "metadata": {
        "id": "Ag8ghJLaa9-6"
      },
      "source": [
        "# Мы назовем её L2, чтобы отличать от предыдущей L\n",
        "L2 = np.array([[0,   1/2, 1/3, 0, 0,   0,    0 ],\n",
        "               [1/3, 0,   0,   0, 1/2, 0,    0 ],\n",
        "               [1/3, 1/2, 0,   1, 0,   0,    0 ],\n",
        "               [1/3, 0,   1/3, 0, 1/2, 0,    0 ],\n",
        "               [0,   0,   0,   0, 0,   1/2,  0 ],\n",
        "               [0,   0,   1/3, 0, 0,   0.5 , 0 ],\n",
        "               [0,   0,   0,   0, 0,   0 ,   1 ]])"
      ],
      "execution_count": 9,
      "outputs": []
    },
    {
      "cell_type": "code",
      "metadata": {
        "id": "KmRDqgJwa9-6",
        "colab": {
          "base_uri": "https://localhost:8080/"
        },
        "outputId": "1202bed6-012e-4c8e-d189-34efb6fb34c0"
      },
      "source": [
        "r = 100 * np.ones(7) / 7 # задать начальный единичный вектор (7 записей со значениями = 1/7 × 100 каждая)\n",
        "lastR = r\n",
        "r = L2 @ r\n",
        "i = 0\n",
        "while la.norm(lastR - r) > 0.01 :\n",
        "    lastR = r\n",
        "    r = L2 @ r\n",
        "    i += 1\n",
        "print(str(i) + \" итераций до схождения.\")\n",
        "r"
      ],
      "execution_count": 10,
      "outputs": [
        {
          "output_type": "stream",
          "name": "stdout",
          "text": [
            "13 итераций до схождения.\n"
          ]
        },
        {
          "output_type": "execute_result",
          "data": {
            "text/plain": [
              "array([12.24353453,  8.16363913, 24.49149172, 16.32584081,  8.16378892,\n",
              "       16.32599061, 14.28571429])"
            ]
          },
          "metadata": {},
          "execution_count": 10
        }
      ]
    },
    {
      "cell_type": "markdown",
      "metadata": {
        "id": "R3MfBCn2a9-6"
      },
      "source": [
        "Что-то тут не очень. Похоже, что *Джефф* забирает весь трафик в микро-интернете и каким-то образом занимает верхние позиции в рейтинге страниц.\n",
        "Такое поведение можно понять, потому что как только Пэт попадает на сайт *Джеффа*, он не может покинуть его, так как все ссылки ведут обратно на Джеффа.\n",
        "\n",
        "Чтобы бороться с этим, мы можем добавить небольшую вероятность того, что прокрастинирующие Паты не переходят по какой-либо ссылке на веб-странице, а вместо этого посещают веб-сайт в микроинтернете случайным образом.\n",
        "Пусть вероятность того, что они перейдут по ссылке, составляет $d$, и поэтому вероятность выбора случайного веб-сайта составляет $1-d$.\n",
        "Мы можем использовать новую матрицу, чтобы выяснить, куда каждую минуту заходит Пэт.\n",
        "$$ M = d \\, L + \\frac{1-d}{n} \\, J $$\n",
        "где $J$ - матрица $n\\times n$, где каждый элемент равен единице.\n",
        "\n",
        "Если $ d $ равен единице, у нас тот же случай, что был и раньше, но если $ d $ равен нулю, мы всегда будем посещать случайную веб-страницу, и, следовательно, все веб-страницы будут иметь одинаковую вероятность и равный рейтинг.\n",
        "Чтобы это расширение работало лучше всего, $ 1-d $ должно быть довольно маленьким - хотя мы не будем вдаваться в обсуждение того, насколько он маленький.\n",
        "\n",
        "Давайте повторим этот PageRank с этим расширением."
      ]
    },
    {
      "cell_type": "code",
      "metadata": {
        "id": "areWL0Yna9-7"
      },
      "source": [
        "d = 0.5 # можете поиграть с этим параметром после однократного запуска кода.\n",
        "M = d * L2 + (1-d)/7 * np.ones([7, 7]) # np.ones() - матрица J , состоящая из единиц."
      ],
      "execution_count": 11,
      "outputs": []
    },
    {
      "cell_type": "code",
      "metadata": {
        "id": "MdV38eNda9-7",
        "colab": {
          "base_uri": "https://localhost:8080/"
        },
        "outputId": "6bdf1992-a646-442a-8ac8-36937f6b9a0d"
      },
      "source": [
        "r = 100 * np.ones(7) / 7 # вектор из 7 одинаковых значений, каждое равно 1/7 × 100\n",
        "lastR = r\n",
        "r = M @ r\n",
        "i = 0\n",
        "while la.norm(lastR - r) > 0.01 :\n",
        "    lastR = r\n",
        "    r = M @ r\n",
        "    i += 1\n",
        "print(str(i) + \" итераций до схождения.\")\n",
        "r"
      ],
      "execution_count": 12,
      "outputs": [
        {
          "output_type": "stream",
          "name": "stdout",
          "text": [
            "5 итераций до схождения.\n"
          ]
        },
        {
          "output_type": "execute_result",
          "data": {
            "text/plain": [
              "array([13.50739704, 12.05460961, 20.11199658, 15.40568488, 10.64176117,\n",
              "       13.99283644, 14.28571429])"
            ]
          },
          "metadata": {},
          "execution_count": 12
        }
      ]
    },
    {
      "cell_type": "markdown",
      "metadata": {
        "id": "RYRCU19-a9-7"
      },
      "source": [
        "Так, безусловно, лучше: PageRank дает разумные числа для прокрастинирующих Патов, которые появляются на каждой веб-странице.\n",
        "Однако этот метод по-прежнему предсказывает, что у Джеффа высокий рейтинг веб-страницы.\n",
        "Это можно рассматривать как следствие использования маленькой сети. Мы также могли бы обойти проблему, не подсчитывая ссылки на себя при создании L-матрицы (если у веб-сайта нет исходящих ссылок, сделайте его ссылающимся на все сайты одинаково).\n",
        "Мы не будем углубляться в этот метод, поскольку это уже сфера улучшения PageRank, а не задач собственных векторов и собственных значений.\n",
        "\n",
        "Теперь, когда вы получили представление о PageRank, вы можете создать свой собственный код для расчета PageRank веб-сайта с тысячами записей.\n",
        "\n",
        "Удачи!"
      ]
    },
    {
      "cell_type": "markdown",
      "metadata": {
        "id": "a3BL5gQGa9-7"
      },
      "source": [
        "## Часть 2 - Задание\n",
        "В этом задании от вас требуется создать функцию, которая может вычислить PageRank для произвольно большой матрицы вероятностей.\n",
        "Это последнее задание курса даст меньше рекомендаций, чем предыдущие.\n",
        "Ожидается, что вы будете использовать код из предыдущего примера и приспособите его под свои нужды.\n",
        "\n"
      ]
    },
    {
      "cell_type": "code",
      "metadata": {
        "id": "Th6xa8MIa9-7"
      },
      "source": [
        "def pageRank(linkMatrix, d):\n",
        "    n = linkMatrix.shape[0]\n",
        "    M = d * linkMatrix\n",
        "    # Обработка висячих узлов\n",
        "    dangling_nodes = (linkMatrix.sum(axis=1) == 0)\n",
        "    for i in range(n):\n",
        "        if dangling_nodes[i]:\n",
        "            M[i, :] = 1.0 / n\n",
        "    M += (1-d)/n * np.ones([n, n])\n",
        "\n",
        "    r = np.ones(n) / n\n",
        "    last_r = np.zeros(n)\n",
        "    epsilon = 1.0e-8\n",
        "\n",
        "    while np.linalg.norm(r - last_r) > epsilon:\n",
        "        last_r = r\n",
        "        r = M @ r\n",
        "        r /= np.linalg.norm(r, 1)\n",
        "\n",
        "    return r"
      ],
      "execution_count": 35,
      "outputs": []
    },
    {
      "cell_type": "markdown",
      "metadata": {
        "id": "rjqtvbGYa9-7"
      },
      "source": [
        "## Протестируйте свой код перед отправкой\n",
        "Чтобы проверить код, который вы написали выше, запустите ячейку (выберите ячейку выше, затем нажмите кнопку воспроизведения [▶ |] или нажмите Shift-Enter).\n",
        "Затем вы можете использовать приведенный ниже код, чтобы проверить свою функцию.\n",
        "вы можете редактировать и запускать его сколько угодно."
      ]
    },
    {
      "cell_type": "code",
      "metadata": {
        "id": "S2OqwXAsa9-7",
        "colab": {
          "base_uri": "https://localhost:8080/"
        },
        "outputId": "f78cc87c-bd3a-445e-a143-2ec4ae77ee39"
      },
      "source": [
        "# Use the following function to generate internets of different sizes.\n",
        "generate_internet(5)"
      ],
      "execution_count": 36,
      "outputs": [
        {
          "output_type": "execute_result",
          "data": {
            "text/plain": [
              "array([[1. , 0.2, 0.2, 0. , 0.2],\n",
              "       [0. , 0.2, 0.2, 0. , 0.2],\n",
              "       [0. , 0.2, 0.2, 0. , 0.2],\n",
              "       [0. , 0.2, 0.2, 1. , 0.2],\n",
              "       [0. , 0.2, 0.2, 0. , 0.2]])"
            ]
          },
          "metadata": {},
          "execution_count": 36
        }
      ]
    },
    {
      "cell_type": "code",
      "metadata": {
        "id": "Xy0PEYiLa9-7",
        "colab": {
          "base_uri": "https://localhost:8080/"
        },
        "outputId": "4607e66a-1c8e-43f7-9c16-e1ee28828e78"
      },
      "source": [
        "# Test your PageRank method against the built in \"eig\" method.\n",
        "# You should see yours is a lot faster for large internets\n",
        "\n",
        "# Сравните свой метод PageRank со встроенным методом 'eig'.\n",
        "# Вы должны увидеть, что ваш сайт работает намного быстрее для больших сетей\n",
        "L = generate_internet(10)\n",
        "pageRank_vector = pageRank(L, 0.85)\n",
        "print(pageRank_vector)"
      ],
      "execution_count": 37,
      "outputs": [
        {
          "output_type": "stream",
          "name": "stdout",
          "text": [
            "[0.07883818 0.05532504 0.05532504 0.05532504 0.05532504 0.21207929\n",
            " 0.21207929 0.0318119  0.0318119  0.21207929]\n"
          ]
        }
      ]
    },
    {
      "cell_type": "code",
      "metadata": {
        "id": "Qshn9KFya9-7",
        "colab": {
          "base_uri": "https://localhost:8080/"
        },
        "outputId": "e0797e1d-cbe0-4ee4-997c-2ae0480abc2f"
      },
      "source": [
        "pageRank(L, 1)"
      ],
      "execution_count": 38,
      "outputs": [
        {
          "output_type": "execute_result",
          "data": {
            "text/plain": [
              "array([0.00000002, 0.00000001, 0.00000001, 0.00000001, 0.00000001,\n",
              "       0.33333331, 0.33333331, 0.        , 0.        , 0.33333331])"
            ]
          },
          "metadata": {},
          "execution_count": 38
        }
      ]
    },
    {
      "cell_type": "code",
      "metadata": {
        "id": "c9xsmLXIa9-7",
        "colab": {
          "base_uri": "https://localhost:8080/"
        },
        "outputId": "c315185d-54af-4497-9c68-987c5ecd9ce6"
      },
      "source": [
        "\n",
        "# Обратите внимание, это вычисление собственных значений матрицы ссылок, L,\n",
        "# без демпфирования. Это может дать другие результаты, чем функция pageRank.\n",
        "# Если хотите, вы можете изменить эту ячейку, чтобы включить демпфирование.\n",
        "\n",
        "eVals, eVecs = la.eig(L) # выдает собственные векторы и значения\n",
        "order = np.absolute(eVals).argsort()[::-1] # сортировка по собственным значениям\n",
        "eVals = eVals[order]\n",
        "eVecs = eVecs[:,order]\n",
        "\n",
        "r = eVecs[:, 0]\n",
        "100 * np.real(r / np.sum(r))"
      ],
      "execution_count": 39,
      "outputs": [
        {
          "output_type": "execute_result",
          "data": {
            "text/plain": [
              "array([ 0.0000001 ,  0.00000007,  0.00000007,  0.00000007,  0.00000007,\n",
              "       33.33333319, 33.33333319,  0.00000003,  0.00000003, 33.33333319])"
            ]
          },
          "metadata": {},
          "execution_count": 39
        }
      ]
    },
    {
      "cell_type": "code",
      "metadata": {
        "id": "GrBZNO54a9-7",
        "colab": {
          "base_uri": "https://localhost:8080/",
          "height": 430
        },
        "outputId": "0f32c44e-5e10-446a-c95c-e0bdebee838b"
      },
      "source": [
        "# Вы можете просмотреть PageRank графически.\n",
        "# Этот код будет рисовать столбчатую диаграмму, для каждого веб-сайта в сгенерированном Интернете,\n",
        "# Высота каждого столбца будет рейтингом в PageRank.\n",
        "# запустите этот код, чтобы увидеть PageRank для каждого варианта интернета, который вы создали.\n",
        "# Надеюсь, вы увидите, что вы могли бы ожидать:\n",
        "# есть несколько кластеров полезных веб-сайтов, но большинство в Интернете - мусор\n",
        "%matplotlib inline\n",
        "r = pageRank(generate_internet(100), 0.9)\n",
        "plt.bar(arange(r.shape[0]), r);"
      ],
      "execution_count": 40,
      "outputs": [
        {
          "output_type": "display_data",
          "data": {
            "text/plain": [
              "<Figure size 640x480 with 1 Axes>"
            ],
            "image/png": "[encoded data removed]"
          },
          "metadata": {}
        }
      ]
    },
    {
      "cell_type": "code",
      "metadata": {
        "id": "4-EMOkfVa9-7"
      },
      "source": [],
      "execution_count": 18,
      "outputs": []
    }
  ]
}